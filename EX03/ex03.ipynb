{
 "cells": [
  {
   "cell_type": "markdown",
   "metadata": {
    "deletable": false,
    "editable": false,
    "nbgrader": {
     "cell_type": "markdown",
     "checksum": "90c054d37f6d207b6c795082e660f097",
     "grade": false,
     "grade_id": "cell-e05969ec582a0b26",
     "locked": true,
     "schema_version": 3,
     "solution": false,
     "task": false
    }
   },
   "source": [
    "# Spark SQL\n",
    "## Lab assignment: Exercises with MapReduce on Spark SQL - Dataframes\n",
    "\n",
    "The aim of this notebook is to play with the DataFrame API of Apache Spark, aiming to solve the same MapReduce exercises we did for the previous labs.\n",
    "\n",
    "The key difference will be the programming style, which will be more SQL-like. You should always use the functions provided by SparkSQL, I will import these functions as 'F', so we know for sure we are using Spark functions and not Python functions!\n",
    "\n",
    "**Note**: I have decided to leave out the exercise about the list of common friends between pairs of friends with DataFrames. Whilst definitely possible, I don't see much point in doing so. You could try and let me know how you get on with it, but you might need to use User-Defined Functions, or other functions I didn't explain."
   ]
  },
  {
   "cell_type": "markdown",
   "metadata": {
    "deletable": false,
    "editable": false,
    "nbgrader": {
     "cell_type": "markdown",
     "checksum": "f9d8fa43bd5d45e9dd31f766244ea7a8",
     "grade": false,
     "grade_id": "cell-77734fdb789e84f6",
     "locked": true,
     "schema_version": 3,
     "solution": false,
     "task": false
    }
   },
   "source": [
    "## Submission and marking criteria\n",
    "\n",
    "You should complete this notebook and add your solutions to it. When you are done, rename your completed notebook as `ex03.ipynb`. \n",
    "\n",
    "Important notes:\n",
    "- The **group leader** must submit the `ex03.ipynb` file on Moodle.\n",
    "- **Each member of the group** must complete the peer review survey and their contribution statement using this [link](https://forms.office.com/e/aAFaCQ2uxU). **You can only submit this survey ONCE**.\n",
    "- This lab is marked out of 100 marks. We give you 10 marks for completing exercise 0 with our help, and the three remaining exercises are worth 30 marks each.\n",
    "- The marking will be focused on:\n",
    "    - Code that does solve the task correctly (15 marks).\n",
    "    - Efficiency of the solution (15 marks).\n",
    "    - Minor mistakes will deduct marks from each exercise.\n",
    "- **Submission deadline: 15th March 2024 at 3pm**"
   ]
  },
  {
   "cell_type": "markdown",
   "metadata": {},
   "source": [
    "Team1: S.P.A.W.N.\n",
    "\n",
    "| #  | Email                    | Username | Name            | ID       |\n",
    "|----|--------------------------|----------|-----------------|----------|\n",
    "| 1  | psxny2@nottingham.ac.uk  | psxny2   | NAI-JUI YEH     | 20568835 |\n",
    "| 2  | Psxws7@nottingham.ac.uk  | psxws7   | Weiyi Sun       | 20605391 |\n",
    "| 3  | psxad13@nottingham.ac.uk | psxad13  | Anasuya Dutta   | 20594248 |\n",
    "| 4  | psxpp5@nottingham.ac.uk  | psxpp5   | Parth Mihir Patel | 20539301 |\n",
    "| 5  | psxss33@nottingham.ac.uk | psxss33  | Shashwat Sinha  | 20520082 |\n",
    "| 6  | psxap13@nottingham.ac.uk | psxap13  | Aditya Purswani | 20596344 |\n"
   ]
  },
  {
   "cell_type": "markdown",
   "metadata": {
    "deletable": false,
    "editable": false,
    "nbgrader": {
     "cell_type": "markdown",
     "checksum": "b9943afb7a5f822050995c1ba038ce4d",
     "grade": false,
     "grade_id": "cell-2cec9fd6229659a2",
     "locked": true,
     "schema_version": 3,
     "solution": false,
     "task": false
    }
   },
   "source": [
    "## Set-up"
   ]
  },
  {
   "cell_type": "markdown",
   "metadata": {
    "deletable": false,
    "editable": false,
    "nbgrader": {
     "cell_type": "markdown",
     "checksum": "cede54f3c493570a8b81ff2e2103faa4",
     "grade": false,
     "grade_id": "cell-40a6e2427a09ad72",
     "locked": true,
     "schema_version": 3,
     "solution": false,
     "task": false
    }
   },
   "source": [
    "The first thing we need to do to start working with Spark is to initialize the `SparkSession`. We will also import a few libraries we will use. *Remember if you are using Databricks that `spark` and `sc` are already available to you and don't need initializing.* "
   ]
  },
  {
   "cell_type": "code",
   "execution_count": 2,
   "metadata": {},
   "outputs": [],
   "source": [
    "import platform\n",
    "if platform.system() == \"Windows\": # for windows\n",
    "    import findspark  \n",
    "    print(\"Windows OS detected. Init findspark\")\n",
    "    findspark.init()"
   ]
  },
  {
   "cell_type": "code",
   "execution_count": 33,
   "metadata": {},
   "outputs": [],
   "source": [
    "from pyspark.sql import SparkSession\n",
    "\n",
    "spark = SparkSession \\\n",
    "    .builder \\\n",
    "    .master(\"local[*]\") \\\n",
    "    .appName(\"Spark SQL Lab\") \\\n",
    "    .getOrCreate() \n",
    "\n",
    "sc = spark.sparkContext "
   ]
  },
  {
   "cell_type": "code",
   "execution_count": 34,
   "metadata": {},
   "outputs": [],
   "source": [
    "%matplotlib inline \n",
    "import matplotlib.pyplot as plt\n",
    "from pyspark.sql import functions as F  # I import all Spark Functions, like length, when, explode...\n",
    "from pyspark.sql import Row\n",
    "\n",
    "# Helper function to test the correctness of the solutions\n",
    "def test(var, val, msg=\"\"):\n",
    "    print(\"1 test passed.\") if var == val else print(\"1 test failed. \" + msg)"
   ]
  },
  {
   "cell_type": "markdown",
   "metadata": {
    "deletable": false,
    "editable": false,
    "nbgrader": {
     "cell_type": "markdown",
     "checksum": "c5b54d35fcd453b8d0e605376a51d483",
     "grade": false,
     "grade_id": "cell-284cbe6140883e04",
     "locked": true,
     "schema_version": 3,
     "solution": false,
     "task": false
    }
   },
   "source": [
    "## Exercise 0: Word Count with DataFrames\n",
    "\n",
    "As a warm-up, let's implement the Word Count with DataFrames. As in the previous lab, you're as asked to implement a `word_count(file_path)` function that counts the number of words in a document or a number of text documents provided in the input path.\n",
    "\n",
    "**Input:** The path to a text file\n",
    "\n",
    "**Output:** (word, count) - only the 10 words with the highest frequency!\n",
    "\n",
    "Recommended steps:\n",
    "1. Read the file or files. Each line should be an element of the DataFrame.\n",
    "2. Split the lines into words. (*transformation*)\n",
    "3. Filter empty words (`''`) resulting from previous steps. (*transformation*)\n",
    "4. Count the number of occurrences of each word. (*action*)\n",
    "5. Return to the driver program the 10 most repeated words. (*action*)\n",
    "\n",
    "**Additional challenge**: Improve the word count, eliminating any punctuation marks and avoid word duplicated due to capitalisation. *Advice*: Use SQL functions like: regexp_replace, trim, col or lower.\n",
    "\n",
    "We are providing a step-by-step solution for this exercise below (yes! we are this nice!), but we suggest you try it yourself first.\n",
    "\n",
    "                                                                                                       [10 marks]"
   ]
  },
  {
   "cell_type": "code",
   "execution_count": 35,
   "metadata": {
    "deletable": false,
    "nbgrader": {
     "cell_type": "code",
     "checksum": "5144d45aab8c1b1c7cc0c98431635141",
     "grade": false,
     "grade_id": "cell-75b6d31821a2b65a",
     "locked": false,
     "schema_version": 3,
     "solution": true,
     "task": false
    }
   },
   "outputs": [
    {
     "data": {
      "text/plain": [
       "[Row(words_in_file='the', count=20923),\n",
       " Row(words_in_file='and', count=16606),\n",
       " Row(words_in_file='to', count=13492),\n",
       " Row(words_in_file='of', count=12866),\n",
       " Row(words_in_file='that', count=7164),\n",
       " Row(words_in_file='a', count=7003),\n",
       " Row(words_in_file='in', count=6860),\n",
       " Row(words_in_file='I', count=5756),\n",
       " Row(words_in_file='he', count=5640),\n",
       " Row(words_in_file='for', count=4534)]"
      ]
     },
     "execution_count": 35,
     "metadata": {},
     "output_type": "execute_result"
    }
   ],
   "source": [
    "def word_count(file_path):\n",
    "    # <FILL-IN WITH YOUR CODE>\n",
    "    df = spark.read.text(file_path)\n",
    "    output = df.select(F.explode(F.split(\"value\", \" \")).alias(\"words_in_file\")) \\\n",
    "        .filter('words_in_file != \"\"').groupBy(\"words_in_file\").count() \\\n",
    "        .sort(\"count\", ascending=False).take(10)\n",
    "    \n",
    "    return output\n",
    "# Test the function with quixote.txt file\n",
    "word_count(\"data/quixote.txt\")    "
   ]
  },
  {
   "cell_type": "markdown",
   "metadata": {
    "deletable": false,
    "editable": false,
    "nbgrader": {
     "cell_type": "markdown",
     "checksum": "e8a532106b3b344effb6eaebcd823835",
     "grade": false,
     "grade_id": "cell-7620a7a5daf517e3",
     "locked": true,
     "schema_version": 3,
     "solution": false,
     "task": false
    }
   },
   "source": [
    "The program should pass the following test:"
   ]
  },
  {
   "cell_type": "code",
   "execution_count": 37,
   "metadata": {
    "deletable": false,
    "editable": false,
    "nbgrader": {
     "cell_type": "code",
     "checksum": "f709c96a3dc96d23af1f7bc13f6890e8",
     "grade": true,
     "grade_id": "cell-ef044fd580a494e6",
     "locked": true,
     "points": 5,
     "schema_version": 3,
     "solution": false
    }
   },
   "outputs": [
    {
     "name": "stdout",
     "output_type": "stream",
     "text": [
      "[Row(words_in_file='the', count=20923), Row(words_in_file='and', count=16606), Row(words_in_file='to', count=13492), Row(words_in_file='of', count=12866), Row(words_in_file='that', count=7164), Row(words_in_file='a', count=7003), Row(words_in_file='in', count=6860), Row(words_in_file='I', count=5756), Row(words_in_file='he', count=5640), Row(words_in_file='for', count=4534)]\n",
      "1 test passed.\n"
     ]
    }
   ],
   "source": [
    "top10_quixote = word_count(\"data/quixote.txt\")\n",
    "print(top10_quixote)\n",
    "test(top10_quixote, [('the', 20923), ('and', 16606), ('to', 13492), ('of', 12866), \n",
    "                                  ('that', 7164), ('a', 7003), ('in', 6860), ('I', 5756), ('he', 5640), \n",
    "                                  ('for', 4534)], \"Try again!\")"
   ]
  },
  {
   "cell_type": "markdown",
   "metadata": {},
   "source": [
    "### Step-by-step Solution"
   ]
  },
  {
   "cell_type": "code",
   "execution_count": 38,
   "metadata": {},
   "outputs": [],
   "source": [
    "df_text = spark.read.text(\"data/quixote.txt\")"
   ]
  },
  {
   "cell_type": "markdown",
   "metadata": {},
   "source": [
    "We are going to play with this for a bit, so let's cache it."
   ]
  },
  {
   "cell_type": "code",
   "execution_count": 39,
   "metadata": {},
   "outputs": [
    {
     "data": {
      "text/plain": [
       "DataFrame[value: string]"
      ]
     },
     "execution_count": 39,
     "metadata": {},
     "output_type": "execute_result"
    }
   ],
   "source": [
    "df_text.cache()"
   ]
  },
  {
   "cell_type": "markdown",
   "metadata": {},
   "source": [
    "Let's see the content of this file:"
   ]
  },
  {
   "cell_type": "code",
   "execution_count": 40,
   "metadata": {},
   "outputs": [
    {
     "name": "stdout",
     "output_type": "stream",
     "text": [
      "+--------------------------------------------------------------------------------+\n",
      "|value                                                                           |\n",
      "+--------------------------------------------------------------------------------+\n",
      "|                                                                                |\n",
      "|The Project Gutenberg EBook of The History of Don Quixote by Miguel de Cervantes|\n",
      "|                                                                                |\n",
      "|This eBook is for the use of anyone anywhere at no cost and with                |\n",
      "|almost no restrictions whatsoever.  You may copy it, give it away or            |\n",
      "|re-use it under the terms of the Project Gutenberg License included             |\n",
      "|with this eBook or online at www.gutenberg.org                                  |\n",
      "|                                                                                |\n",
      "|                                                                                |\n",
      "|Title: The History of Don Quixote                                               |\n",
      "+--------------------------------------------------------------------------------+\n",
      "only showing top 10 rows\n",
      "\n"
     ]
    }
   ],
   "source": [
    "df_text.select(\"*\").show(10, False)"
   ]
  },
  {
   "cell_type": "code",
   "execution_count": 41,
   "metadata": {},
   "outputs": [
    {
     "name": "stdout",
     "output_type": "stream",
     "text": [
      "root\n",
      " |-- value: string (nullable = true)\n",
      "\n"
     ]
    }
   ],
   "source": [
    "df_text.printSchema()"
   ]
  },
  {
   "cell_type": "markdown",
   "metadata": {},
   "source": [
    "As you can see, there isn't much structure in that DataFrame. Spark has inferred a single column, as a string, and every row is a line of the text."
   ]
  },
  {
   "cell_type": "markdown",
   "metadata": {},
   "source": [
    "As we did before, let's try to split this by blank space. To do so, we can use the `split` function from SparkSQL. This function takes two arguments: the column name where you want to apply the split, and the 'pattern' you want to use to split the string upon. This function returns an array of Column type. Similar to Column operations, this function needs to be used in conjunction with a transformation (e.g. `select`)."
   ]
  },
  {
   "cell_type": "code",
   "execution_count": 42,
   "metadata": {},
   "outputs": [
    {
     "name": "stdout",
     "output_type": "stream",
     "text": [
      "+-----------------------------------------------------------------------------------------------+\n",
      "|split(value,  , -1)                                                                            |\n",
      "+-----------------------------------------------------------------------------------------------+\n",
      "|[]                                                                                             |\n",
      "|[The, Project, Gutenberg, EBook, of, The, History, of, Don, Quixote, by, Miguel, de, Cervantes]|\n",
      "|[]                                                                                             |\n",
      "|[This, eBook, is, for, the, use, of, anyone, anywhere, at, no, cost, and, with]                |\n",
      "|[almost, no, restrictions, whatsoever., , You, may, copy, it,, give, it, away, or]             |\n",
      "|[re-use, it, under, the, terms, of, the, Project, Gutenberg, License, included]                |\n",
      "|[with, this, eBook, or, online, at, www.gutenberg.org]                                         |\n",
      "|[]                                                                                             |\n",
      "|[]                                                                                             |\n",
      "|[Title:, The, History, of, Don, Quixote]                                                       |\n",
      "+-----------------------------------------------------------------------------------------------+\n",
      "only showing top 10 rows\n",
      "\n"
     ]
    }
   ],
   "source": [
    "df_text.select(F.split(\"value\", \" \")) \\\n",
    "    .show(10, False)"
   ]
  },
  {
   "cell_type": "markdown",
   "metadata": {},
   "source": [
    "We can now use `explode` to expand each one of the elements of the lists, so that, we create a Row for each element of the arrays in the column `value`. We will call the split function inside of the explode!"
   ]
  },
  {
   "cell_type": "code",
   "execution_count": 43,
   "metadata": {},
   "outputs": [
    {
     "name": "stdout",
     "output_type": "stream",
     "text": [
      "+---------+\n",
      "|      col|\n",
      "+---------+\n",
      "|         |\n",
      "|      The|\n",
      "|  Project|\n",
      "|Gutenberg|\n",
      "|    EBook|\n",
      "|       of|\n",
      "|      The|\n",
      "|  History|\n",
      "|       of|\n",
      "|      Don|\n",
      "+---------+\n",
      "only showing top 10 rows\n",
      "\n"
     ]
    }
   ],
   "source": [
    "df_text.select( \\\n",
    "      F.explode(F.split(\"value\", \" \")) \\\n",
    "    ).show(10)"
   ]
  },
  {
   "cell_type": "markdown",
   "metadata": {},
   "source": [
    "We can use `alias()` to give a new name, e.g. `word`:"
   ]
  },
  {
   "cell_type": "code",
   "execution_count": 44,
   "metadata": {},
   "outputs": [
    {
     "name": "stdout",
     "output_type": "stream",
     "text": [
      "+---------+\n",
      "|     word|\n",
      "+---------+\n",
      "|         |\n",
      "|      The|\n",
      "|  Project|\n",
      "|Gutenberg|\n",
      "|    EBook|\n",
      "|       of|\n",
      "|      The|\n",
      "|  History|\n",
      "|       of|\n",
      "|      Don|\n",
      "+---------+\n",
      "only showing top 10 rows\n",
      "\n"
     ]
    }
   ],
   "source": [
    "df_text.select( \\\n",
    "        F.explode(F.split(\"value\", \" \")) \\\n",
    "        .alias(\"word\") \\\n",
    "    ).show(10)"
   ]
  },
  {
   "cell_type": "markdown",
   "metadata": {},
   "source": [
    "Let's filter out empty words. That's very similar to what we did with RDDs."
   ]
  },
  {
   "cell_type": "code",
   "execution_count": 45,
   "metadata": {},
   "outputs": [
    {
     "name": "stdout",
     "output_type": "stream",
     "text": [
      "+---------+\n",
      "|     word|\n",
      "+---------+\n",
      "|      The|\n",
      "|  Project|\n",
      "|Gutenberg|\n",
      "|    EBook|\n",
      "|       of|\n",
      "|      The|\n",
      "|  History|\n",
      "|       of|\n",
      "|      Don|\n",
      "|  Quixote|\n",
      "+---------+\n",
      "only showing top 10 rows\n",
      "\n"
     ]
    }
   ],
   "source": [
    "df_text.select( \\\n",
    "           F.explode(F.split(\"value\", \" \")) \\\n",
    "          .alias(\"word\")) \\\n",
    "      .filter(\"word != ''\") \\\n",
    "      .show(10)"
   ]
  },
  {
   "cell_type": "markdown",
   "metadata": {},
   "source": [
    "With RDDs, we needed to transform this into a tuple k,value. But with DataFrames, we can do the same operation by telling Spark which one is the attribute that will be used to group the DataFrame (i.e. the only column: `word`).\n",
    "We can use `groupBy`, but this is a transformation that allows us to perform aggregations, it needs to be used together with an aggregation operation like count, max, avg, etc."
   ]
  },
  {
   "cell_type": "code",
   "execution_count": 46,
   "metadata": {},
   "outputs": [
    {
     "data": {
      "text/plain": [
       "DataFrame[word: string, count: bigint]"
      ]
     },
     "execution_count": 46,
     "metadata": {},
     "output_type": "execute_result"
    }
   ],
   "source": [
    "df_text.select( \\\n",
    "              F.explode(F.split(\"value\", \" \")) \\\n",
    "              .alias(\"word\")) \\\n",
    "        .filter(\"word != ''\") \\\n",
    "        .groupBy(\"word\").count() "
   ]
  },
  {
   "cell_type": "markdown",
   "metadata": {},
   "source": [
    "Oh, we didn't get the word count, why? the method `count` as an aggregation is NOT an action! but a transformation. We still need to take it back to the driver program, by using `collect` or `show`. "
   ]
  },
  {
   "cell_type": "code",
   "execution_count": 47,
   "metadata": {},
   "outputs": [
    {
     "name": "stdout",
     "output_type": "stream",
     "text": [
      "+----------+-----+\n",
      "|      word|count|\n",
      "+----------+-----+\n",
      "|    online|    4|\n",
      "|      July|    1|\n",
      "|    CASTLE|    8|\n",
      "|      XVII|    2|\n",
      "|      AWAY|    2|\n",
      "|      hope|   65|\n",
      "|     those|  652|\n",
      "|       few|   79|\n",
      "|Duffield’s|    1|\n",
      "|  everyday|    3|\n",
      "+----------+-----+\n",
      "only showing top 10 rows\n",
      "\n"
     ]
    }
   ],
   "source": [
    "df_text.select( \\\n",
    "              F.explode(F.split(\"value\", \" \")) \\\n",
    "              .alias(\"word\")) \\\n",
    "        .filter(\"word != ''\") \\\n",
    "        .groupBy(\"word\").count().show(10)"
   ]
  },
  {
   "cell_type": "markdown",
   "metadata": {},
   "source": [
    "The output is not quite there yet, we wanted this to be in descending order. What we could do is to transform that aggregated DataFrame using `sort` (or `OrderBy`).  To use `sort`, we need to indicate the column in which we want to apply the operation (i.e. `count`), and we also want to do it in descending order. You could do this in different ways:\n",
    "\n",
    "`.sort(df.count.desc())`  or `sort(desc(\"count\"))`, or `sort(\"count\", ascending=False)`. "
   ]
  },
  {
   "cell_type": "code",
   "execution_count": 48,
   "metadata": {},
   "outputs": [
    {
     "name": "stdout",
     "output_type": "stream",
     "text": [
      "+----+-----+\n",
      "|word|count|\n",
      "+----+-----+\n",
      "| the|20923|\n",
      "| and|16606|\n",
      "|  to|13492|\n",
      "|  of|12866|\n",
      "|that| 7164|\n",
      "|   a| 7003|\n",
      "|  in| 6860|\n",
      "|   I| 5756|\n",
      "|  he| 5640|\n",
      "| for| 4534|\n",
      "+----+-----+\n",
      "only showing top 10 rows\n",
      "\n"
     ]
    }
   ],
   "source": [
    "df_text.select( \\\n",
    "              F.explode(F.split(\"value\", \" \")) \\\n",
    "              .alias(\"word\")) \\\n",
    "        .filter(\"word != ''\") \\\n",
    "        .groupBy(\"word\").count() \\\n",
    "        .sort(F.desc(\"count\")) \\\n",
    "        .show(10)"
   ]
  },
  {
   "cell_type": "markdown",
   "metadata": {},
   "source": [
    "Don't forget to unpersist your DataFrame"
   ]
  },
  {
   "cell_type": "code",
   "execution_count": 49,
   "metadata": {},
   "outputs": [
    {
     "data": {
      "text/plain": [
       "DataFrame[value: string]"
      ]
     },
     "execution_count": 49,
     "metadata": {},
     "output_type": "execute_result"
    }
   ],
   "source": [
    "df_text.unpersist()"
   ]
  },
  {
   "cell_type": "markdown",
   "metadata": {},
   "source": [
    "### Additional challenge:"
   ]
  },
  {
   "cell_type": "markdown",
   "metadata": {},
   "source": [
    "If you were to remove any punctuation marks, you need a function to correct all sentences."
   ]
  },
  {
   "cell_type": "code",
   "execution_count": 50,
   "metadata": {},
   "outputs": [],
   "source": [
    "def remove_punctuation(column):\n",
    "    return F.lower(F.trim(F.regexp_replace(column, r'[^0-9a-zA-ZñÑáéíóúÁÉÍÓÚ ]+', ''))).alias('value')"
   ]
  },
  {
   "cell_type": "markdown",
   "metadata": {},
   "source": [
    "Let's test it:"
   ]
  },
  {
   "cell_type": "code",
   "execution_count": 51,
   "metadata": {},
   "outputs": [],
   "source": [
    "sentence = spark.createDataFrame([(u'Hello!, how is it going?',),\n",
    "                                         (u' removing underscore_!',),\n",
    "                                         (u' *      Removing punctuation and blank spaces  * ,',)], ['sentence'])"
   ]
  },
  {
   "cell_type": "code",
   "execution_count": 52,
   "metadata": {},
   "outputs": [
    {
     "name": "stdout",
     "output_type": "stream",
     "text": [
      "+--------------------+\n",
      "|            sentence|\n",
      "+--------------------+\n",
      "|Hello!, how is it...|\n",
      "| removing undersc...|\n",
      "| *      Removing ...|\n",
      "+--------------------+\n",
      "\n"
     ]
    }
   ],
   "source": [
    "sentence.show()"
   ]
  },
  {
   "cell_type": "markdown",
   "metadata": {},
   "source": [
    "We can simply transform the DataFrame with that function applying the function to the column."
   ]
  },
  {
   "cell_type": "code",
   "execution_count": 53,
   "metadata": {},
   "outputs": [
    {
     "name": "stdout",
     "output_type": "stream",
     "text": [
      "+--------------------+\n",
      "|               value|\n",
      "+--------------------+\n",
      "|hello how is it g...|\n",
      "| removing underscore|\n",
      "|removing punctuat...|\n",
      "+--------------------+\n",
      "\n"
     ]
    }
   ],
   "source": [
    "sentence.select(remove_punctuation(F.col(\"sentence\"))).show()"
   ]
  },
  {
   "cell_type": "markdown",
   "metadata": {
    "deletable": false,
    "editable": false,
    "nbgrader": {
     "cell_type": "markdown",
     "checksum": "7c15f07906bb1fd48a51d1ce7427b1fa",
     "grade": false,
     "grade_id": "cell-024c26d2f51c3d48",
     "locked": true,
     "schema_version": 3,
     "solution": false,
     "task": false
    }
   },
   "source": [
    "Putting this into our word count function:"
   ]
  },
  {
   "cell_type": "code",
   "execution_count": 54,
   "metadata": {
    "deletable": false,
    "nbgrader": {
     "cell_type": "code",
     "checksum": "b9428c200908e5651b29090770e57f7e",
     "grade": true,
     "grade_id": "cell-d9afc18d9f1004e1",
     "locked": false,
     "points": 0,
     "schema_version": 3,
     "solution": true,
     "task": false
    }
   },
   "outputs": [
    {
     "name": "stdout",
     "output_type": "stream",
     "text": [
      "+-------------+-----+\n",
      "|words_in_list|count|\n",
      "+-------------+-----+\n",
      "|          the|22455|\n",
      "|          and|17644|\n",
      "|           to|13893|\n",
      "|           of|13468|\n",
      "|         that| 7899|\n",
      "|           in| 7315|\n",
      "|            a| 7165|\n",
      "|            i| 6354|\n",
      "|           he| 6137|\n",
      "|           it| 5593|\n",
      "|          for| 5112|\n",
      "|          his| 4668|\n",
      "|           as| 4450|\n",
      "|           is| 3870|\n",
      "|         with| 3793|\n",
      "|          not| 3641|\n",
      "|          was| 3626|\n",
      "|          him| 3525|\n",
      "|           be| 3332|\n",
      "|           my| 2805|\n",
      "+-------------+-----+\n",
      "only showing top 20 rows\n",
      "\n"
     ]
    },
    {
     "data": {
      "text/plain": [
       "[Row(words_in_list='the', count=22455),\n",
       " Row(words_in_list='and', count=17644),\n",
       " Row(words_in_list='to', count=13893),\n",
       " Row(words_in_list='of', count=13468),\n",
       " Row(words_in_list='that', count=7899),\n",
       " Row(words_in_list='in', count=7315),\n",
       " Row(words_in_list='a', count=7165),\n",
       " Row(words_in_list='i', count=6354),\n",
       " Row(words_in_list='he', count=6137),\n",
       " Row(words_in_list='it', count=5593),\n",
       " Row(words_in_list='for', count=5112),\n",
       " Row(words_in_list='his', count=4668),\n",
       " Row(words_in_list='as', count=4450),\n",
       " Row(words_in_list='is', count=3870),\n",
       " Row(words_in_list='with', count=3793),\n",
       " Row(words_in_list='not', count=3641),\n",
       " Row(words_in_list='was', count=3626),\n",
       " Row(words_in_list='him', count=3525),\n",
       " Row(words_in_list='be', count=3332),\n",
       " Row(words_in_list='my', count=2805),\n",
       " Row(words_in_list='don', count=2779),\n",
       " Row(words_in_list='this', count=2779),\n",
       " Row(words_in_list='all', count=2736),\n",
       " Row(words_in_list='they', count=2693),\n",
       " Row(words_in_list='said', count=2625),\n",
       " Row(words_in_list='have', count=2597),\n",
       " Row(words_in_list='me', count=2496),\n",
       " Row(words_in_list='on', count=2415),\n",
       " Row(words_in_list='so', count=2391),\n",
       " Row(words_in_list='you', count=2357),\n",
       " Row(words_in_list='had', count=2282),\n",
       " Row(words_in_list='but', count=2254),\n",
       " Row(words_in_list='or', count=2254),\n",
       " Row(words_in_list='by', count=2207),\n",
       " Row(words_in_list='quixote', count=2184),\n",
       " Row(words_in_list='her', count=2123),\n",
       " Row(words_in_list='sancho', count=2114),\n",
       " Row(words_in_list='at', count=2080),\n",
       " Row(words_in_list='which', count=2021),\n",
       " Row(words_in_list='who', count=1964),\n",
       " Row(words_in_list='what', count=1936),\n",
       " Row(words_in_list='if', count=1832),\n",
       " Row(words_in_list='them', count=1751),\n",
       " Row(words_in_list='will', count=1645),\n",
       " Row(words_in_list='from', count=1589),\n",
       " Row(words_in_list='one', count=1578),\n",
       " Row(words_in_list='are', count=1395),\n",
       " Row(words_in_list='your', count=1366),\n",
       " Row(words_in_list='were', count=1349),\n",
       " Row(words_in_list='no', count=1333),\n",
       " Row(words_in_list='there', count=1295),\n",
       " Row(words_in_list='would', count=1247),\n",
       " Row(words_in_list='thou', count=1228),\n",
       " Row(words_in_list='she', count=1206),\n",
       " Row(words_in_list='more', count=1139),\n",
       " Row(words_in_list='their', count=1012),\n",
       " Row(words_in_list='when', count=997),\n",
       " Row(words_in_list='than', count=983),\n",
       " Row(words_in_list='out', count=977),\n",
       " Row(words_in_list='we', count=966),\n",
       " Row(words_in_list='has', count=963),\n",
       " Row(words_in_list='any', count=914),\n",
       " Row(words_in_list='say', count=903),\n",
       " Row(words_in_list='been', count=900),\n",
       " Row(words_in_list='do', count=890),\n",
       " Row(words_in_list='an', count=852),\n",
       " Row(words_in_list='good', count=851),\n",
       " Row(words_in_list='may', count=850),\n",
       " Row(words_in_list='up', count=839),\n",
       " Row(words_in_list='himself', count=831),\n",
       " Row(words_in_list='such', count=821),\n",
       " Row(words_in_list='some', count=791),\n",
       " Row(words_in_list='see', count=773),\n",
       " Row(words_in_list='thee', count=759),\n",
       " Row(words_in_list='now', count=756),\n",
       " Row(words_in_list='am', count=739),\n",
       " Row(words_in_list='without', count=724),\n",
       " Row(words_in_list='know', count=714),\n",
       " Row(words_in_list='other', count=691),\n",
       " Row(words_in_list='made', count=686),\n",
       " Row(words_in_list='those', count=684),\n",
       " Row(words_in_list='could', count=681),\n",
       " Row(words_in_list='then', count=676),\n",
       " Row(words_in_list='upon', count=671),\n",
       " Row(words_in_list='us', count=659),\n",
       " Row(words_in_list='great', count=656),\n",
       " Row(words_in_list='time', count=651),\n",
       " Row(words_in_list='well', count=649),\n",
       " Row(words_in_list='come', count=648),\n",
       " Row(words_in_list='should', count=643),\n",
       " Row(words_in_list='let', count=639),\n",
       " Row(words_in_list='very', count=628),\n",
       " Row(words_in_list='did', count=624),\n",
       " Row(words_in_list='these', count=615),\n",
       " Row(words_in_list='about', count=602),\n",
       " Row(words_in_list='make', count=598),\n",
       " Row(words_in_list='into', count=589),\n",
       " Row(words_in_list='like', count=576),\n",
       " Row(words_in_list='give', count=571),\n",
       " Row(words_in_list='master', count=562),\n",
       " Row(words_in_list='though', count=561),\n",
       " Row(words_in_list='take', count=559),\n",
       " Row(words_in_list='can', count=549),\n",
       " Row(words_in_list='our', count=546),\n",
       " Row(words_in_list='go', count=538),\n",
       " Row(words_in_list='thy', count=537),\n",
       " Row(words_in_list='how', count=536),\n",
       " Row(words_in_list='where', count=536),\n",
       " Row(words_in_list='must', count=515),\n",
       " Row(words_in_list='two', count=512),\n",
       " Row(words_in_list='señor', count=508),\n",
       " Row(words_in_list='came', count=497),\n",
       " Row(words_in_list='being', count=481),\n",
       " Row(words_in_list='way', count=475),\n",
       " Row(words_in_list='worship', count=474),\n",
       " Row(words_in_list='god', count=473),\n",
       " Row(words_in_list='here', count=472),\n",
       " Row(words_in_list='tell', count=468),\n",
       " Row(words_in_list='own', count=464),\n",
       " Row(words_in_list='before', count=461),\n",
       " Row(words_in_list='man', count=459),\n",
       " Row(words_in_list='full', count=451),\n",
       " Row(words_in_list='much', count=441),\n",
       " Row(words_in_list='knight', count=434),\n",
       " Row(words_in_list='same', count=432),\n",
       " Row(words_in_list='nor', count=431),\n",
       " Row(words_in_list='only', count=429),\n",
       " Row(words_in_list='shall', count=427),\n",
       " Row(words_in_list='lady', count=420),\n",
       " Row(words_in_list='replied', count=416),\n",
       " Row(words_in_list='might', count=410),\n",
       " Row(words_in_list='over', count=405),\n",
       " Row(words_in_list='world', count=397),\n",
       " Row(words_in_list='life', count=394),\n",
       " Row(words_in_list='off', count=387),\n",
       " Row(words_in_list='many', count=379),\n",
       " Row(words_in_list='its', count=374),\n",
       " Row(words_in_list='never', count=362),\n",
       " Row(words_in_list='myself', count=354),\n",
       " Row(words_in_list='most', count=352),\n",
       " Row(words_in_list='little', count=350),\n",
       " Row(words_in_list='even', count=349),\n",
       " Row(words_in_list='saw', count=339),\n",
       " Row(words_in_list='another', count=339),\n",
       " Row(words_in_list='first', count=338),\n",
       " Row(words_in_list='having', count=337),\n",
       " Row(words_in_list='once', count=334),\n",
       " Row(words_in_list='found', count=326),\n",
       " Row(words_in_list='whom', count=323),\n",
       " Row(words_in_list='told', count=316),\n",
       " Row(words_in_list='left', count=316),\n",
       " Row(words_in_list='hand', count=315),\n",
       " Row(words_in_list='after', count=314),\n",
       " Row(words_in_list='took', count=313),\n",
       " Row(words_in_list='heard', count=311),\n",
       " Row(words_in_list='put', count=310),\n",
       " Row(words_in_list='because', count=308),\n",
       " Row(words_in_list='love', count=304),\n",
       " Row(words_in_list='nothing', count=304),\n",
       " Row(words_in_list='down', count=302),\n",
       " Row(words_in_list='curate', count=302),\n",
       " Row(words_in_list='heart', count=302),\n",
       " Row(words_in_list='day', count=295),\n",
       " Row(words_in_list='name', count=292),\n",
       " Row(words_in_list='eyes', count=292),\n",
       " Row(words_in_list='seen', count=287),\n",
       " Row(words_in_list='going', count=287),\n",
       " Row(words_in_list='gave', count=287),\n",
       " Row(words_in_list='while', count=286),\n",
       " Row(words_in_list='went', count=286),\n",
       " Row(words_in_list='head', count=284),\n",
       " Row(words_in_list='chapter', count=283),\n",
       " Row(words_in_list='dulcinea', count=275),\n",
       " Row(words_in_list='size', count=274),\n",
       " Row(words_in_list='asked', count=273),\n",
       " Row(words_in_list='words', count=269),\n",
       " Row(words_in_list='truth', count=269),\n",
       " Row(words_in_list='panza', count=267),\n",
       " Row(words_in_list='art', count=266),\n",
       " Row(words_in_list='end', count=266),\n",
       " Row(words_in_list='things', count=263),\n",
       " Row(words_in_list='saying', count=259),\n",
       " Row(words_in_list='called', count=256),\n",
       " Row(words_in_list='three', count=252),\n",
       " Row(words_in_list='mind', count=252),\n",
       " Row(words_in_list='back', count=250),\n",
       " Row(words_in_list='find', count=249),\n",
       " Row(words_in_list='leave', count=247),\n",
       " Row(words_in_list='house', count=244),\n",
       " Row(words_in_list='ever', count=244),\n",
       " Row(words_in_list='long', count=239),\n",
       " Row(words_in_list='true', count=238),\n",
       " Row(words_in_list='seeing', count=238),\n",
       " Row(words_in_list='friend', count=236),\n",
       " Row(words_in_list='squire', count=235),\n",
       " Row(words_in_list='still', count=234),\n",
       " Row(words_in_list='dont', count=234),\n",
       " Row(words_in_list='however', count=232),\n",
       " Row(words_in_list='father', count=231),\n",
       " Row(words_in_list='mine', count=230),\n",
       " Row(words_in_list='better', count=227),\n",
       " Row(words_in_list='just', count=226),\n",
       " Row(words_in_list='duke', count=225),\n",
       " Row(words_in_list='done', count=225),\n",
       " Row(words_in_list='away', count=225),\n",
       " Row(words_in_list='set', count=224),\n",
       " Row(words_in_list='does', count=224),\n",
       " Row(words_in_list='too', count=222),\n",
       " Row(words_in_list='heaven', count=222),\n",
       " Row(words_in_list='cannot', count=220),\n",
       " Row(words_in_list='against', count=215),\n",
       " Row(words_in_list='duchess', count=214),\n",
       " Row(words_in_list='given', count=213),\n",
       " Row(words_in_list='night', count=212),\n",
       " Row(words_in_list='place', count=212),\n",
       " Row(words_in_list='anything', count=210),\n",
       " Row(words_in_list='whole', count=209),\n",
       " Row(words_in_list='hands', count=207),\n",
       " Row(words_in_list='think', count=207),\n",
       " Row(words_in_list='part', count=206),\n",
       " Row(words_in_list='already', count=204),\n",
       " Row(words_in_list='days', count=204),\n",
       " Row(words_in_list='right', count=204),\n",
       " Row(words_in_list='themselves', count=204),\n",
       " Row(words_in_list='doubt', count=203),\n",
       " Row(words_in_list='answer', count=203),\n",
       " Row(words_in_list='enough', count=203),\n",
       " Row(words_in_list='arms', count=203),\n",
       " Row(words_in_list='through', count=203),\n",
       " Row(words_in_list='look', count=202),\n",
       " Row(words_in_list='read', count=201),\n",
       " Row(words_in_list='brought', count=201),\n",
       " Row(words_in_list='present', count=200),\n",
       " Row(words_in_list='beauty', count=198),\n",
       " Row(words_in_list='until', count=198),\n",
       " Row(words_in_list='again', count=197),\n",
       " Row(words_in_list='between', count=195),\n",
       " Row(words_in_list='ill', count=195),\n",
       " Row(words_in_list='under', count=193),\n",
       " Row(words_in_list='soon', count=192),\n",
       " Row(words_in_list='thought', count=192),\n",
       " Row(words_in_list='history', count=188),\n",
       " Row(words_in_list='whether', count=187),\n",
       " Row(words_in_list='word', count=187),\n",
       " Row(words_in_list='village', count=187),\n",
       " Row(words_in_list='fair', count=186),\n",
       " Row(words_in_list='taken', count=185),\n",
       " Row(words_in_list='la', count=184),\n",
       " Row(words_in_list='every', count=182),\n",
       " Row(words_in_list='began', count=182),\n",
       " Row(words_in_list='thing', count=180),\n",
       " Row(words_in_list='returned', count=180),\n",
       " Row(words_in_list='far', count=179),\n",
       " Row(words_in_list='rocinante', count=179),\n",
       " Row(words_in_list='others', count=178),\n",
       " Row(words_in_list='men', count=177),\n",
       " Row(words_in_list='show', count=176),\n",
       " Row(words_in_list='gentleman', count=175),\n",
       " Row(words_in_list='governor', count=174),\n",
       " Row(words_in_list='keep', count=174),\n",
       " Row(words_in_list='got', count=173),\n",
       " Row(words_in_list='adventure', count=173),\n",
       " Row(words_in_list='reason', count=172),\n",
       " Row(words_in_list='death', count=172),\n",
       " Row(words_in_list='among', count=170),\n",
       " Row(words_in_list='daughter', count=170),\n",
       " Row(words_in_list='story', count=170),\n",
       " Row(words_in_list='best', count=169),\n",
       " Row(words_in_list='seemed', count=164),\n",
       " Row(words_in_list='barber', count=164),\n",
       " Row(words_in_list='people', count=163),\n",
       " Row(words_in_list='ass', count=163),\n",
       " Row(words_in_list='always', count=162),\n",
       " Row(words_in_list='wife', count=162),\n",
       " Row(words_in_list='mancha', count=162),\n",
       " Row(words_in_list='together', count=162),\n",
       " Row(words_in_list='short', count=162),\n",
       " Row(words_in_list='de', count=160),\n",
       " Row(words_in_list='taking', count=159),\n",
       " Row(words_in_list='order', count=159),\n",
       " Row(words_in_list='mean', count=158),\n",
       " Row(words_in_list='want', count=158),\n",
       " Row(words_in_list='sort', count=158),\n",
       " Row(words_in_list='chivalry', count=158),\n",
       " Row(words_in_list='help', count=158),\n",
       " Row(words_in_list='castle', count=157),\n",
       " Row(words_in_list='ground', count=157),\n",
       " Row(words_in_list='hold', count=157),\n",
       " Row(words_in_list='voice', count=156),\n",
       " Row(words_in_list='hast', count=155),\n",
       " Row(words_in_list='believe', count=155),\n",
       " Row(words_in_list='books', count=154),\n",
       " Row(words_in_list='return', count=154),\n",
       " Row(words_in_list='get', count=154),\n",
       " Row(words_in_list='alone', count=154),\n",
       " Row(words_in_list='toboso', count=153),\n",
       " Row(words_in_list='call', count=153),\n",
       " Row(words_in_list='inn', count=153),\n",
       " Row(words_in_list='coming', count=152),\n",
       " Row(words_in_list='less', count=152),\n",
       " Row(words_in_list='four', count=149),\n",
       " Row(words_in_list='says', count=149),\n",
       " Row(words_in_list='matter', count=148),\n",
       " Row(words_in_list='book', count=148),\n",
       " Row(words_in_list='making', count=148),\n",
       " Row(words_in_list='something', count=147),\n",
       " Row(words_in_list='fortune', count=146),\n",
       " Row(words_in_list='rather', count=145),\n",
       " Row(words_in_list='poor', count=145),\n",
       " Row(words_in_list='knightserrant', count=145),\n",
       " Row(words_in_list='quixotes', count=145),\n",
       " Row(words_in_list='knew', count=144),\n",
       " Row(words_in_list='side', count=144),\n",
       " Row(words_in_list='famous', count=143),\n",
       " Row(words_in_list='case', count=143),\n",
       " Row(words_in_list='answered', count=142),\n",
       " Row(words_in_list='last', count=142),\n",
       " Row(words_in_list='thousand', count=141),\n",
       " Row(words_in_list='carried', count=140),\n",
       " Row(words_in_list='stood', count=139),\n",
       " Row(words_in_list='whose', count=138),\n",
       " Row(words_in_list='moment', count=138),\n",
       " Row(words_in_list='point', count=138),\n",
       " Row(words_in_list='fear', count=137),\n",
       " Row(words_in_list='face', count=136),\n",
       " Row(words_in_list='care', count=136),\n",
       " Row(words_in_list='lord', count=136),\n",
       " Row(words_in_list='least', count=136),\n",
       " Row(words_in_list='lay', count=135),\n",
       " Row(words_in_list='road', count=135),\n",
       " Row(words_in_list='earth', count=134),\n",
       " Row(words_in_list='foot', count=134),\n",
       " Row(words_in_list='since', count=134),\n",
       " Row(words_in_list='work', count=133),\n",
       " Row(words_in_list='herself', count=132),\n",
       " Row(words_in_list='bring', count=131),\n",
       " Row(words_in_list='itself', count=131),\n",
       " Row(words_in_list='happened', count=131),\n",
       " Row(words_in_list='both', count=130),\n",
       " Row(words_in_list='passed', count=130),\n",
       " Row(words_in_list='half', count=130),\n",
       " Row(words_in_list='everything', count=129),\n",
       " Row(words_in_list='turned', count=129),\n",
       " Row(words_in_list='lothario', count=129),\n",
       " Row(words_in_list='ask', count=129),\n",
       " Row(words_in_list='worthy', count=129),\n",
       " Row(words_in_list='neither', count=128),\n",
       " Row(words_in_list='camilla', count=128),\n",
       " Row(words_in_list='tears', count=128),\n",
       " Row(words_in_list='christian', count=127),\n",
       " Row(words_in_list='old', count=127),\n",
       " Row(words_in_list='seems', count=127),\n",
       " Row(words_in_list='island', count=126),\n",
       " Row(words_in_list='turn', count=126),\n",
       " Row(words_in_list='anselmo', count=126),\n",
       " Row(words_in_list='honour', count=126),\n",
       " Row(words_in_list='account', count=125),\n",
       " Row(words_in_list='years', count=125),\n",
       " Row(words_in_list='pass', count=125),\n",
       " Row(words_in_list='adventures', count=124),\n",
       " Row(words_in_list='body', count=124),\n",
       " Row(words_in_list='indeed', count=124),\n",
       " Row(words_in_list='fernando', count=124),\n",
       " Row(words_in_list='round', count=124),\n",
       " Row(words_in_list='hundred', count=124),\n",
       " Row(words_in_list='rest', count=124),\n",
       " Row(words_in_list='hear', count=123),\n",
       " Row(words_in_list='comes', count=123),\n",
       " Row(words_in_list='cervantes', count=123),\n",
       " Row(words_in_list='knighterrant', count=122),\n",
       " Row(words_in_list='fell', count=122),\n",
       " Row(words_in_list='del', count=121),\n",
       " Row(words_in_list='king', count=121),\n",
       " Row(words_in_list='each', count=120),\n",
       " Row(words_in_list='feet', count=120),\n",
       " Row(words_in_list='wilt', count=120),\n",
       " Row(words_in_list='husband', count=120),\n",
       " Row(words_in_list='means', count=119),\n",
       " Row(words_in_list='o', count=118),\n",
       " Row(words_in_list='government', count=118),\n",
       " Row(words_in_list='devil', count=118),\n",
       " Row(words_in_list='letter', count=117),\n",
       " Row(words_in_list='course', count=117),\n",
       " Row(words_in_list='known', count=117),\n",
       " Row(words_in_list='sword', count=117),\n",
       " Row(words_in_list='held', count=117),\n",
       " Row(words_in_list='anyone', count=116),\n",
       " Row(words_in_list='enchanted', count=116),\n",
       " Row(words_in_list='fall', count=116),\n",
       " Row(words_in_list='need', count=116),\n",
       " Row(words_in_list='valiant', count=116),\n",
       " Row(words_in_list='else', count=115),\n",
       " Row(words_in_list='money', count=115),\n",
       " Row(words_in_list='thus', count=115),\n",
       " Row(words_in_list='bachelor', count=115),\n",
       " Row(words_in_list='above', count=114),\n",
       " Row(words_in_list='felt', count=114),\n",
       " Row(words_in_list='knights', count=114),\n",
       " Row(words_in_list='carry', count=114),\n",
       " Row(words_in_list='certain', count=113),\n",
       " Row(words_in_list='open', count=113),\n",
       " Row(words_in_list='desire', count=112),\n",
       " Row(words_in_list='instant', count=112),\n",
       " Row(words_in_list='room', count=112),\n",
       " Row(words_in_list='horse', count=111),\n",
       " Row(words_in_list='speak', count=111),\n",
       " Row(words_in_list='feel', count=111),\n",
       " Row(words_in_list='soul', count=111),\n",
       " Row(words_in_list='why', count=111),\n",
       " Row(words_in_list='rich', count=110),\n",
       " Row(words_in_list='home', count=110),\n",
       " Row(words_in_list='also', count=110),\n",
       " Row(words_in_list='kind', count=109),\n",
       " Row(words_in_list='ought', count=109),\n",
       " Row(words_in_list='bad', count=108),\n",
       " Row(words_in_list='either', count=108),\n",
       " Row(words_in_list='dapple', count=108),\n",
       " Row(words_in_list='dead', count=108),\n",
       " Row(words_in_list='ye', count=107),\n",
       " Row(words_in_list='giving', count=107),\n",
       " Row(words_in_list='city', count=107),\n",
       " Row(words_in_list='brother', count=107),\n",
       " Row(words_in_list='pleasure', count=106),\n",
       " Row(words_in_list='able', count=106),\n",
       " Row(words_in_list='yet', count=106),\n",
       " Row(words_in_list='dorothea', count=106),\n",
       " Row(words_in_list='light', count=105),\n",
       " Row(words_in_list='perhaps', count=105),\n",
       " Row(words_in_list='arm', count=105),\n",
       " Row(words_in_list='new', count=104),\n",
       " Row(words_in_list='whatever', count=104),\n",
       " Row(words_in_list='son', count=104),\n",
       " Row(words_in_list='times', count=103),\n",
       " Row(words_in_list='sleep', count=103),\n",
       " Row(words_in_list='close', count=102),\n",
       " Row(words_in_list='second', count=102),\n",
       " Row(words_in_list='gone', count=102),\n",
       " Row(words_in_list='next', count=101),\n",
       " Row(words_in_list='dost', count=101),\n",
       " Row(words_in_list='spain', count=101),\n",
       " Row(words_in_list='bound', count=100),\n",
       " Row(words_in_list='thyself', count=100),\n",
       " Row(words_in_list='purpose', count=99),\n",
       " Row(words_in_list='exclaimed', count=99),\n",
       " Row(words_in_list='hard', count=99),\n",
       " Row(words_in_list='sir', count=99),\n",
       " Row(words_in_list='live', count=98),\n",
       " Row(words_in_list='except', count=98),\n",
       " Row(words_in_list='country', count=98),\n",
       " Row(words_in_list='received', count=97),\n",
       " Row(words_in_list='eat', count=97),\n",
       " Row(words_in_list='reached', count=97),\n",
       " Row(words_in_list='finding', count=97),\n",
       " Row(words_in_list='calling', count=97),\n",
       " Row(words_in_list='person', count=96),\n",
       " Row(words_in_list='woman', count=96),\n",
       " Row(words_in_list='high', count=96),\n",
       " Row(words_in_list='few', count=95),\n",
       " Row(words_in_list='virtue', count=95),\n",
       " Row(words_in_list='wish', count=95),\n",
       " Row(words_in_list='town', count=95),\n",
       " Row(words_in_list='armour', count=94),\n",
       " Row(words_in_list='plain', count=94),\n",
       " Row(words_in_list='looked', count=94),\n",
       " Row(words_in_list='project', count=94),\n",
       " Row(words_in_list='free', count=94),\n",
       " Row(words_in_list='knows', count=94),\n",
       " Row(words_in_list='promise', count=93),\n",
       " Row(words_in_list='become', count=93),\n",
       " Row(words_in_list='perceived', count=93),\n",
       " Row(words_in_list='greater', count=93),\n",
       " Row(words_in_list='señora', count=93),\n",
       " Row(words_in_list='behind', count=93),\n",
       " Row(words_in_list='yourself', count=92),\n",
       " Row(words_in_list='landlord', count=92),\n",
       " Row(words_in_list='write', count=92),\n",
       " Row(words_in_list='faith', count=92),\n",
       " Row(words_in_list='strange', count=92),\n",
       " Row(words_in_list='teresa', count=91),\n",
       " Row(words_in_list='forth', count=91),\n",
       " Row(words_in_list='peace', count=91),\n",
       " Row(words_in_list='pedro', count=91),\n",
       " Row(words_in_list='therefore', count=91),\n",
       " Row(words_in_list='unless', count=91),\n",
       " Row(words_in_list='hearing', count=91),\n",
       " Row(words_in_list='sure', count=90),\n",
       " Row(words_in_list='white', count=90),\n",
       " Row(words_in_list='cardenio', count=90),\n",
       " Row(words_in_list='doing', count=90),\n",
       " Row(words_in_list='waiting', count=90),\n",
       " Row(words_in_list='observed', count=89),\n",
       " Row(words_in_list='makes', count=88),\n",
       " Row(words_in_list='mounted', count=88),\n",
       " Row(words_in_list='bear', count=87),\n",
       " Row(words_in_list='gold', count=87),\n",
       " Row(words_in_list='looking', count=87),\n",
       " Row(words_in_list='reply', count=87),\n",
       " Row(words_in_list='power', count=86),\n",
       " Row(words_in_list='author', count=86),\n",
       " Row(words_in_list='damsel', count=86),\n",
       " Row(words_in_list='ones', count=86),\n",
       " Row(words_in_list='pay', count=86),\n",
       " Row(words_in_list='kept', count=85),\n",
       " Row(words_in_list='im', count=85),\n",
       " Row(words_in_list='young', count=85),\n",
       " Row(words_in_list='sanchos', count=85),\n",
       " Row(words_in_list='countenance', count=85),\n",
       " Row(words_in_list='appearance', count=85),\n",
       " Row(words_in_list='lost', count=84),\n",
       " Row(words_in_list='sight', count=84),\n",
       " Row(words_in_list='happy', count=84),\n",
       " Row(words_in_list='thine', count=84),\n",
       " Row(words_in_list='ladies', count=84),\n",
       " Row(words_in_list='luscinda', count=83),\n",
       " Row(words_in_list='language', count=83),\n",
       " Row(words_in_list='written', count=83),\n",
       " Row(words_in_list='mouth', count=82),\n",
       " Row(words_in_list='remember', count=82),\n",
       " Row(words_in_list='servants', count=82),\n",
       " Row(words_in_list='sound', count=82),\n",
       " Row(words_in_list='trouble', count=82),\n",
       " Row(words_in_list='service', count=82),\n",
       " Row(words_in_list='bed', count=82),\n",
       " Row(words_in_list='almost', count=82),\n",
       " Row(words_in_list='dress', count=81),\n",
       " Row(words_in_list='beyond', count=81),\n",
       " Row(words_in_list='follow', count=81),\n",
       " Row(words_in_list='understand', count=81),\n",
       " Row(words_in_list='letters', count=80),\n",
       " Row(words_in_list='friends', count=80),\n",
       " Row(words_in_list='serve', count=80),\n",
       " Row(words_in_list='wonder', count=80),\n",
       " Row(words_in_list='near', count=80),\n",
       " Row(words_in_list='air', count=80),\n",
       " Row(words_in_list='fancy', count=79),\n",
       " Row(words_in_list='battle', count=79),\n",
       " Row(words_in_list='wont', count=79),\n",
       " Row(words_in_list='cause', count=79),\n",
       " Row(words_in_list='unable', count=79),\n",
       " Row(words_in_list='wrong', count=79),\n",
       " Row(words_in_list='try', count=79),\n",
       " Row(words_in_list='memory', count=79),\n",
       " Row(words_in_list='thoughts', count=79),\n",
       " Row(words_in_list='continued', count=78),\n",
       " Row(words_in_list='along', count=78),\n",
       " Row(words_in_list='enemy', count=78),\n",
       " Row(words_in_list='laid', count=78),\n",
       " Row(words_in_list='silence', count=78),\n",
       " Row(words_in_list='princess', count=78),\n",
       " Row(words_in_list='samson', count=78),\n",
       " Row(words_in_list='ready', count=77),\n",
       " Row(words_in_list='used', count=77),\n",
       " Row(words_in_list='favour', count=77),\n",
       " Row(words_in_list='object', count=77),\n",
       " Row(words_in_list='spot', count=77),\n",
       " Row(words_in_list='force', count=77),\n",
       " Row(words_in_list='doña', count=76),\n",
       " Row(words_in_list='misfortune', count=76),\n",
       " Row(words_in_list='thats', count=76),\n",
       " Row(words_in_list='bade', count=76),\n",
       " Row(words_in_list='leaving', count=76),\n",
       " Row(words_in_list='beginning', count=76),\n",
       " Row(words_in_list='sent', count=76),\n",
       " Row(words_in_list='helmet', count=76),\n",
       " Row(words_in_list='resolved', count=76),\n",
       " Row(words_in_list='opportunity', count=75),\n",
       " Row(words_in_list='six', count=75),\n",
       " Row(words_in_list='use', count=75),\n",
       " Row(words_in_list='squires', count=75),\n",
       " Row(words_in_list='pleased', count=75),\n",
       " Row(words_in_list='matters', count=75),\n",
       " Row(words_in_list='company', count=75),\n",
       " Row(words_in_list='blood', count=75),\n",
       " Row(words_in_list='hope', count=74),\n",
       " Row(words_in_list='conversation', count=74),\n",
       " Row(words_in_list='kingdom', count=74),\n",
       " Row(words_in_list='worships', count=74),\n",
       " Row(words_in_list='nature', count=74),\n",
       " Row(words_in_list='wait', count=74),\n",
       " Row(words_in_list='youth', count=74),\n",
       " Row(words_in_list='small', count=74),\n",
       " Row(words_in_list='ran', count=74),\n",
       " Row(words_in_list='deeds', count=73),\n",
       " Row(words_in_list='senses', count=73),\n",
       " Row(words_in_list='fact', count=73),\n",
       " Row(words_in_list='door', count=73),\n",
       " Row(words_in_list='send', count=73),\n",
       " Row(words_in_list='goes', count=73),\n",
       " Row(words_in_list='business', count=73),\n",
       " Row(words_in_list='promised', count=73),\n",
       " Row(words_in_list='beautiful', count=73),\n",
       " Row(words_in_list='begged', count=72),\n",
       " Row(words_in_list='none', count=72),\n",
       " Row(words_in_list='allow', count=72),\n",
       " Row(words_in_list='mother', count=72),\n",
       " Row(words_in_list='followed', count=72),\n",
       " Row(words_in_list='impossible', count=72),\n",
       " Row(words_in_list='question', count=72),\n",
       " Row(words_in_list='beard', count=72),\n",
       " Row(words_in_list='easy', count=72),\n",
       " Row(words_in_list='large', count=72),\n",
       " Row(words_in_list='filled', count=71),\n",
       " Row(words_in_list='green', count=71),\n",
       " Row(words_in_list='tongue', count=71),\n",
       " Row(words_in_list='rate', count=71),\n",
       " Row(words_in_list='pain', count=71),\n",
       " Row(words_in_list='gentlemen', count=71),\n",
       " Row(words_in_list='masters', count=71),\n",
       " Row(words_in_list='possible', count=71),\n",
       " Row(words_in_list='lance', count=71),\n",
       " Row(words_in_list='mighty', count=71),\n",
       " Row(words_in_list='talk', count=71),\n",
       " Row(words_in_list='die', count=71),\n",
       " Row(words_in_list='theres', count=71),\n",
       " Row(words_in_list='spite', count=71),\n",
       " Row(words_in_list='please', count=70),\n",
       " Row(words_in_list='fame', count=70),\n",
       " Row(words_in_list='putting', count=70),\n",
       " Row(words_in_list='telling', count=70),\n",
       " Row(words_in_list='madness', count=69),\n",
       " Row(words_in_list='worth', count=69),\n",
       " Row(words_in_list='clear', count=69),\n",
       " Row(words_in_list='judge', count=69),\n",
       " Row(words_in_list='opinion', count=69),\n",
       " Row(words_in_list='placed', count=69),\n",
       " Row(words_in_list='court', count=69),\n",
       " Row(words_in_list='lies', count=68),\n",
       " Row(words_in_list='evil', count=68),\n",
       " Row(words_in_list='raised', count=68),\n",
       " Row(words_in_list='zoraida', count=68),\n",
       " Row(words_in_list='duenna', count=68),\n",
       " Row(words_in_list='towards', count=68),\n",
       " Row(words_in_list='water', count=68),\n",
       " Row(words_in_list='journey', count=68),\n",
       " Row(words_in_list='wherein', count=68),\n",
       " Row(words_in_list='further', count=68),\n",
       " Row(words_in_list='paid', count=68),\n",
       " Row(words_in_list='holy', count=68),\n",
       " Row(words_in_list='cut', count=68),\n",
       " Row(words_in_list='chance', count=68),\n",
       " Row(words_in_list='aid', count=68),\n",
       " Row(words_in_list='fit', count=68),\n",
       " Row(words_in_list='worse', count=68),\n",
       " Row(words_in_list='mad', count=68),\n",
       " Row(words_in_list='often', count=67),\n",
       " Row(words_in_list='distressed', count=67),\n",
       " Row(words_in_list='besides', count=67),\n",
       " Row(words_in_list='nay', count=67),\n",
       " Row(words_in_list='housekeeper', count=67),\n",
       " Row(words_in_list='swear', count=67),\n",
       " Row(words_in_list='seem', count=67),\n",
       " Row(words_in_list='afterwards', count=66),\n",
       " Row(words_in_list='greatest', count=66),\n",
       " Row(words_in_list='thanks', count=66),\n",
       " Row(words_in_list='turning', count=66),\n",
       " Row(words_in_list='knowing', count=66),\n",
       " Row(words_in_list='length', count=65),\n",
       " Row(words_in_list='luck', count=65),\n",
       " Row(words_in_list='fine', count=65),\n",
       " Row(words_in_list='stand', count=65),\n",
       " Row(words_in_list='according', count=65),\n",
       " Row(words_in_list='persons', count=65),\n",
       " Row(words_in_list='following', count=65),\n",
       " Row(words_in_list='lie', count=65),\n",
       " Row(words_in_list='remained', count=64),\n",
       " Row(words_in_list='entered', count=64),\n",
       " Row(words_in_list='advice', count=64),\n",
       " Row(words_in_list='knighterrantry', count=64),\n",
       " Row(words_in_list='seek', count=64),\n",
       " Row(words_in_list='grant', count=64),\n",
       " Row(words_in_list='offered', count=64),\n",
       " Row(words_in_list='showed', count=64),\n",
       " Row(words_in_list='deal', count=63),\n",
       " Row(words_in_list='escape', count=63),\n",
       " Row(words_in_list='age', count=63),\n",
       " Row(words_in_list='carrasco', count=63),\n",
       " Row(words_in_list='run', count=63),\n",
       " Row(words_in_list='number', count=63),\n",
       " Row(words_in_list='sun', count=62),\n",
       " Row(words_in_list='deep', count=62),\n",
       " Row(words_in_list='speaking', count=61),\n",
       " Row(words_in_list='enchanters', count=61),\n",
       " Row(words_in_list='poet', count=61),\n",
       " Row(words_in_list='forward', count=61),\n",
       " Row(words_in_list='hour', count=61),\n",
       " Row(words_in_list='fixed', count=61),\n",
       " Row(words_in_list='covered', count=60),\n",
       " Row(words_in_list='meant', count=60),\n",
       " Row(words_in_list='spanish', count=60),\n",
       " Row(words_in_list='bread', count=60),\n",
       " Row(words_in_list='renegade', count=60),\n",
       " Row(words_in_list='save', count=60),\n",
       " Row(words_in_list='works', count=60),\n",
       " Row(words_in_list='niece', count=60),\n",
       " Row(words_in_list='born', count=60),\n",
       " Row(words_in_list='lest', count=60),\n",
       " Row(words_in_list='moor', count=60),\n",
       " Row(words_in_list='altisidora', count=60),\n",
       " Row(words_in_list='quite', count=59),\n",
       " Row(words_in_list='vanquished', count=59),\n",
       " Row(words_in_list='offer', count=59),\n",
       " Row(words_in_list='led', count=59),\n",
       " Row(words_in_list='somewhat', count=59),\n",
       " Row(words_in_list='contrary', count=59),\n",
       " Row(words_in_list='especially', count=59),\n",
       " Row(words_in_list='effect', count=59),\n",
       " Row(words_in_list='fashion', count=59),\n",
       " Row(words_in_list='parents', count=58),\n",
       " Row(words_in_list='talking', count=58),\n",
       " Row(words_in_list='duennas', count=58),\n",
       " Row(words_in_list='el', count=58),\n",
       " Row(words_in_list='state', count=58),\n",
       " Row(words_in_list='prove', count=58),\n",
       " Row(words_in_list='haste', count=58),\n",
       " Row(words_in_list='condition', count=58),\n",
       " Row(words_in_list='shepherd', count=57),\n",
       " Row(words_in_list='learned', count=57),\n",
       " Row(words_in_list='reach', count=57),\n",
       " Row(words_in_list='natural', count=57),\n",
       " Row(words_in_list='orders', count=57),\n",
       " Row(words_in_list='ears', count=57),\n",
       " Row(words_in_list='damsels', count=57),\n",
       " Row(words_in_list='middle', count=57),\n",
       " Row(words_in_list='moreover', count=57),\n",
       " Row(words_in_list='madman', count=57),\n",
       " Row(words_in_list='gods', count=57),\n",
       " Row(words_in_list='children', count=57),\n",
       " Row(words_in_list='aside', count=56),\n",
       " Row(words_in_list='captive', count=56),\n",
       " Row(words_in_list='described', count=56),\n",
       " Row(words_in_list='easily', count=56),\n",
       " Row(words_in_list='marry', count=56),\n",
       " Row(words_in_list='gutenbergtm', count=56),\n",
       " Row(words_in_list='shut', count=55),\n",
       " Row(words_in_list='instead', count=55),\n",
       " Row(words_in_list='giant', count=55),\n",
       " Row(words_in_list='hair', count=55),\n",
       " Row(words_in_list='montesinos', count=55),\n",
       " Row(words_in_list='crowns', count=55),\n",
       " Row(words_in_list='different', count=55),\n",
       " Row(words_in_list='wise', count=55),\n",
       " Row(words_in_list='verses', count=55),\n",
       " Row(words_in_list='attention', count=55),\n",
       " Row(words_in_list='licentiate', count=55),\n",
       " Row(words_in_list='gives', count=55),\n",
       " Row(words_in_list='style', count=55),\n",
       " Row(words_in_list='queen', count=55),\n",
       " Row(words_in_list='servant', count=54),\n",
       " Row(words_in_list='sense', count=54),\n",
       " Row(words_in_list='fallen', count=54),\n",
       " Row(words_in_list='listening', count=54),\n",
       " Row(words_in_list='women', count=54),\n",
       " Row(words_in_list='receive', count=54),\n",
       " Row(words_in_list='black', count=54),\n",
       " Row(words_in_list='common', count=54),\n",
       " Row(words_in_list='shoulders', count=54),\n",
       " Row(words_in_list='mentioned', count=54),\n",
       " Row(words_in_list='justice', count=54),\n",
       " Row(words_in_list='sea', count=53),\n",
       " Row(words_in_list='couple', count=53),\n",
       " Row(words_in_list='satisfaction', count=53),\n",
       " Row(words_in_list='sake', count=53),\n",
       " Row(words_in_list='vessel', count=53),\n",
       " Row(words_in_list='mistress', count=53),\n",
       " Row(words_in_list='proper', count=53),\n",
       " Row(words_in_list='morning', count=53),\n",
       " Row(words_in_list='consider', count=53),\n",
       " Row(words_in_list='satisfied', count=53),\n",
       " Row(words_in_list='several', count=53),\n",
       " Row(words_in_list='fate', count=53),\n",
       " Row(words_in_list='cloth', count=53),\n",
       " Row(words_in_list='within', count=52),\n",
       " Row(words_in_list='rise', count=52),\n",
       " Row(words_in_list='remain', count=52),\n",
       " Row(words_in_list='glory', count=52),\n",
       " Row(words_in_list='trees', count=52),\n",
       " Row(words_in_list='sage', count=52),\n",
       " Row(words_in_list='lead', count=52),\n",
       " Row(words_in_list='served', count=52),\n",
       " Row(words_in_list='carrying', count=52),\n",
       " Row(words_in_list='birth', count=52),\n",
       " Row(words_in_list='christians', count=52),\n",
       " Row(words_in_list='low', count=51),\n",
       " Row(words_in_list='cave', count=51),\n",
       " Row(words_in_list='occasion', count=51),\n",
       " Row(words_in_list='year', count=51),\n",
       " Row(words_in_list='till', count=51),\n",
       " Row(words_in_list='cart', count=51),\n",
       " Row(words_in_list='broken', count=51),\n",
       " Row(words_in_list='antonio', count=51),\n",
       " Row(words_in_list='wanted', count=51),\n",
       " Row(words_in_list='related', count=51),\n",
       " Row(words_in_list='rueful', count=50),\n",
       " Row(words_in_list='plainly', count=50),\n",
       " Row(words_in_list='reading', count=50),\n",
       " Row(words_in_list='page', count=50),\n",
       " Row(words_in_list='table', count=50),\n",
       " Row(words_in_list='figure', count=50),\n",
       " Row(words_in_list='past', count=50),\n",
       " Row(words_in_list='stretched', count=50),\n",
       " Row(words_in_list='fool', count=50),\n",
       " Row(words_in_list='packsaddle', count=50),\n",
       " Row(words_in_list='moors', count=49),\n",
       " Row(words_in_list='hunger', count=49),\n",
       " Row(words_in_list='achievements', count=49),\n",
       " Row(words_in_list='grove', count=49),\n",
       " Row(words_in_list='standing', count=49),\n",
       " Row(words_in_list='sirs', count=49),\n",
       " Row(words_in_list='noise', count=49),\n",
       " Row(words_in_list='saddle', count=49),\n",
       " Row(words_in_list='wouldst', count=49),\n",
       " Row(words_in_list='teeth', count=49),\n",
       " Row(words_in_list='loud', count=49),\n",
       " Row(words_in_list='sign', count=49),\n",
       " Row(words_in_list='nonsense', count=49),\n",
       " Row(words_in_list='struck', count=48),\n",
       " Row(words_in_list='tomorrow', count=48),\n",
       " Row(words_in_list='girl', count=48),\n",
       " Row(words_in_list='kings', count=48),\n",
       " Row(words_in_list='spirit', count=48),\n",
       " Row(words_in_list='attempt', count=48),\n",
       " Row(words_in_list='count', count=48),\n",
       " Row(words_in_list='galley', count=48),\n",
       " Row(words_in_list='danger', count=48),\n",
       " Row(words_in_list='agreed', count=48),\n",
       " Row(words_in_list='someone', count=48),\n",
       " Row(words_in_list='amadis', count=48),\n",
       " Row(words_in_list='enchantment', count=48),\n",
       " Row(words_in_list='unhappy', count=48),\n",
       " Row(words_in_list='added', count=48),\n",
       " Row(words_in_list='recognised', count=47),\n",
       " Row(words_in_list='drew', count=47),\n",
       " Row(words_in_list='shown', count=47),\n",
       " Row(words_in_list='horseback', count=47),\n",
       " Row(words_in_list='departure', count=47),\n",
       " Row(words_in_list='reals', count=47),\n",
       " Row(words_in_list='longer', count=47),\n",
       " Row(words_in_list='wit', count=47),\n",
       " Row(words_in_list='emperor', count=47),\n",
       " Row(words_in_list='advanced', count=47),\n",
       " Row(words_in_list='affair', count=47),\n",
       " Row(words_in_list='distance', count=47),\n",
       " Row(words_in_list='fire', count=47),\n",
       " Row(words_in_list='quest', count=46),\n",
       " Row(words_in_list='wits', count=46),\n",
       " Row(words_in_list='ape', count=46),\n",
       " Row(words_in_list='mule', count=46),\n",
       " Row(words_in_list='knowest', count=46),\n",
       " Row(words_in_list='laws', count=46),\n",
       " Row(words_in_list='support', count=46),\n",
       " Row(words_in_list='wine', count=46),\n",
       " Row(words_in_list='provided', count=46),\n",
       " Row(words_in_list='search', count=46),\n",
       " Row(words_in_list='amazed', count=46),\n",
       " Row(words_in_list='likely', count=46),\n",
       " Row(words_in_list='news', count=45),\n",
       " Row(words_in_list='stay', count=45),\n",
       " Row(words_in_list='yours', count=45),\n",
       " Row(words_in_list='fresh', count=45),\n",
       " Row(words_in_list='captain', count=45),\n",
       " Row(words_in_list='real', count=45),\n",
       " Row(words_in_list='necessary', count=45),\n",
       " Row(words_in_list='public', count=45),\n",
       " Row(words_in_list='removed', count=45),\n",
       " Row(words_in_list='unlucky', count=45),\n",
       " Row(words_in_list='ordered', count=45),\n",
       " Row(words_in_list='pair', count=45),\n",
       " Row(words_in_list='presence', count=45),\n",
       " Row(words_in_list='shepherds', count=45),\n",
       " Row(words_in_list='strength', count=45),\n",
       " Row(words_in_list='step', count=45),\n",
       " Row(words_in_list='nobody', count=45),\n",
       " Row(words_in_list='play', count=45),\n",
       " Row(words_in_list='goatherd', count=45),\n",
       " Row(words_in_list='expected', count=45),\n",
       " Row(words_in_list='changed', count=45),\n",
       " Row(words_in_list='courtesy', count=45),\n",
       " Row(words_in_list='cousin', count=44),\n",
       " Row(words_in_list='rank', count=44),\n",
       " Row(words_in_list='human', count=44),\n",
       " Row(words_in_list='roque', count=44),\n",
       " Row(words_in_list='glad', count=44),\n",
       " Row(words_in_list='tree', count=44),\n",
       " Row(words_in_list='general', count=44),\n",
       " Row(words_in_list='flesh', count=44),\n",
       " Row(words_in_list='signs', count=44),\n",
       " Row(words_in_list='virtuous', count=44),\n",
       " Row(words_in_list='lashes', count=44),\n",
       " Row(words_in_list='happiness', count=44),\n",
       " Row(words_in_list='meet', count=44),\n",
       " Row(words_in_list='idea', count=44),\n",
       " Row(words_in_list='five', count=44),\n",
       " Row(words_in_list='thinking', count=44),\n",
       " Row(words_in_list='fathers', count=44),\n",
       " Row(words_in_list='subject', count=43),\n",
       " Row(words_in_list='entirely', count=43),\n",
       " Row(words_in_list='field', count=43),\n",
       " Row(words_in_list='lose', count=43),\n",
       " Row(words_in_list='oh', count=43),\n",
       " Row(words_in_list='presented', count=43),\n",
       " Row(words_in_list='promises', count=43),\n",
       " Row(words_in_list='safe', count=43),\n",
       " Row(words_in_list='keeping', count=43),\n",
       " Row(words_in_list='valour', count=43),\n",
       " Row(words_in_list='garden', count=43),\n",
       " Row(words_in_list='breast', count=43),\n",
       " Row(words_in_list='grave', count=43),\n",
       " Row(words_in_list='seated', count=43),\n",
       " Row(words_in_list='sometimes', count=43),\n",
       " Row(words_in_list='ourselves', count=43),\n",
       " Row(words_in_list='sweet', count=43),\n",
       " Row(words_in_list='mount', count=43),\n",
       " Row(words_in_list='hardly', count=43),\n",
       " Row(words_in_list='spoke', count=43),\n",
       " Row(words_in_list='canst', count=43),\n",
       " Row(words_in_list='believed', count=43),\n",
       " Row(words_in_list='rodriguez', count=43),\n",
       " Row(words_in_list='alive', count=43),\n",
       " Row(words_in_list='humour', count=43),\n",
       " Row(words_in_list='secret', count=43),\n",
       " Row(words_in_list='stop', count=43),\n",
       " Row(words_in_list='shalt', count=43),\n",
       " Row(words_in_list='equal', count=42),\n",
       " Row(words_in_list='treats', count=42),\n",
       " Row(words_in_list='bringing', count=42),\n",
       " Row(words_in_list='appeared', count=42),\n",
       " Row(words_in_list='peasant', count=42),\n",
       " Row(words_in_list='gentle', count=42),\n",
       " Row(words_in_list='lover', count=42),\n",
       " Row(words_in_list='charge', count=42),\n",
       " Row(words_in_list='gallant', count=42),\n",
       " Row(words_in_list='bearing', count=42),\n",
       " Row(words_in_list='fail', count=42),\n",
       " Row(words_in_list='intention', count=42),\n",
       " Row(words_in_list='land', count=42),\n",
       " Row(words_in_list='finished', count=42),\n",
       " Row(words_in_list='noble', count=42),\n",
       " Row(words_in_list='beast', count=41),\n",
       " Row(words_in_list='bore', count=41),\n",
       " Row(words_in_list='wounded', count=41),\n",
       " Row(words_in_list='chamber', count=41),\n",
       " Row(words_in_list='enemies', count=41),\n",
       " Row(words_in_list='dread', count=41),\n",
       " Row(words_in_list='sad', count=41),\n",
       " Row(words_in_list='joke', count=41),\n",
       " Row(words_in_list='entreat', count=41),\n",
       " Row(words_in_list='basilio', count=41),\n",
       " Row(words_in_list='misfortunes', count=41),\n",
       " Row(words_in_list='plan', count=41),\n",
       " Row(words_in_list='fault', count=41),\n",
       " Row(words_in_list='feeling', count=41),\n",
       " Row(words_in_list='mountains', count=41),\n",
       " Row(words_in_list='asleep', count=41),\n",
       " Row(words_in_list='wished', count=41),\n",
       " Row(words_in_list='doctor', count=41),\n",
       " Row(words_in_list='measure', count=41),\n",
       " Row(words_in_list='remedy', count=40),\n",
       " Row(words_in_list='engaged', count=40),\n",
       " Row(words_in_list='praise', count=40),\n",
       " Row(words_in_list='touch', count=40),\n",
       " Row(words_in_list='marriage', count=40),\n",
       " Row(words_in_list='stone', count=40),\n",
       " Row(words_in_list='persuaded', count=40),\n",
       " Row(words_in_list='merely', count=40),\n",
       " Row(words_in_list='today', count=40),\n",
       " Row(words_in_list='paper', count=40),\n",
       " Row(words_in_list='permission', count=40),\n",
       " Row(words_in_list='deserve', count=40),\n",
       " Row(words_in_list='leonela', count=40),\n",
       " Row(words_in_list='perceive', count=40),\n",
       " Row(words_in_list='enter', count=40),\n",
       " Row(words_in_list='across', count=40),\n",
       " Row(words_in_list='combat', count=40),\n",
       " Row(words_in_list='regard', count=40),\n",
       " Row(words_in_list='church', count=40),\n",
       " Row(words_in_list='dear', count=40),\n",
       " Row(words_in_list='delight', count=40),\n",
       " Row(words_in_list='dressed', count=40),\n",
       " Row(words_in_list='allowed', count=40),\n",
       " Row(words_in_list='change', count=40),\n",
       " Row(words_in_list='lying', count=40),\n",
       " Row(words_in_list='friendship', count=40),\n",
       " Row(words_in_list='happen', count=39),\n",
       " Row(words_in_list='understanding', count=39),\n",
       " Row(words_in_list='settled', count=39),\n",
       " Row(words_in_list='office', count=39),\n",
       " Row(words_in_list='hell', count=39),\n",
       " Row(words_in_list='form', count=39),\n",
       " Row(words_in_list='addressed', count=39),\n",
       " Row(words_in_list='title', count=39),\n",
       " Row(words_in_list='possession', count=39),\n",
       " Row(words_in_list='conscience', count=39),\n",
       " Row(words_in_list='content', count=39),\n",
       " Row(words_in_list='passion', count=39),\n",
       " Row(words_in_list='canon', count=39),\n",
       " Row(words_in_list='respect', count=39),\n",
       " Row(words_in_list='neck', count=39),\n",
       " Row(words_in_list='uttered', count=39),\n",
       " Row(words_in_list='anger', count=39),\n",
       " Row(words_in_list='due', count=39),\n",
       " ...]"
      ]
     },
     "execution_count": 54,
     "metadata": {},
     "output_type": "execute_result"
    }
   ],
   "source": [
    "def enhanced_word_count(file_path):\n",
    "    \n",
    "    df = spark.read.text(file_path)\n",
    "    df.select(F.explode(F.split(remove_punctuation(F.col(\"value\")), \" \")).alias(\"words_in_list\")) \\\n",
    "        .filter('words_in_list != \"\"').groupBy('words_in_list').count().sort('count', ascending=False).show()\n",
    "        \n",
    "    output = df.select(F.explode(F.split(remove_punctuation(F.col(\"value\")), \" \")).alias(\"words_in_list\")) \\\n",
    "        .filter('words_in_list != \"\"').groupBy('words_in_list').count().sort('count', ascending=False).collect()\n",
    "        \n",
    "    return output\n",
    "    \n",
    "enhanced_word_count(\"data/quixote.txt\")"
   ]
  },
  {
   "cell_type": "markdown",
   "metadata": {
    "deletable": false,
    "editable": false,
    "nbgrader": {
     "cell_type": "markdown",
     "checksum": "8e5f4cfcbfbf94108fc6b671ab7c9a3d",
     "grade": false,
     "grade_id": "cell-cd1ed4f3427ea1cd",
     "locked": true,
     "schema_version": 3,
     "solution": false,
     "task": false
    }
   },
   "source": [
    "## Exercise 1. Histogram of word repetition\n",
    "\n",
    "Provide a histogram of word repetitions, that is, the number of words that are repeated X times:\n",
    "\n",
    "* 1 time - 3 words\n",
    "* 2 times - 10 words\n",
    "* 3 times, 20 words\n",
    "...\n",
    "\n",
    "You are asked to implement a `histogram_reps(file_path)` function in Spark that **must not** use the function `word_count(file_path)`, but it could use part of the code you did before. All the processing must be done with **DataFrames**, and there should be a single `collect()` at the end to return a list. The list must be ordered by the number of times.\n",
    "\n",
    "**Input**: The path to a text file\n",
    "\n",
    "**Output**: (number of repetitions, number of words)\n",
    "\n",
    "                                                                                                       [30 marks]\n"
   ]
  },
  {
   "cell_type": "code",
   "execution_count": 55,
   "metadata": {
    "deletable": false,
    "nbgrader": {
     "cell_type": "code",
     "checksum": "96c253124c1be82aba643bfcb5bdac48",
     "grade": false,
     "grade_id": "cell-38476d16f40954cd",
     "locked": false,
     "schema_version": 3,
     "solution": true,
     "task": false
    }
   },
   "outputs": [
    {
     "data": {
      "text/plain": [
       "[(1, 17817),\n",
       " (2, 5146),\n",
       " (3, 2291),\n",
       " (4, 1520),\n",
       " (5, 998),\n",
       " (6, 737),\n",
       " (7, 589),\n",
       " (8, 439),\n",
       " (9, 333),\n",
       " (10, 288)]"
      ]
     },
     "execution_count": 55,
     "metadata": {},
     "output_type": "execute_result"
    }
   ],
   "source": [
    "def histogram_reps(file_path):\n",
    "    df = spark.read.text(file_path)\n",
    "    df.cache()\n",
    "\n",
    "    result = df.select( \\\n",
    "              F.explode(F.split(\"value\", \" \")) \\\n",
    "              .alias(\"word\")) \\\n",
    "        .filter(\"word != ''\") \\\n",
    "        .groupBy(\"word\").count() \\\n",
    "        .groupby('count').agg(F.count(\"count\").alias(\"num_of_words\")) \\\n",
    "        .sort(\"count\", ascending=True) \\\n",
    "        .limit(10) \\\n",
    "        .rdd.map(tuple) \\\n",
    "        .collect()  # change to rdd and return\n",
    "\n",
    "    df.unpersist()\n",
    "\n",
    "    return result\n",
    "\n",
    "histogram_reps('data/quixote.txt')[:20] # look at the first 20 results    "
   ]
  },
  {
   "cell_type": "code",
   "execution_count": 56,
   "metadata": {
    "deletable": false,
    "editable": false,
    "nbgrader": {
     "cell_type": "code",
     "checksum": "a544c7eef583dce482f2602922816325",
     "grade": true,
     "grade_id": "cell-bdde40e488c56163",
     "locked": true,
     "points": 0,
     "schema_version": 3,
     "solution": false,
     "task": false
    }
   },
   "outputs": [
    {
     "name": "stdout",
     "output_type": "stream",
     "text": [
      "1 test passed.\n"
     ]
    }
   ],
   "source": [
    "hist_quixote = histogram_reps(\"data/quixote.txt\")\n",
    "test(hist_quixote[:10],[(1, 17817), (2, 5146), (3, 2291), (4, 1520), \n",
    "                                     (5, 998), (6, 737), (7, 589), (8, 439), (9, 333), (10, 288)], \"Try again!\")"
   ]
  },
  {
   "cell_type": "markdown",
   "metadata": {},
   "source": [
    "You could plot this with the matplotlib library:"
   ]
  },
  {
   "cell_type": "code",
   "execution_count": 57,
   "metadata": {},
   "outputs": [
    {
     "data": {
      "image/png": "[encoded data removed]",
      "text/plain": [
       "<Figure size 640x480 with 1 Axes>"
      ]
     },
     "metadata": {},
     "output_type": "display_data"
    }
   ],
   "source": [
    "(x_values, y_values) = zip(*hist_quixote[:10])\n",
    "plt.bar(x_values, y_values)\n",
    "plt.title('Histogram of repetitions (up to 10)')\n",
    "plt.xlabel('Number of repetitions')\n",
    "plt.ylabel('Number of words')\n",
    "plt.show()"
   ]
  },
  {
   "cell_type": "markdown",
   "metadata": {
    "deletable": false,
    "editable": false,
    "nbgrader": {
     "cell_type": "markdown",
     "checksum": "dc16f0ec55f3c445756d2dfdb8ad91a4",
     "grade": false,
     "grade_id": "cell-5f7c2d07ff5e0889",
     "locked": true,
     "schema_version": 3,
     "solution": false,
     "task": false
    }
   },
   "source": [
    "## Exercise 2. Histogram of the length of the words\n",
    "\n",
    "\n",
    "Provide a histogram of the length of the words. Word repetition is not a problem, so if you have the word 'bye' twice in your document, you would add 2 to the number of words of length 3.\n",
    "\n",
    "* Length 1 - 100 times\n",
    "* Length 2 - 300 times\n",
    "* Length 3 - 400 times\n",
    "...\n",
    "\n",
    "You are asked to implement a `histogram_length(file_path)` function in Spark. All the processing must be done with **DataFrames**, and there should be a single `collect()` at the end to return a list. The list must be ordered by the length of the words.\n",
    "\n",
    "**Input**: A text document or multiple text documents\n",
    "\n",
    "**Output**: (Length, number of words)\n",
    "\n",
    "**Note: We are going to assume that the maximum word length is 16 characters, so anything above that shouldn't appear in the result.**\n",
    "\n",
    "                                                                                                       [30 marks]"
   ]
  },
  {
   "cell_type": "code",
   "execution_count": 58,
   "metadata": {
    "deletable": false,
    "nbgrader": {
     "cell_type": "code",
     "checksum": "efee1ed48b1a2144673c4af16a59233b",
     "grade": false,
     "grade_id": "cell-7cccb15c1a1e97fb",
     "locked": false,
     "schema_version": 3,
     "solution": true,
     "task": false
    }
   },
   "outputs": [
    {
     "data": {
      "text/plain": [
       "[Row(len_col=1, count=12978),\n",
       " Row(len_col=2, count=80003),\n",
       " Row(len_col=3, count=98414),\n",
       " Row(len_col=4, count=80717),\n",
       " Row(len_col=5, count=45809),\n",
       " Row(len_col=6, count=33672),\n",
       " Row(len_col=7, count=30995),\n",
       " Row(len_col=8, count=19570),\n",
       " Row(len_col=9, count=12350),\n",
       " Row(len_col=10, count=7929),\n",
       " Row(len_col=11, count=3849),\n",
       " Row(len_col=12, count=2043),\n",
       " Row(len_col=13, count=963),\n",
       " Row(len_col=14, count=539),\n",
       " Row(len_col=15, count=251),\n",
       " Row(len_col=16, count=110)]"
      ]
     },
     "execution_count": 58,
     "metadata": {},
     "output_type": "execute_result"
    }
   ],
   "source": [
    "def histogram_length(file_path):\n",
    "\n",
    "    df = spark.read.text(file_path)\n",
    "    return df.select(F.explode(F.split(\"value\", \" \")).alias(\"words_in_list\")) \\\n",
    "        .withColumn(\"len_col\",F.lit(F.length(F.col(\"words_in_list\")))) \\\n",
    "        .filter(F.col('len_col')>0).filter(F.col('len_col')<=16).drop('words_in_list') \\\n",
    "        .groupBy('len_col').count()\\\n",
    "        .sort('len_col', ascending=True).collect()\n",
    "        \n",
    "        \n",
    "histogram_length('data/quixote.txt')"
   ]
  },
  {
   "cell_type": "code",
   "execution_count": 59,
   "metadata": {
    "deletable": false,
    "editable": false,
    "nbgrader": {
     "cell_type": "code",
     "checksum": "48968bcb54f2e2fde4cf4371d8d68292",
     "grade": true,
     "grade_id": "cell-e460ec12b208f800",
     "locked": true,
     "points": 0,
     "schema_version": 3,
     "solution": false,
     "task": false
    }
   },
   "outputs": [
    {
     "name": "stdout",
     "output_type": "stream",
     "text": [
      "[Row(len_col=1, count=12978), Row(len_col=2, count=80003), Row(len_col=3, count=98414), Row(len_col=4, count=80717), Row(len_col=5, count=45809), Row(len_col=6, count=33672), Row(len_col=7, count=30995), Row(len_col=8, count=19570), Row(len_col=9, count=12350), Row(len_col=10, count=7929), Row(len_col=11, count=3849), Row(len_col=12, count=2043), Row(len_col=13, count=963), Row(len_col=14, count=539), Row(len_col=15, count=251), Row(len_col=16, count=110)]\n",
      "1 test passed.\n"
     ]
    }
   ],
   "source": [
    "length_quixote = histogram_length(\"data/quixote.txt\")\n",
    "print(length_quixote)\n",
    "test(length_quixote, [(1, 12978), (2, 80003), (3, 98414), (4, 80717), (5, 45809), \n",
    "                                   (6, 33672), (7, 30995), (8, 19570), (9, 12350), (10, 7929),\n",
    "                                   (11, 3849), (12, 2043), (13, 963), (14, 539), (15, 251), (16, 110)],\"Try again!\")"
   ]
  },
  {
   "cell_type": "markdown",
   "metadata": {
    "deletable": false,
    "editable": false,
    "nbgrader": {
     "cell_type": "markdown",
     "checksum": "93c0dc5f92724d7291a7b99be64e2e59",
     "grade": false,
     "grade_id": "cell-4246a9f0a617488f",
     "locked": true,
     "schema_version": 3,
     "solution": false,
     "task": false
    }
   },
   "source": [
    "## Exercise 3. Average length of the words in a document\n",
    "\n",
    "You are now asked to implement an `average_length(file_path)` function in Spark that provides the average length of the words in a document or documents. All the processing must be done with  using **DataFrames**., and the last instruction must be the only one returning a result to the driver. \n",
    "\n",
    "**Input**: The path to a text file\n",
    "\n",
    "**Output**: Average length of the words\n",
    "\n",
    "**Note: Again, we are going to assume that the maximum word length is 16 characters, so anything above that shouldn't be used to compute the average**\n",
    "\n",
    "**Hint**: You might be able to use some built-in functions from Spark!\n",
    "\n",
    "                                                                                                       [30 marks]"
   ]
  },
  {
   "cell_type": "code",
   "execution_count": 60,
   "metadata": {
    "deletable": false,
    "nbgrader": {
     "cell_type": "code",
     "checksum": "42fa941a9167c743ab567552f0327b9a",
     "grade": false,
     "grade_id": "cell-c584893574d599e2",
     "locked": false,
     "schema_version": 3,
     "solution": true
    }
   },
   "outputs": [
    {
     "data": {
      "text/plain": [
       "4.366843177000037"
      ]
     },
     "execution_count": 60,
     "metadata": {},
     "output_type": "execute_result"
    }
   ],
   "source": [
    "def average_length(file_path):\n",
    "    df = spark.read.text(file_path)\n",
    "    df_new = df.select(F.explode(F.split(\"value\", \" \")).alias(\"words_in_list\")) \\\n",
    "        .withColumn(\"len_col\",F.lit(F.length(F.col(\"words_in_list\")))) \\\n",
    "        .filter(F.col('len_col')>0).filter(F.col('len_col')<=16).drop('words_in_list')\n",
    "        \n",
    "    output = df_new.select(F.avg(df_new['len_col'])).first()\n",
    "    return output['avg(len_col)']\n",
    "    \n",
    "average_length(\"data/quixote.txt\")"
   ]
  },
  {
   "cell_type": "markdown",
   "metadata": {
    "deletable": false,
    "editable": false,
    "nbgrader": {
     "cell_type": "markdown",
     "checksum": "2274135a27bb41ba871722281a093978",
     "grade": false,
     "grade_id": "cell-d5d1b9609cbb789b",
     "locked": true,
     "schema_version": 3,
     "solution": false,
     "task": false
    }
   },
   "source": [
    "The program should pass the following test:"
   ]
  },
  {
   "cell_type": "code",
   "execution_count": 61,
   "metadata": {
    "deletable": false,
    "editable": false,
    "nbgrader": {
     "cell_type": "code",
     "checksum": "0b36a83b8a46e83c5c34a0467409b584",
     "grade": true,
     "grade_id": "cell-b707812456f2ad27",
     "locked": true,
     "points": 5,
     "schema_version": 3,
     "solution": false
    }
   },
   "outputs": [
    {
     "name": "stdout",
     "output_type": "stream",
     "text": [
      "1 test passed.\n"
     ]
    }
   ],
   "source": [
    "avg = average_length(\"data/quixote.txt\")\n",
    "test(round(avg,2), 4.37,'Try again!')"
   ]
  },
  {
   "cell_type": "code",
   "execution_count": null,
   "metadata": {},
   "outputs": [],
   "source": []
  }
 ],
 "metadata": {
  "kernelspec": {
   "display_name": "Python 3 (ipykernel)",
   "language": "python",
   "name": "python3"
  },
  "language_info": {
   "codemirror_mode": {
    "name": "ipython",
    "version": 3
   },
   "file_extension": ".py",
   "mimetype": "text/x-python",
   "name": "python",
   "nbconvert_exporter": "python",
   "pygments_lexer": "ipython3",
   "version": "3.12.2"
  }
 },
 "nbformat": 4,
 "nbformat_minor": 2
}
