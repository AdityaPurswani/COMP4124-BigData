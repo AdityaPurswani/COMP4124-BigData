{
  "cells": [
    {
      "cell_type": "markdown",
      "metadata": {
        "id": "oR6YxzFVoDaU"
      },
      "source": [
        "# Spark MLlib\n",
        "## Lab assignment: Example with the MLlib\n",
        "\n",
        "The aim of this notebook is to play with the MLlib of Apache Spark to create a Machine Learning pipeline that preprocess a dataset, train a model and make predictions. In particular, we are going to deal with a regression problem. The content of this lab has been inspired by the sample provided in the [DataBricks documentation](https://databricks-prod-cloudfront.cloud.databricks.com/public/4027ec902e239c93eaaa8714f173bcfc/2854662143668609/2084788691983918/6837869239396014/latest.html).\n",
        "\n",
        "\n",
        "## Appliances Energy Prediction\n",
        "\n",
        "**Data**: This dataset contains Energy consumption from appliances at 10 min resolution for about 4.5 months. The house temperature and humidity conditions were monitored with a wireless sensor network. Each wireless node transmitted the temperature and humidity conditions around 3.3 min. Then, the wireless data was averaged for 10 minutes periods. The energy data was logged every 10 minutes. Weather from the nearest airport weather station (Chievres Airport, Belgium) was also logged. This dataset is from [Candanedo et al](http://dx.doi.org/10.1016/j.enbuild.2017.01.083) and is hosted by the UCI Machine Learning Repository. [UCI Machine Learning Repository](http://archive.ics.uci.edu/ml/datasets/Appliances+energy+prediction).\n",
        "\n",
        "\n",
        "**Goal**: We want to learn to predict appliances' energy consumption based on weather information. It would also be nice to know which input features are the most relevant to make predictions.\n",
        "\n",
        "**Approach**: We will use Spark ML Pipelines, which help users piece together parts of a workflow such as feature processing and model training. We will also demonstrate model selection (a.k.a. hyperparameter tuning) using Cross Validation in order to fine-tune and improve our ML model."
      ]
    },
    {
      "cell_type": "markdown",
      "metadata": {
        "id": "NsDVUa5toDaV"
      },
      "source": [
        "## Submission and marking criteria\n",
        "\n",
        "You should complete this notebook and add your solutions to it. When you are done, rename your completed notebook as `ex04.ipynb`.\n",
        "\n",
        "Important notes:\n",
        "- The **group leader** must submit the `ex04.ipynb` file on Moodle.\n",
        "- **Each member of the group** must complete the peer review survey and their contribution statement using this [link](https://forms.office.com/Pages/ResponsePage.aspx?id=7qe9Z4D970GskTWEGCkKHjZupmfSK6JKqlvGZrucaoBURFJJWllYWVhQS09PMFNBVzlCT05JUjM4VCQlQCN0PWcu). **You can only submit this survey ONCE**.\n",
        "- This lab is marked out of 100 marks, and each section is allocated a number of marks that are indicated below.\n",
        "- The marking will be focused on the efficiency of the solution and its functionality. Minor mistakes will deduct marks from each exercise.\n",
        "\n",
        "- **Submission deadline: 8th April 2024 at 3pm**"
      ]
    },
    {
      "cell_type": "markdown",
      "metadata": {
        "id": "bkoFAKpRoDaV"
      },
      "source": [
        "The first thing we need to do to start working with Spark is to initialize the `SparkSession`. We will also import a few libraries we will use. *Remember if you are using Databricks that `spark` and `sc` are already available to you and don't need initializing.*"
      ]
    },
    {
      "cell_type": "code",
      "execution_count": 1,
      "metadata": {},
      "outputs": [],
      "source": [
        "import platform\n",
        "if platform.system() == \"Windows\": # for windows\n",
        "    import findspark  \n",
        "    print(\"Windows OS detected. Init findspark\")\n",
        "    findspark.init()\n"
      ]
    },
    {
      "cell_type": "code",
      "execution_count": 2,
      "metadata": {
        "colab": {
          "base_uri": "https://localhost:8080/"
        },
        "id": "ioJR2XfkoDaW",
        "outputId": "44ecda06-6867-43c4-c05b-0c1654fa0c23"
      },
      "outputs": [
        {
          "name": "stderr",
          "output_type": "stream",
          "text": [
            "24/04/08 13:15:47 WARN Utils: Your hostname, Adityas-MacBook-Pro.local resolves to a loopback address: 127.0.0.1; using 10.130.121.5 instead (on interface en0)\n",
            "24/04/08 13:15:47 WARN Utils: Set SPARK_LOCAL_IP if you need to bind to another address\n",
            "Setting default log level to \"WARN\".\n",
            "To adjust logging level use sc.setLogLevel(newLevel). For SparkR, use setLogLevel(newLevel).\n",
            "24/04/08 13:15:47 WARN NativeCodeLoader: Unable to load native-hadoop library for your platform... using builtin-java classes where applicable\n"
          ]
        }
      ],
      "source": [
        "from pyspark.sql import SparkSession\n",
        "\n",
        "spark = SparkSession \\\n",
        "    .builder \\\n",
        "    .master(\"local[*]\") \\\n",
        "    .appName(\"MLlib lab\") \\\n",
        "    .getOrCreate()\n",
        "\n",
        "sc = spark.sparkContext"
      ]
    },
    {
      "cell_type": "code",
      "execution_count": 3,
      "metadata": {
        "id": "vmIP8lNJoDaW"
      },
      "outputs": [],
      "source": [
        "%matplotlib inline\n",
        "import matplotlib.pyplot as plt\n",
        "import pyspark.sql.functions as F\n",
        "from pyspark.sql import Row\n",
        "\n",
        "# Helper function to test the correctness of the solutions\n",
        "def test(var, val, msg=\"\"):\n",
        "    print(\"1 test passed.\") if var == val else print(\"1 test failed. \" + msg)"
      ]
    },
    {
      "cell_type": "markdown",
      "metadata": {
        "id": "E0KKRuu3oDaW"
      },
      "source": [
        "## Load and understand the data  [10 marks]\n",
        "\n",
        "We begin by loading the data, which is in Comma-Separated Value (CSV) format. For that, you should use `spark.read` to read the file. Then, you should also cache the data so that we only read it from disk once."
      ]
    },
    {
      "cell_type": "code",
      "execution_count": 4,
      "metadata": {
        "colab": {
          "base_uri": "https://localhost:8080/"
        },
        "id": "BPIr9bz1oDaW",
        "outputId": "bd854c44-19ff-43b1-c6e2-8ef2fc47f8e8"
      },
      "outputs": [
        {
          "name": "stderr",
          "output_type": "stream",
          "text": [
            "24/04/08 13:15:53 WARN SparkStringUtils: Truncated the string representation of a plan since it was too large. This behavior can be adjusted by setting 'spark.sql.debug.maxToStringFields'.\n"
          ]
        },
        {
          "data": {
            "text/plain": [
              "DataFrame[date: timestamp, Appliances: double, lights: double, T1: double, RH_1: double, T2: double, RH_2: double, T3: double, RH_3: double, T4: double, RH_4: double, T5: double, RH_5: double, T6: double, RH_6: double, T7: double, RH_7: double, T8: double, RH_8: double, T9: double, RH_9: double, T_out: double, Press_mm_hg: double, RH_out: double, Windspeed: double, Visibility: double, Tdewpoint: double, rv1: double, rv2: double]"
            ]
          },
          "execution_count": 4,
          "metadata": {},
          "output_type": "execute_result"
        }
      ],
      "source": [
        "# Creating the dataframe\n",
        "path = 'data/energydata_complete.csv'\n",
        "df = spark.read.load(path,\n",
        "                      format='com.databricks.spark.csv',\n",
        "                      header='true',\n",
        "                      inferSchema = 'true')\n",
        "# Cache your DataFrame\n",
        "df.cache()\n",
        "# <FILL-IN WITH YOUR CODE>\n"
      ]
    },
    {
      "cell_type": "code",
      "execution_count": 5,
      "metadata": {
        "colab": {
          "base_uri": "https://localhost:8080/"
        },
        "id": "Y555ioaWoDaX",
        "outputId": "f07223b2-4706-41a5-bd99-27cfce677bed"
      },
      "outputs": [
        {
          "name": "stdout",
          "output_type": "stream",
          "text": [
            "1 test passed.\n",
            "1 test passed.\n"
          ]
        }
      ],
      "source": [
        "test(df.count(), 19735, 'Incorrect number of rows')\n",
        "test(df.is_cached, True, 'df not cached')"
      ]
    },
    {
      "cell_type": "markdown",
      "metadata": {
        "id": "fED_7eZnoDaX"
      },
      "source": [
        "#### Data description\n",
        "\n",
        "From the UCI ML Repository description, we know that the columns have the following meanings.\n",
        "\n",
        "**Attribute information**:\n",
        "```\n",
        "date time year-month-day hour:minute:second\n",
        "Appliances, energy use in Wh\n",
        "lights, energy use of light fixtures in the house in Wh\n",
        "T1, Temperature in kitchen area, in Celsius\n",
        "RH_1, Humidity in kitchen area, in %\n",
        "T2, Temperature in living room area, in Celsius\n",
        "RH_2, Humidity in living room area, in %\n",
        "T3, Temperature in laundry room area\n",
        "RH_3, Humidity in laundry room area, in %\n",
        "T4, Temperature in office room, in Celsius\n",
        "RH_4, Humidity in office room, in %\n",
        "T5, Temperature in bathroom, in Celsius\n",
        "RH_5, Humidity in bathroom, in %\n",
        "T6, Temperature outside the building (north side), in Celsius\n",
        "RH_6, Humidity outside the building (north side), in %\n",
        "T7, Temperature in ironing room , in Celsius\n",
        "RH_7, Humidity in ironing room, in %\n",
        "T8, Temperature in teenager room 2, in Celsius\n",
        "RH_8, Humidity in teenager room 2, in %\n",
        "T9, Temperature in parents room, in Celsius\n",
        "RH_9, Humidity in parents room, in %\n",
        "To, Temperature outside (from Chievres weather station), in Celsius\n",
        "Pressure (from Chievres weather station), in mm Hg\n",
        "RH_out, Humidity outside (from Chievres weather station), in %\n",
        "Wind speed (from Chievres weather station), in m/s\n",
        "Visibility (from Chievres weather station), in km\n",
        "Tdewpoint (from Chievres weather station), Â°C\n",
        "rv1, Random variable 1, nondimensional\n",
        "rv2, Random variable 2, nondimensional\n",
        "```\n",
        "\n",
        "**The target variable is the energy use of the Appliances.**\n",
        "\n",
        "For now, we will leave the two variables `rv1` and `rv2` in our dataset, to see if they are affecting much our methods, then we can try to remove them and see if we improve the results."
      ]
    },
    {
      "cell_type": "markdown",
      "metadata": {
        "id": "CwLZP3HToDaX"
      },
      "source": [
        "Use `show` to visualise the data. Be careful not to show the entire data frame :-), only 5 rows!"
      ]
    },
    {
      "cell_type": "code",
      "execution_count": 6,
      "metadata": {
        "colab": {
          "base_uri": "https://localhost:8080/"
        },
        "id": "PNUs5_LVoDaX",
        "outputId": "9de06a46-c1ca-4532-92c5-00eeeaf150eb"
      },
      "outputs": [
        {
          "name": "stdout",
          "output_type": "stream",
          "text": [
            "+-------------------+----------+------+-----+----------------+----+----------------+-----+----------------+----------------+----------------+----------------+-----+----------------+----------------+----------------+----------------+----+----------------+----------------+-----+----------------+-----------+------+----------------+----------------+---------+------------------+------------------+\n",
            "|               date|Appliances|lights|   T1|            RH_1|  T2|            RH_2|   T3|            RH_3|              T4|            RH_4|              T5| RH_5|              T6|            RH_6|              T7|            RH_7|  T8|            RH_8|              T9| RH_9|           T_out|Press_mm_hg|RH_out|       Windspeed|      Visibility|Tdewpoint|               rv1|               rv2|\n",
            "+-------------------+----------+------+-----+----------------+----+----------------+-----+----------------+----------------+----------------+----------------+-----+----------------+----------------+----------------+----------------+----+----------------+----------------+-----+----------------+-----------+------+----------------+----------------+---------+------------------+------------------+\n",
            "|2016-01-11 17:00:00|      60.0|  30.0|19.89|47.5966666666667|19.2|           44.79|19.79|           44.73|            19.0|45.5666666666667|17.1666666666667| 55.2|7.02666666666667|84.2566666666667|            17.2|41.6266666666667|18.2|            48.9|17.0333333333333|45.53|             6.6|      733.5|  92.0|             7.0|            63.0|      5.3|13.275433157104999|13.275433157104999|\n",
            "|2016-01-11 17:10:00|      60.0|  30.0|19.89|46.6933333333333|19.2|         44.7225|19.79|           44.79|            19.0|         45.9925|17.1666666666667| 55.2|6.83333333333333|84.0633333333333|            17.2|           41.56|18.2|48.8633333333333|17.0666666666667|45.56|6.48333333333333|      733.6|  92.0|6.66666666666667|59.1666666666667|      5.2|18.606194981839508|18.606194981839508|\n",
            "|2016-01-11 17:20:00|      50.0|  30.0|19.89|            46.3|19.2|44.6266666666667|19.79|44.9333333333333|18.9266666666667|           45.89|17.1666666666667|55.09|            6.56|83.1566666666667|            17.2|41.4333333333333|18.2|           48.73|            17.0| 45.5|6.36666666666667|      733.7|  92.0|6.33333333333333|55.3333333333333|      5.1| 28.64266816759482| 28.64266816759482|\n",
            "|2016-01-11 17:30:00|      50.0|  40.0|19.89|46.0666666666667|19.2|           44.59|19.79|            45.0|           18.89|45.7233333333333|17.1666666666667|55.09|6.43333333333333|83.4233333333333|17.1333333333333|           41.29|18.1|           48.59|            17.0| 45.4|            6.25|      733.8|  92.0|             6.0|            51.5|      5.0| 45.41038949973881| 45.41038949973881|\n",
            "|2016-01-11 17:40:00|      60.0|  40.0|19.89|46.3333333333333|19.2|           44.53|19.79|            45.0|           18.89|           45.53|            17.2|55.09|6.36666666666667|84.8933333333333|            17.2|           41.23|18.1|           48.59|            17.0| 45.4|6.13333333333333|      733.9|  92.0|5.66666666666667|47.6666666666667|      4.9| 10.08409655187279| 10.08409655187279|\n",
            "+-------------------+----------+------+-----+----------------+----+----------------+-----+----------------+----------------+----------------+----------------+-----+----------------+----------------+----------------+----------------+----+----------------+----------------+-----+----------------+-----------+------+----------------+----------------+---------+------------------+------------------+\n",
            "only showing top 5 rows\n",
            "\n"
          ]
        }
      ],
      "source": [
        "# show the dataframe\n",
        "df.show(5)"
      ]
    },
    {
      "cell_type": "markdown",
      "metadata": {
        "id": "Qdug-0zwoDaX"
      },
      "source": [
        "# Data preprocessing [10 marks]"
      ]
    },
    {
      "cell_type": "markdown",
      "metadata": {
        "id": "0Q-fa9PSoDaX"
      },
      "source": [
        "This dataset is nicely prepared for Machine Learning and required very little preprocessing. However, rather than keeping the date as a timestamp, we would like to have some additional columns, including 'day of the year', 'hour', and 'month of the year'. Please use the naming `dayofyear`, `hour` and `month`, respectively.\n",
        "\n",
        "**Hint**: Of course the SparkSQL library has a function to transform strings with datetime!\n",
        "\n",
        "Would you like to have any other information from the datetime? Feel free to add other features."
      ]
    },
    {
      "cell_type": "code",
      "execution_count": 7,
      "metadata": {
        "colab": {
          "base_uri": "https://localhost:8080/"
        },
        "id": "uh3rEJjHoDaY",
        "outputId": "e00b47c6-d87e-42f4-b6c0-3d6cf7d533e2"
      },
      "outputs": [
        {
          "name": "stdout",
          "output_type": "stream",
          "text": [
            "+-------------------+----------+------+-----+----------------+----+----------------+-----+----------------+----------------+----------------+----------------+-----+----------------+----------------+----------------+----------------+----+----------------+----------------+-----+----------------+-----------+------+----------------+----------------+---------+------------------+------------------+---------+----+-----+\n",
            "|               date|Appliances|lights|   T1|            RH_1|  T2|            RH_2|   T3|            RH_3|              T4|            RH_4|              T5| RH_5|              T6|            RH_6|              T7|            RH_7|  T8|            RH_8|              T9| RH_9|           T_out|Press_mm_hg|RH_out|       Windspeed|      Visibility|Tdewpoint|               rv1|               rv2|dayofyear|hour|month|\n",
            "+-------------------+----------+------+-----+----------------+----+----------------+-----+----------------+----------------+----------------+----------------+-----+----------------+----------------+----------------+----------------+----+----------------+----------------+-----+----------------+-----------+------+----------------+----------------+---------+------------------+------------------+---------+----+-----+\n",
            "|2016-01-11 17:00:00|      60.0|  30.0|19.89|47.5966666666667|19.2|           44.79|19.79|           44.73|            19.0|45.5666666666667|17.1666666666667| 55.2|7.02666666666667|84.2566666666667|            17.2|41.6266666666667|18.2|            48.9|17.0333333333333|45.53|             6.6|      733.5|  92.0|             7.0|            63.0|      5.3|13.275433157104999|13.275433157104999|       11|  17|    1|\n",
            "|2016-01-11 17:10:00|      60.0|  30.0|19.89|46.6933333333333|19.2|         44.7225|19.79|           44.79|            19.0|         45.9925|17.1666666666667| 55.2|6.83333333333333|84.0633333333333|            17.2|           41.56|18.2|48.8633333333333|17.0666666666667|45.56|6.48333333333333|      733.6|  92.0|6.66666666666667|59.1666666666667|      5.2|18.606194981839508|18.606194981839508|       11|  17|    1|\n",
            "|2016-01-11 17:20:00|      50.0|  30.0|19.89|            46.3|19.2|44.6266666666667|19.79|44.9333333333333|18.9266666666667|           45.89|17.1666666666667|55.09|            6.56|83.1566666666667|            17.2|41.4333333333333|18.2|           48.73|            17.0| 45.5|6.36666666666667|      733.7|  92.0|6.33333333333333|55.3333333333333|      5.1| 28.64266816759482| 28.64266816759482|       11|  17|    1|\n",
            "|2016-01-11 17:30:00|      50.0|  40.0|19.89|46.0666666666667|19.2|           44.59|19.79|            45.0|           18.89|45.7233333333333|17.1666666666667|55.09|6.43333333333333|83.4233333333333|17.1333333333333|           41.29|18.1|           48.59|            17.0| 45.4|            6.25|      733.8|  92.0|             6.0|            51.5|      5.0| 45.41038949973881| 45.41038949973881|       11|  17|    1|\n",
            "|2016-01-11 17:40:00|      60.0|  40.0|19.89|46.3333333333333|19.2|           44.53|19.79|            45.0|           18.89|           45.53|            17.2|55.09|6.36666666666667|84.8933333333333|            17.2|           41.23|18.1|           48.59|            17.0| 45.4|6.13333333333333|      733.9|  92.0|5.66666666666667|47.6666666666667|      4.9| 10.08409655187279| 10.08409655187279|       11|  17|    1|\n",
            "+-------------------+----------+------+-----+----------------+----+----------------+-----+----------------+----------------+----------------+----------------+-----+----------------+----------------+----------------+----------------+----+----------------+----------------+-----+----------------+-----------+------+----------------+----------------+---------+------------------+------------------+---------+----+-----+\n",
            "only showing top 5 rows\n",
            "\n"
          ]
        }
      ],
      "source": [
        "# creating new columns for day, hour and month\n",
        "df = df.withColumn(\"dayofyear\", F.dayofyear(\"date\"))\n",
        "df = df.withColumn(\"hour\", F.hour(\"date\"))\n",
        "df = df.withColumn(\"month\", F.month(\"date\"))\n",
        "\n",
        "df.show(5)\n"
      ]
    },
    {
      "cell_type": "markdown",
      "metadata": {
        "id": "Z-Z8AYrcoDaY"
      },
      "source": [
        "When you dataframe `df` has the additional columns, please remove the column `date`:"
      ]
    },
    {
      "cell_type": "code",
      "execution_count": 8,
      "metadata": {
        "id": "Sx6lKoTUoDaY"
      },
      "outputs": [],
      "source": [
        "# Drop the column date\n",
        "df = df.drop(\"date\")"
      ]
    },
    {
      "cell_type": "code",
      "execution_count": 9,
      "metadata": {
        "colab": {
          "base_uri": "https://localhost:8080/"
        },
        "id": "-EOIS2WloDaY",
        "outputId": "3d7e81f3-2ffe-45e3-babc-1c6f8ba70c78"
      },
      "outputs": [
        {
          "name": "stdout",
          "output_type": "stream",
          "text": [
            "1 test passed.\n",
            "1 test passed.\n",
            "1 test passed.\n",
            "1 test passed.\n"
          ]
        }
      ],
      "source": [
        "test(\"date\" in df.columns, False, \"Column date has not been remove!\")\n",
        "test(\"hour\" in df.columns, True, \"The hour hasn't been added\")\n",
        "test(\"dayofyear\" in df.columns, True, \"The dayofyear hasn't been added\")\n",
        "test(\"month\" in df.columns, True, \"The month hasn't been added\")"
      ]
    },
    {
      "cell_type": "markdown",
      "metadata": {
        "id": "AtJn_hJboDaY"
      },
      "source": [
        "Check the schema of your dataframe:"
      ]
    },
    {
      "cell_type": "code",
      "execution_count": 10,
      "metadata": {
        "colab": {
          "base_uri": "https://localhost:8080/"
        },
        "id": "cF7VrfaqoDaY",
        "outputId": "627c50fd-6ec9-4e65-b64d-97526dbccd87"
      },
      "outputs": [
        {
          "data": {
            "text/plain": [
              "StructType([StructField('Appliances', DoubleType(), True), StructField('lights', DoubleType(), True), StructField('T1', DoubleType(), True), StructField('RH_1', DoubleType(), True), StructField('T2', DoubleType(), True), StructField('RH_2', DoubleType(), True), StructField('T3', DoubleType(), True), StructField('RH_3', DoubleType(), True), StructField('T4', DoubleType(), True), StructField('RH_4', DoubleType(), True), StructField('T5', DoubleType(), True), StructField('RH_5', DoubleType(), True), StructField('T6', DoubleType(), True), StructField('RH_6', DoubleType(), True), StructField('T7', DoubleType(), True), StructField('RH_7', DoubleType(), True), StructField('T8', DoubleType(), True), StructField('RH_8', DoubleType(), True), StructField('T9', DoubleType(), True), StructField('RH_9', DoubleType(), True), StructField('T_out', DoubleType(), True), StructField('Press_mm_hg', DoubleType(), True), StructField('RH_out', DoubleType(), True), StructField('Windspeed', DoubleType(), True), StructField('Visibility', DoubleType(), True), StructField('Tdewpoint', DoubleType(), True), StructField('rv1', DoubleType(), True), StructField('rv2', DoubleType(), True), StructField('dayofyear', IntegerType(), True), StructField('hour', IntegerType(), True), StructField('month', IntegerType(), True)])"
            ]
          },
          "execution_count": 10,
          "metadata": {},
          "output_type": "execute_result"
        }
      ],
      "source": [
        "# printing schema\n",
        "df.schema"
      ]
    },
    {
      "cell_type": "markdown",
      "metadata": {
        "id": "DyG_X6QCoDaY"
      },
      "source": [
        "Dammit, all the input features have been inferred as strings rather than numeric values. This is because we read the data from a CSV file with the data in between quotes.\n",
        "\n",
        "Your task now is to transform that into numerical values. All of the features are actually numeric, so you could cast all of them. You are recommended to use functions like `cast` and `col` to do this. You could try to leave out the datetime columns we created, but it's fine if you transform them to float."
      ]
    },
    {
      "cell_type": "code",
      "execution_count": 11,
      "metadata": {
        "id": "DWxuAkiboDaY"
      },
      "outputs": [],
      "source": [
        "# typcasting the columns to appropriate types\n",
        "df=df.select([F.col(c).cast(\"double\") for c in df.columns])"
      ]
    },
    {
      "cell_type": "code",
      "execution_count": 12,
      "metadata": {
        "colab": {
          "base_uri": "https://localhost:8080/"
        },
        "id": "497gwy8woDaY",
        "outputId": "8fe7e48e-fb5e-4f34-84ff-d628cb3a57be"
      },
      "outputs": [
        {
          "data": {
            "text/plain": [
              "StructType([StructField('Appliances', DoubleType(), True), StructField('lights', DoubleType(), True), StructField('T1', DoubleType(), True), StructField('RH_1', DoubleType(), True), StructField('T2', DoubleType(), True), StructField('RH_2', DoubleType(), True), StructField('T3', DoubleType(), True), StructField('RH_3', DoubleType(), True), StructField('T4', DoubleType(), True), StructField('RH_4', DoubleType(), True), StructField('T5', DoubleType(), True), StructField('RH_5', DoubleType(), True), StructField('T6', DoubleType(), True), StructField('RH_6', DoubleType(), True), StructField('T7', DoubleType(), True), StructField('RH_7', DoubleType(), True), StructField('T8', DoubleType(), True), StructField('RH_8', DoubleType(), True), StructField('T9', DoubleType(), True), StructField('RH_9', DoubleType(), True), StructField('T_out', DoubleType(), True), StructField('Press_mm_hg', DoubleType(), True), StructField('RH_out', DoubleType(), True), StructField('Windspeed', DoubleType(), True), StructField('Visibility', DoubleType(), True), StructField('Tdewpoint', DoubleType(), True), StructField('rv1', DoubleType(), True), StructField('rv2', DoubleType(), True), StructField('dayofyear', DoubleType(), True), StructField('hour', DoubleType(), True), StructField('month', DoubleType(), True)])"
            ]
          },
          "execution_count": 12,
          "metadata": {},
          "output_type": "execute_result"
        }
      ],
      "source": [
        "#print the schema again.\n",
        "df.schema"
      ]
    },
    {
      "cell_type": "markdown",
      "metadata": {
        "id": "rqZ8OFMxoDaY"
      },
      "source": [
        "## Split data into training and test sets [10 marks]\n",
        "\n",
        "Our final data preparation step is to split our dataset into training and test sets. We will train and tune our model on the training set, and then see how well we do in the test."
      ]
    },
    {
      "cell_type": "markdown",
      "metadata": {
        "id": "18irtxtPoDaY"
      },
      "source": [
        "Your task is to split the dataframe `df` into 70% for training and 30% for test. Please use the same random seed."
      ]
    },
    {
      "cell_type": "code",
      "execution_count": 13,
      "metadata": {
        "colab": {
          "base_uri": "https://localhost:8080/"
        },
        "id": "Kb1mzpEQoDaY",
        "outputId": "c9c6d6ff-541a-4dac-b88a-df54375bcc6b"
      },
      "outputs": [
        {
          "name": "stdout",
          "output_type": "stream",
          "text": [
            "train 13987\n",
            "test 5748\n"
          ]
        }
      ],
      "source": [
        "# splitting the data into training and testing\n",
        "train_df, test_df = df.randomSplit(weights=[0.7,0.3], seed=42)\n",
        "print('train', train_df.count())\n",
        "print('test', test_df.count())\n"
      ]
    },
    {
      "cell_type": "markdown",
      "metadata": {
        "id": "iemZ6FkNoDaY"
      },
      "source": [
        "Even though we have fixed the random seed, you will not get the exact same split."
      ]
    },
    {
      "cell_type": "markdown",
      "metadata": {
        "id": "xT7Dnc3YoDaY"
      },
      "source": [
        "Note that this is the simplest way of validating your results. You may want to carry out a [k-fold cross validation](https://en.wikipedia.org/wiki/Cross-validation_(statistics)) and split the dataset into *k* folds, and build and test *k* models. We will do later cross validation but for parameter tuning! not to validate our approach!"
      ]
    },
    {
      "cell_type": "markdown",
      "metadata": {
        "id": "ykJG0HO_oDaZ"
      },
      "source": [
        "## Data visualisation [10 marks]\n",
        "\n",
        "Before applying any machine learning algorithm, it is a good practice to try to visualise your data. For example, we could see how much energy is spent in appliances depending on the month."
      ]
    },
    {
      "cell_type": "code",
      "execution_count": 14,
      "metadata": {
        "id": "HM92R61FoDaZ"
      },
      "outputs": [],
      "source": [
        "# create a variable `hist_elect` that contains the histogram of total energy consumed by the Appliances, grouped by month\n",
        "new_df = df.groupBy(\"Month\").agg(F.sum(\"Appliances\").alias(\"Total_Energy_Consumed\"))\n",
        "\n",
        "hist_elect = new_df.collect()\n"
      ]
    },
    {
      "cell_type": "code",
      "execution_count": 15,
      "metadata": {
        "colab": {
          "base_uri": "https://localhost:8080/",
          "height": 472
        },
        "id": "tOvmp8V8oDaZ",
        "outputId": "3af54faf-40da-4ecd-b15f-f77e4784d0e4"
      },
      "outputs": [
        {
          "data": {
            "image/png": "[encoded data removed]",
            "text/plain": [
              "<Figure size 640x480 with 1 Axes>"
            ]
          },
          "metadata": {},
          "output_type": "display_data"
        }
      ],
      "source": [
        "# plotting the graph\n",
        "(x_values, y_values) = zip(*hist_elect)\n",
        "plt.bar(x_values, y_values)\n",
        "plt.title('Histogram of repetitions (up to 10)')\n",
        "plt.xlabel('Month')\n",
        "plt.ylabel('Sum of Appliance Energy')\n",
        "plt.show()"
      ]
    },
    {
      "cell_type": "markdown",
      "metadata": {
        "id": "iIJMmKWvoDaZ"
      },
      "source": [
        "As we don't seem to have all the data from the 1st of January, well, we have less consumption in that particular months, so probably the month is not a good feature, don't you think? we are going to remove it from the dataframe and the training and test data frames too!"
      ]
    },
    {
      "cell_type": "code",
      "execution_count": 16,
      "metadata": {
        "id": "zNUnbfZsoDaZ"
      },
      "outputs": [],
      "source": [
        "# update the variables `df`, `train` and `test`, removing the column 'month'\n",
        "\n",
        "df = df.drop('month')\n",
        "train_df = train_df.drop('month')\n",
        "test_df = test_df.drop('month')"
      ]
    },
    {
      "cell_type": "markdown",
      "metadata": {
        "id": "c-hOetZxoDaZ"
      },
      "source": [
        "You could do other plots to understand better the data and practice with Spark :-). This is a good opportunity to practice with the DataFrame API, although if you are running this on Databricks, some plots can be generated very easily by yourself."
      ]
    },
    {
      "cell_type": "code",
      "execution_count": 17,
      "metadata": {
        "id": "4meSVaSkoDaZ"
      },
      "outputs": [
        {
          "data": {
            "image/png": "[encoded data removed]",
            "text/plain": [
              "<Figure size 640x480 with 1 Axes>"
            ]
          },
          "metadata": {},
          "output_type": "display_data"
        }
      ],
      "source": [
        "# <FILL-IN WITH YOUR CODE>\n",
        "import matplotlib.pyplot as plt\n",
        "\n",
        "# Appliance consumption vs. Temperature (T1)\n",
        "df_with_averages = df.groupBy(\"hour\").agg(F.avg(\"Appliances\"), F.avg(\"T1\")).withColumnRenamed(\"avg(Appliances)\", \"Avg Appliance Consumption\").withColumnRenamed(\"avg(T1)\", \"Avg T1\")\n",
        "\n",
        "# Check if there's any data after aggregation\n",
        "if not df_with_averages.isEmpty():\n",
        "    data = df_with_averages.collect()\n",
        "\n",
        "    x_axis = [row[\"Avg T1\"] for row in data]\n",
        "    y_axis = [row[\"Avg Appliance Consumption\"] for row in data]\n",
        "\n",
        "    plt.scatter(x_axis, y_axis)\n",
        "    plt.xlabel('Avg T1')\n",
        "    plt.ylabel('Avg Appliance Consumption')\n",
        "    plt.title('Appliance Consumption vs. Average Temperature (T1)')\n",
        "    plt.grid(True)\n",
        "    plt.show(5)"
      ]
    },
    {
      "cell_type": "markdown",
      "metadata": {
        "id": "ly3daftRoDaZ"
      },
      "source": [
        "# Create a Pipeline with Spark ML [20 marks]\n",
        "\n",
        "As you know, we can't feed the data frame directly to a machine learning algorithm, as we need to put all the input features as an Array, and indicate which one is the output feature (in our case, the 'Appliances' column!).\n",
        "\n",
        "We will put together a simple Pipeline with the following stages:\n",
        "\n",
        "- VectorAssembler: To combine all the input columns into a single vector column (i.e. all the columns but the 'Appliances' one.\n",
        "- Learning algorithm: I feel like using Gradient-Boosted Trees [GBTs](https://en.wikipedia.org/wiki/Gradient_boosting) for this example, but feel free to use anything else.\n",
        "- CrossValidator: I will use cross validation to tune the parameters of the GBT model. Yes, this can be added as part of a pipeline!  This is going to change the way we access the best model later!  "
      ]
    },
    {
      "cell_type": "markdown",
      "metadata": {
        "id": "F73XVX4AoDaZ"
      },
      "source": [
        "Step 1: Create the `VectorAssembler`:"
      ]
    },
    {
      "cell_type": "code",
      "execution_count": 18,
      "metadata": {
        "colab": {
          "base_uri": "https://localhost:8080/"
        },
        "id": "0bmZE2eeoDaZ",
        "outputId": "94e70991-3a40-489f-c601-9d2536626064"
      },
      "outputs": [
        {
          "name": "stdout",
          "output_type": "stream",
          "text": [
            "+----------+------+-----+----------------+----------------+----------------+-----+-----+----------------+-----+----------------+----------------+----------------+----------------+----------------+----------------+----------------+----------------+----------------+----------------+-----+----------------+----------------+----------------+----------+----------------+------------------+------------------+---------+----+--------------------+\n",
            "|Appliances|lights|   T1|            RH_1|              T2|            RH_2|   T3| RH_3|              T4| RH_4|              T5|            RH_5|              T6|            RH_6|              T7|            RH_7|              T8|            RH_8|              T9|            RH_9|T_out|     Press_mm_hg|          RH_out|       Windspeed|Visibility|       Tdewpoint|               rv1|               rv2|dayofyear|hour|            training|\n",
            "+----------+------+-----+----------------+----------------+----------------+-----+-----+----------------+-----+----------------+----------------+----------------+----------------+----------------+----------------+----------------+----------------+----------------+----------------+-----+----------------+----------------+----------------+----------+----------------+------------------+------------------+---------+----+--------------------+\n",
            "|      10.0|   0.0|17.29|            43.2|           16.29|           43.29| 17.7|41.26|            15.3| 42.5|15.5555555555556|48.9111111111111|             6.4|            99.9|           15.69|           38.09|16.6444444444444|45.9444444444444|           15.19|42.3633333333333|  5.9|766.733333333333|99.8333333333333|             4.0|      14.0|5.86666666666667|21.181605104357004|21.181605104357004|     23.0| 6.0|[0.0,17.29,43.2,1...|\n",
            "|      10.0|   0.0| 18.0|            43.7|17.1666666666667|           44.29| 19.1| 42.0|           16.89|44.09|16.6888888888889|           50.28|            7.66|83.8566666666667|            17.0|           39.29|17.1277777777778|           45.79|           16.29|           43.59|  7.2|763.833333333333|            82.0|8.66666666666667|      40.0|4.33333333333333| 2.874299674294889| 2.874299674294889|     29.0|11.0|[0.0,18.0,43.7,17...|\n",
            "|      10.0|   0.0| 19.0|39.3266666666667|           17.39|41.3266666666667| 20.7| 38.4|17.5666666666667| 39.4|16.9214285714286|45.9285714285714|             7.5|           92.69|            17.7|            34.9|19.3566666666667|           47.29|           17.65|         43.1725|7.425|          754.15|            96.5|             6.5|      61.0|            6.95| 8.607180730905384| 8.607180730905384|     51.0| 8.0|[0.0,19.0,39.3266...|\n",
            "|      10.0|   0.0| 19.0|47.1266666666667|           18.29|            46.9|19.73| 45.4|            18.0|48.09|           17.29|           53.74|8.22666666666667|            99.9|            17.5|44.8938888888889|17.5111111111111|           51.09|           16.89|            48.9|  8.3|           759.2|            89.0|             4.0|      29.0|             6.6|49.120302218943834|49.120302218943834|     28.0| 4.0|[0.0,19.0,47.1266...|\n",
            "|      10.0|   0.0| 19.1|45.8266666666667|           18.39|           45.26| 19.7|44.56|            18.2|45.59|            17.2|          52.334|             6.4|97.4233333333333|17.9572222222222|41.4611111111111|          17.945|47.6694444444444|16.9633333333333|46.6266666666667|  7.3|           765.2|            74.0|             2.0|      40.0|             2.9|28.884975414257497|28.884975414257497|     28.0|13.0|[0.0,19.1,45.8266...|\n",
            "+----------+------+-----+----------------+----------------+----------------+-----+-----+----------------+-----+----------------+----------------+----------------+----------------+----------------+----------------+----------------+----------------+----------------+----------------+-----+----------------+----------------+----------------+----------+----------------+------------------+------------------+---------+----+--------------------+\n",
            "only showing top 5 rows\n",
            "\n"
          ]
        }
      ],
      "source": [
        "from pyspark.ml.feature import VectorAssembler\n",
        "input_features = train_df.columns\n",
        "input_features.remove('Appliances')\n",
        "input_features\n",
        "# Generting a vector assembler to create an input vector with all input features\n",
        "\n",
        "assembler = VectorAssembler(inputCols=input_features, outputCol='training')\n",
        "assembler.transform(train_df).show(5)"
      ]
    },
    {
      "cell_type": "markdown",
      "metadata": {
        "id": "N5ODUKNMoDaZ"
      },
      "source": [
        "Step 2: Create an instance of `GBTRegressor` in which you don't indicate any parameters but the class label (i.e. `labelCol`) to 'Appliances'."
      ]
    },
    {
      "cell_type": "code",
      "execution_count": 19,
      "metadata": {
        "id": "PqgKpqv5oDaZ"
      },
      "outputs": [],
      "source": [
        "from pyspark.ml.regression import GBTRegressor\n",
        "\n",
        "#name the variable `gbt`\n",
        "# Defining model\n",
        "gbt = GBTRegressor(featuresCol='training', labelCol=\"Appliances\")"
      ]
    },
    {
      "cell_type": "markdown",
      "metadata": {
        "id": "VS0C_nShoDaj"
      },
      "source": [
        "Step 3: Create a `CrossValidator` for `gbt`."
      ]
    },
    {
      "cell_type": "markdown",
      "metadata": {
        "id": "uIbpDt03oDaj"
      },
      "source": [
        "You can explore the parameters you like for GBT. Full documentation [here](https://spark.apache.org/docs/latest/api/python/reference/api/pyspark.ml.regression.GBTRegressor.html). I would suggest to create a 'grid' for at least the depth of the tree and the number of iterations. Don't investigate more than 4-8 combinations! :-)"
      ]
    },
    {
      "cell_type": "markdown",
      "metadata": {
        "id": "CcF8Xv7OoDaj"
      },
      "source": [
        "Import the right libraries:"
      ]
    },
    {
      "cell_type": "code",
      "execution_count": 20,
      "metadata": {
        "id": "4R-00kfLoDaj"
      },
      "outputs": [],
      "source": [
        "from pyspark.ml.tuning import ParamGridBuilder, CrossValidator"
      ]
    },
    {
      "cell_type": "code",
      "execution_count": 21,
      "metadata": {
        "id": "Rc3gai3QoDaj"
      },
      "outputs": [],
      "source": [
        "# define a variable `paramGrid` with some parameters, e.g. for maxDepth, range [5,8], and for maxIter [10,20]\n",
        "paramGrid = ParamGridBuilder() \\\n",
        "    .addGrid(gbt.maxDepth, [5, 8]) \\\n",
        "    .addGrid(gbt.maxIter, [10, 20]) \\\n",
        "    .build()"
      ]
    },
    {
      "cell_type": "markdown",
      "metadata": {
        "id": "Ow4oobAqoDaj"
      },
      "source": [
        "Create a RegressionEvaluator that uses the [Root Mean Squared Error (RMSE)](https://en.wikipedia.org/wiki/Root-mean-square_deviation) as our performance metric. Import the right package first:"
      ]
    },
    {
      "cell_type": "code",
      "execution_count": 22,
      "metadata": {
        "id": "gMGd0A3YoDaj"
      },
      "outputs": [],
      "source": [
        "from pyspark.ml.evaluation import RegressionEvaluator"
      ]
    },
    {
      "cell_type": "code",
      "execution_count": 23,
      "metadata": {
        "id": "3d4qeVe3oDaj"
      },
      "outputs": [],
      "source": [
        "# create a variable `evaluator` with a rmse as metric for the prediction column given by `gbt`.\n",
        "evaluator = RegressionEvaluator(metricName=\"rmse\",labelCol=\"Appliances\")"
      ]
    },
    {
      "cell_type": "markdown",
      "metadata": {
        "id": "ogE__1OQoDaj"
      },
      "source": [
        "We can now create a CrossValidator `cv` that uses the `gbt` as estimator, as well as the evaluator and grid we defined above."
      ]
    },
    {
      "cell_type": "code",
      "execution_count": 24,
      "metadata": {
        "id": "VjAmFAUNoDaj"
      },
      "outputs": [
        {
          "name": "stderr",
          "output_type": "stream",
          "text": [
            "24/04/08 13:16:50 WARN InstanceBuilder: Failed to load implementation from:dev.ludovic.netlib.blas.JNIBLAS\n",
            "24/04/08 13:16:50 WARN InstanceBuilder: Failed to load implementation from:dev.ludovic.netlib.blas.VectorBLAS\n"
          ]
        }
      ],
      "source": [
        "# Cross Validating the result to get best results\n",
        "# Hyperparameter Tuning\n",
        "cv = CrossValidator(estimator=gbt,\n",
        "                           estimatorParamMaps=paramGrid,\n",
        "                           evaluator=evaluator,\n",
        "                           numFolds=3)\n",
        "\n",
        "cv_model = cv.fit(assembler.transform(train_df))\n",
        "\n",
        "best_model = cv_model.bestModel"
      ]
    },
    {
      "cell_type": "code",
      "execution_count": 25,
      "metadata": {
        "colab": {
          "base_uri": "https://localhost:8080/"
        },
        "id": "hzW25g4j-6GC",
        "outputId": "96fae845-2499-475d-c731-e2579a71d1e0"
      },
      "outputs": [
        {
          "data": {
            "text/plain": [
              "GBTRegressionModel: uid=GBTRegressor_bdbc9e49f98c, numTrees=20, numFeatures=29"
            ]
          },
          "execution_count": 25,
          "metadata": {},
          "output_type": "execute_result"
        }
      ],
      "source": [
        "best_model"
      ]
    },
    {
      "cell_type": "markdown",
      "metadata": {
        "id": "_HrMnBONoDak"
      },
      "source": [
        "Step 4. Create a Pipeline (`pipeline`) that contains the two stages: `vectorAssembler` and `cv`"
      ]
    },
    {
      "cell_type": "code",
      "execution_count": 26,
      "metadata": {
        "id": "jdKvzNLooDak"
      },
      "outputs": [],
      "source": [
        "from pyspark.ml import Pipeline\n",
        "\n",
        "# Creating a pipeline model\n",
        "pipeline = Pipeline(stages=[assembler, cv])"
      ]
    },
    {
      "cell_type": "markdown",
      "metadata": {
        "id": "Vt_oQ_7poDak"
      },
      "source": [
        "Step 5. Finally, `fit` the model, and store in a `pipelineModel` variable. This might take quite a bit of time!"
      ]
    },
    {
      "cell_type": "code",
      "execution_count": 27,
      "metadata": {
        "id": "g7QXKdbMoDak"
      },
      "outputs": [],
      "source": [
        "# Fitting the pipeline model\n",
        "pipelineModel = pipeline.fit(train_df)"
      ]
    },
    {
      "cell_type": "markdown",
      "metadata": {
        "id": "M2bjFPbioDak"
      },
      "source": [
        "It could be a good idea to save this to disk, in case it takes too long, so we can read it later."
      ]
    },
    {
      "cell_type": "code",
      "execution_count": 28,
      "metadata": {},
      "outputs": [
        {
          "name": "stderr",
          "output_type": "stream",
          "text": [
            "                                                                                \r"
          ]
        }
      ],
      "source": [
        "pipelineModel.save(\"Model-lab4\")"
      ]
    },
    {
      "cell_type": "markdown",
      "metadata": {
        "id": "uarIr_BmoDak"
      },
      "source": [
        "## Evaluate the results [10 marks]"
      ]
    },
    {
      "cell_type": "markdown",
      "metadata": {
        "id": "WdIP-2FToDak"
      },
      "source": [
        "To obtain the predictions in the test set, apply the method `transform()` of the trained pipeline on the test DataFrame! This will not apply the cross-validation of course!"
      ]
    },
    {
      "cell_type": "code",
      "execution_count": 29,
      "metadata": {
        "id": "UVk_qm5ZoDak"
      },
      "outputs": [],
      "source": [
        "# create a variable `predictions`:\n",
        "\n",
        "# predicting the result via pipeline model\n",
        "predictions = pipelineModel.transform(test_df)\n",
        "evaluator = RegressionEvaluator(metricName=\"rmse\",labelCol=\"Appliances\", predictionCol=\"prediction\")\n"
      ]
    },
    {
      "cell_type": "markdown",
      "metadata": {
        "id": "AcbekUiMoDak"
      },
      "source": [
        "It is easier to view the results when we limit the columns displayed to:\n",
        "\n",
        "- `Appliances`: the consumption of the Appliances in Wh\n",
        "- `prediction`: our predicted prediction\n",
        "\n",
        "Find a way to show the output only for these two features (only for the first 5 rows):"
      ]
    },
    {
      "cell_type": "code",
      "execution_count": 30,
      "metadata": {
        "colab": {
          "base_uri": "https://localhost:8080/"
        },
        "id": "u8_CrlfnoDak",
        "outputId": "79b40de4-f001-43f4-89c4-0425709b79c8"
      },
      "outputs": [
        {
          "name": "stdout",
          "output_type": "stream",
          "text": [
            "+----------+-----------------+\n",
            "|Appliances|       prediction|\n",
            "+----------+-----------------+\n",
            "|      10.0|45.02637904656508|\n",
            "|      10.0|43.66509293874686|\n",
            "|      10.0|92.07503221406967|\n",
            "|      20.0|45.66323477576466|\n",
            "|      20.0|37.11719571004385|\n",
            "+----------+-----------------+\n",
            "only showing top 5 rows\n",
            "\n"
          ]
        }
      ],
      "source": [
        "# Show predictions across actual output\n",
        "predictions.select('Appliances','prediction').show(5)"
      ]
    },
    {
      "cell_type": "markdown",
      "metadata": {
        "id": "1Z4DLS7roDak"
      },
      "source": [
        "Are these results any good? Let's compute the RMSE using the evaluator we created before! Store the result in a `rmse` variable."
      ]
    },
    {
      "cell_type": "code",
      "execution_count": 31,
      "metadata": {
        "id": "_Ultkdz4oDak"
      },
      "outputs": [],
      "source": [
        "# Calculating the RMSE\n",
        "rmse = evaluator.evaluate(predictions)"
      ]
    },
    {
      "cell_type": "code",
      "execution_count": 32,
      "metadata": {
        "colab": {
          "base_uri": "https://localhost:8080/"
        },
        "id": "Be4i5GzIoDak",
        "outputId": "6b729ca8-bee8-4359-e698-0edb642bc2c9"
      },
      "outputs": [
        {
          "name": "stdout",
          "output_type": "stream",
          "text": [
            "83.55749966837573\n"
          ]
        }
      ],
      "source": [
        "print(rmse)"
      ]
    },
    {
      "cell_type": "markdown",
      "metadata": {
        "id": "_Fb4b7ykoDak"
      },
      "source": [
        "Seems a bit high?  Well, this number is closer to what it is reported in the original paper with RF (RMSE around 69).\n",
        "\n",
        "But maybe you can investigate a bit more if you can improve that. Can you find out the importance of the features from the GBTs?  "
      ]
    },
    {
      "cell_type": "markdown",
      "metadata": {
        "id": "4-mjL__yoDak"
      },
      "source": [
        "You first need to find out the best model!! In the way we trained the pipeline, you can find the trained cvModel as one of the stages of the `pipelineModel`:"
      ]
    },
    {
      "cell_type": "code",
      "execution_count": 33,
      "metadata": {
        "id": "aBs8kWgSoDak"
      },
      "outputs": [],
      "source": [
        "cvModel = pipelineModel.stages[1]"
      ]
    },
    {
      "cell_type": "code",
      "execution_count": 34,
      "metadata": {
        "colab": {
          "base_uri": "https://localhost:8080/"
        },
        "id": "uam1zXwAoDak",
        "outputId": "e1e593ff-69fb-429e-ddfd-9eebbfa80e76"
      },
      "outputs": [
        {
          "data": {
            "text/plain": [
              "GBTRegressionModel: uid=GBTRegressor_4ebf9cdb761d, numTrees=20, numFeatures=29"
            ]
          },
          "execution_count": 34,
          "metadata": {},
          "output_type": "execute_result"
        }
      ],
      "source": [
        "cvModel.bestModel"
      ]
    },
    {
      "cell_type": "markdown",
      "metadata": {
        "id": "P6URZiQuoDak"
      },
      "source": [
        "Check the feature importances of that `cvModel`:"
      ]
    },
    {
      "cell_type": "code",
      "execution_count": 35,
      "metadata": {
        "colab": {
          "base_uri": "https://localhost:8080/"
        },
        "id": "XG07ySsIoDak",
        "outputId": "0568de29-3905-4eac-f833-102c360d00a3"
      },
      "outputs": [
        {
          "data": {
            "text/plain": [
              "SparseVector(29, {0: 0.0292, 1: 0.0341, 2: 0.0527, 3: 0.0425, 4: 0.0488, 5: 0.0557, 6: 0.0297, 7: 0.0225, 8: 0.0323, 9: 0.0304, 10: 0.0376, 11: 0.0292, 12: 0.0513, 13: 0.0235, 14: 0.0233, 15: 0.0585, 16: 0.0286, 17: 0.017, 18: 0.02, 19: 0.0275, 20: 0.0228, 21: 0.0331, 22: 0.0468, 23: 0.009, 24: 0.0236, 25: 0.0115, 27: 0.0448, 28: 0.114})"
            ]
          },
          "execution_count": 35,
          "metadata": {},
          "output_type": "execute_result"
        }
      ],
      "source": [
        "cvModel.bestModel.featureImportances"
      ]
    },
    {
      "cell_type": "markdown",
      "metadata": {
        "id": "tSxPxnpsoDal"
      },
      "source": [
        "Uhm, looks like our model gave feature #28 quite a bit of importance, which is the hour of the day if I recall correctly.  Features #25 and #26 were random, and the model noticed that 26 was completely useless, but gave some importance to 'rv1'. GBTs perform somehow an implicit feature selection, so those low importance features won't affect much their performance, but I wonder if we could just remove low importance features?"
      ]
    },
    {
      "cell_type": "markdown",
      "metadata": {
        "id": "lr0T2sZRoDal"
      },
      "source": [
        "*Task*: Create a list of those features with less than for example 0.05."
      ]
    },
    {
      "cell_type": "code",
      "execution_count": 36,
      "metadata": {
        "id": "DxYKjclsoDal"
      },
      "outputs": [],
      "source": [
        "# Converting the feature Importance vector to an array\n",
        "pairs = cvModel.bestModel.featureImportances\n",
        "feature_importance = pairs.toArray()\n"
      ]
    },
    {
      "cell_type": "code",
      "execution_count": 37,
      "metadata": {
        "id": "v0B-A_AMoDal"
      },
      "outputs": [],
      "source": [
        "# create a list `to_remove` that contains the feature names that must be removed because their confidence is less than 0.05\n",
        "#  Create a list of feature names to remove\n",
        "to_remove = [df.columns[i] for i, importance in enumerate(feature_importance) if importance < 0.05]\n"
      ]
    },
    {
      "cell_type": "code",
      "execution_count": 38,
      "metadata": {
        "colab": {
          "base_uri": "https://localhost:8080/"
        },
        "id": "lLHiyI-doDal",
        "outputId": "1f7d1c34-8293-47f3-ab31-cb86521cfd34"
      },
      "outputs": [
        {
          "name": "stdout",
          "output_type": "stream",
          "text": [
            "['Appliances', 'lights', 'RH_1', 'T2', 'T3', 'RH_3', 'T4', 'RH_4', 'T5', 'RH_5', 'RH_6', 'T7', 'T8', 'RH_8', 'T9', 'RH_9', 'T_out', 'Press_mm_hg', 'RH_out', 'Windspeed', 'Visibility', 'Tdewpoint', 'rv1', 'rv2']\n"
          ]
        }
      ],
      "source": [
        "print(to_remove)"
      ]
    },
    {
      "cell_type": "markdown",
      "metadata": {
        "id": "Hn7XbHIWoDal"
      },
      "source": [
        "## Removing low importance features [10 marks]"
      ]
    },
    {
      "cell_type": "markdown",
      "metadata": {
        "id": "WtUsC_RIoDal"
      },
      "source": [
        "Check the current schema of the training data:"
      ]
    },
    {
      "cell_type": "code",
      "execution_count": 39,
      "metadata": {
        "colab": {
          "base_uri": "https://localhost:8080/"
        },
        "id": "6fdKUBxFoDal",
        "outputId": "748b8589-2362-4b57-f23f-c64d820deb9b"
      },
      "outputs": [
        {
          "data": {
            "text/plain": [
              "StructType([StructField('Appliances', DoubleType(), True), StructField('lights', DoubleType(), True), StructField('T1', DoubleType(), True), StructField('RH_1', DoubleType(), True), StructField('T2', DoubleType(), True), StructField('RH_2', DoubleType(), True), StructField('T3', DoubleType(), True), StructField('RH_3', DoubleType(), True), StructField('T4', DoubleType(), True), StructField('RH_4', DoubleType(), True), StructField('T5', DoubleType(), True), StructField('RH_5', DoubleType(), True), StructField('T6', DoubleType(), True), StructField('RH_6', DoubleType(), True), StructField('T7', DoubleType(), True), StructField('RH_7', DoubleType(), True), StructField('T8', DoubleType(), True), StructField('RH_8', DoubleType(), True), StructField('T9', DoubleType(), True), StructField('RH_9', DoubleType(), True), StructField('T_out', DoubleType(), True), StructField('Press_mm_hg', DoubleType(), True), StructField('RH_out', DoubleType(), True), StructField('Windspeed', DoubleType(), True), StructField('Visibility', DoubleType(), True), StructField('Tdewpoint', DoubleType(), True), StructField('rv1', DoubleType(), True), StructField('rv2', DoubleType(), True), StructField('dayofyear', DoubleType(), True), StructField('hour', DoubleType(), True)])"
            ]
          },
          "execution_count": 39,
          "metadata": {},
          "output_type": "execute_result"
        }
      ],
      "source": [
        "# Print Schema\n",
        "train_df.schema"
      ]
    },
    {
      "cell_type": "markdown",
      "metadata": {
        "id": "mKiIwlHloDal"
      },
      "source": [
        "You don't need to remove the columns from train and test partitions as you won't be able to re-train the pipeline without modifying the VectorAssemble. You simply need to indicate the columns you want to use when creating a new `vectorAssembler2`:"
      ]
    },
    {
      "cell_type": "code",
      "execution_count": 40,
      "metadata": {
        "colab": {
          "base_uri": "https://localhost:8080/"
        },
        "id": "DPI6fBp9oDal",
        "outputId": "c46571e9-6f17-41a5-d02b-2f7ae7729100"
      },
      "outputs": [
        {
          "name": "stdout",
          "output_type": "stream",
          "text": [
            "+----------+------+-----+----------------+----------------+----------------+-----+-----+----------------+-----+----------------+----------------+----------------+----------------+----------------+----------------+----------------+----------------+----------------+----------------+-----+----------------+----------------+----------------+----------+----------------+------------------+------------------+---------+----+--------------------+\n",
            "|Appliances|lights|   T1|            RH_1|              T2|            RH_2|   T3| RH_3|              T4| RH_4|              T5|            RH_5|              T6|            RH_6|              T7|            RH_7|              T8|            RH_8|              T9|            RH_9|T_out|     Press_mm_hg|          RH_out|       Windspeed|Visibility|       Tdewpoint|               rv1|               rv2|dayofyear|hour|            training|\n",
            "+----------+------+-----+----------------+----------------+----------------+-----+-----+----------------+-----+----------------+----------------+----------------+----------------+----------------+----------------+----------------+----------------+----------------+----------------+-----+----------------+----------------+----------------+----------+----------------+------------------+------------------+---------+----+--------------------+\n",
            "|      10.0|   0.0|17.29|            43.2|           16.29|           43.29| 17.7|41.26|            15.3| 42.5|15.5555555555556|48.9111111111111|             6.4|            99.9|           15.69|           38.09|16.6444444444444|45.9444444444444|           15.19|42.3633333333333|  5.9|766.733333333333|99.8333333333333|             4.0|      14.0|5.86666666666667|21.181605104357004|21.181605104357004|     23.0| 6.0|[17.29,43.29,6.4,...|\n",
            "|      10.0|   0.0| 18.0|            43.7|17.1666666666667|           44.29| 19.1| 42.0|           16.89|44.09|16.6888888888889|           50.28|            7.66|83.8566666666667|            17.0|           39.29|17.1277777777778|           45.79|           16.29|           43.59|  7.2|763.833333333333|            82.0|8.66666666666667|      40.0|4.33333333333333| 2.874299674294889| 2.874299674294889|     29.0|11.0|[18.0,44.29,7.66,...|\n",
            "|      10.0|   0.0| 19.0|39.3266666666667|           17.39|41.3266666666667| 20.7| 38.4|17.5666666666667| 39.4|16.9214285714286|45.9285714285714|             7.5|           92.69|            17.7|            34.9|19.3566666666667|           47.29|           17.65|         43.1725|7.425|          754.15|            96.5|             6.5|      61.0|            6.95| 8.607180730905384| 8.607180730905384|     51.0| 8.0|[19.0,41.32666666...|\n",
            "|      10.0|   0.0| 19.0|47.1266666666667|           18.29|            46.9|19.73| 45.4|            18.0|48.09|           17.29|           53.74|8.22666666666667|            99.9|            17.5|44.8938888888889|17.5111111111111|           51.09|           16.89|            48.9|  8.3|           759.2|            89.0|             4.0|      29.0|             6.6|49.120302218943834|49.120302218943834|     28.0| 4.0|[19.0,46.9,8.2266...|\n",
            "|      10.0|   0.0| 19.1|45.8266666666667|           18.39|           45.26| 19.7|44.56|            18.2|45.59|            17.2|          52.334|             6.4|97.4233333333333|17.9572222222222|41.4611111111111|          17.945|47.6694444444444|16.9633333333333|46.6266666666667|  7.3|           765.2|            74.0|             2.0|      40.0|             2.9|28.884975414257497|28.884975414257497|     28.0|13.0|[19.1,45.26,6.4,4...|\n",
            "+----------+------+-----+----------------+----------------+----------------+-----+-----+----------------+-----+----------------+----------------+----------------+----------------+----------------+----------------+----------------+----------------+----------------+----------------+-----+----------------+----------------+----------------+----------+----------------+------------------+------------------+---------+----+--------------------+\n",
            "only showing top 5 rows\n",
            "\n"
          ]
        }
      ],
      "source": [
        "# Removing the features and creating a vector assembler\n",
        "input_features = train_df.columns\n",
        "for i in to_remove:\n",
        "  input_features.remove(i)\n",
        "\n",
        "vectorAssembler2 = VectorAssembler(inputCols=input_features, outputCol='training')\n",
        "vectorAssembler2.transform(train_df).show(5)"
      ]
    },
    {
      "cell_type": "markdown",
      "metadata": {
        "id": "ZqOWazbGoDal"
      },
      "source": [
        "and create a new pipeline, `pipeline2`, with that new `vectorAssemble2`:"
      ]
    },
    {
      "cell_type": "code",
      "execution_count": 41,
      "metadata": {
        "id": "UpSu7qc0oDal"
      },
      "outputs": [],
      "source": [
        "# Pipeline for reduced features\n",
        "pipeline2 = Pipeline(stages=[vectorAssembler2, cv])"
      ]
    },
    {
      "cell_type": "markdown",
      "metadata": {
        "id": "L81VhK3loDal"
      },
      "source": [
        "And `fit` the new pipeline:"
      ]
    },
    {
      "cell_type": "code",
      "execution_count": 42,
      "metadata": {
        "id": "3BN585KJoDal"
      },
      "outputs": [],
      "source": [
        "# Fitting the model pipeline\n",
        "pipelineModel2 = pipeline2.fit(train_df)"
      ]
    },
    {
      "cell_type": "markdown",
      "metadata": {
        "id": "S3rsgy9HoDal"
      },
      "source": [
        "Finally, make predictions and compute the error:"
      ]
    },
    {
      "cell_type": "code",
      "execution_count": 43,
      "metadata": {
        "id": "kYXOVDHToDal"
      },
      "outputs": [],
      "source": [
        "# <FILL-IN WITH YOUR CODE>\n",
        "# Evaluating the error\n",
        "predictions = pipelineModel2.transform(test_df)\n",
        "rmse = evaluator.evaluate(predictions)"
      ]
    },
    {
      "cell_type": "code",
      "execution_count": 44,
      "metadata": {
        "colab": {
          "base_uri": "https://localhost:8080/"
        },
        "id": "tLccKHD8oDal",
        "outputId": "b69f5d14-3966-4462-e010-8ef844f105c5"
      },
      "outputs": [
        {
          "name": "stdout",
          "output_type": "stream",
          "text": [
            "79.44280057306445\n"
          ]
        }
      ],
      "source": [
        "print(rmse)"
      ]
    },
    {
      "cell_type": "markdown",
      "metadata": {
        "id": "q6srvSuJoDal"
      },
      "source": [
        "Check the features of the best model and feature importances:"
      ]
    },
    {
      "cell_type": "code",
      "execution_count": 45,
      "metadata": {
        "id": "w4efDiBgoDal"
      },
      "outputs": [],
      "source": [
        "cvModel2 = pipelineModel2.stages[1]"
      ]
    },
    {
      "cell_type": "code",
      "execution_count": 46,
      "metadata": {
        "colab": {
          "base_uri": "https://localhost:8080/"
        },
        "id": "KltSAxh0oDam",
        "outputId": "cab63ca8-4937-43f9-bc23-4229d0c24145"
      },
      "outputs": [
        {
          "data": {
            "text/plain": [
              "GBTRegressionModel: uid=GBTRegressor_4ebf9cdb761d, numTrees=20, numFeatures=6"
            ]
          },
          "execution_count": 46,
          "metadata": {},
          "output_type": "execute_result"
        }
      ],
      "source": [
        "cvModel2.bestModel"
      ]
    },
    {
      "cell_type": "code",
      "execution_count": 47,
      "metadata": {
        "colab": {
          "base_uri": "https://localhost:8080/"
        },
        "id": "l_26ZMOLoDam",
        "outputId": "fba7b9a1-403d-435c-f01d-0442d0b8ebda"
      },
      "outputs": [
        {
          "data": {
            "text/plain": [
              "SparseVector(6, {0: 0.1645, 1: 0.1805, 2: 0.1657, 3: 0.1702, 4: 0.1274, 5: 0.1918})"
            ]
          },
          "execution_count": 47,
          "metadata": {},
          "output_type": "execute_result"
        }
      ],
      "source": [
        "# Feature Importance scores of best model after validation\n",
        "cvModel2.bestModel.featureImportances"
      ]
    },
    {
      "cell_type": "markdown",
      "metadata": {
        "id": "dQagCQMgoDam"
      },
      "source": [
        "In my case, I got the same performance as before, but this time my model only considered 3 input features! This might not have made our model more precise (Because GBTs already ignored those features), but makes it more interpretable!"
      ]
    },
    {
      "cell_type": "markdown",
      "metadata": {
        "id": "qqFITOTmoDam"
      },
      "source": [
        "# Improving further your model [20 marks]"
      ]
    },
    {
      "cell_type": "markdown",
      "metadata": {
        "id": "uDRVe-c3oDam"
      },
      "source": [
        "There might be many ways to improve the results we obtained here.\n",
        "\n",
        "A few ideas for you to think about:\n",
        "\n",
        "- Parameter tuning: I have used a relatively small set of parameters, and I haven't investigated what happened in training and test, is there overfitting of the training? would we be able to use a large number of trees?\n",
        "- The features of this dataset are numerical, are there other classifiers that may be more appropriate than GBTs?\n",
        "- We haven't really done any careful pre-processing of the data. Are there outliers or noise that might be having an impact in the results?\n",
        "- Do we need any normalisation?"
      ]
    },
    {
      "cell_type": "code",
      "execution_count": 48,
      "metadata": {
        "colab": {
          "base_uri": "https://localhost:8080/"
        },
        "id": "x1TyNEGCqpp6",
        "outputId": "cfe2a90f-aaf1-4289-d59c-debe6622bcd4"
      },
      "outputs": [
        {
          "name": "stdout",
          "output_type": "stream",
          "text": [
            "+----------+------+----------------+----------------+----------------+----------------+----------------+----------------+----------------+----------------+----------------+----------------+----------------+----------------+----------------+----------------+----------------+----------------+----------------+----------------+----------------+----------------+----------------+----------------+----------------+----------------+------------------+------------------+---------+----+--------------------+--------------------+\n",
            "|Appliances|lights|              T1|            RH_1|              T2|            RH_2|              T3|            RH_3|              T4|            RH_4|              T5|            RH_5|              T6|            RH_6|              T7|            RH_7|              T8|            RH_8|              T9|            RH_9|           T_out|     Press_mm_hg|          RH_out|       Windspeed|      Visibility|       Tdewpoint|               rv1|               rv2|dayofyear|hour|            training|     scaled_features|\n",
            "+----------+------+----------------+----------------+----------------+----------------+----------------+----------------+----------------+----------------+----------------+----------------+----------------+----------------+----------------+----------------+----------------+----------------+----------------+----------------+----------------+----------------+----------------+----------------+----------------+----------------+------------------+------------------+---------+----+--------------------+--------------------+\n",
            "|      60.0|  30.0|           19.89|47.5966666666667|            19.2|           44.79|           19.79|           44.73|            19.0|45.5666666666667|17.1666666666667|            55.2|7.02666666666667|84.2566666666667|            17.2|41.6266666666667|            18.2|            48.9|17.0333333333333|           45.53|             6.6|           733.5|            92.0|             7.0|            63.0|             5.3|13.275433157104999|13.275433157104999|     11.0|17.0|[30.0,19.89,47.59...|[3.30118020315902...|\n",
            "|      60.0|  30.0|           19.89|46.6933333333333|            19.2|         44.7225|           19.79|           44.79|            19.0|         45.9925|17.1666666666667|            55.2|6.83333333333333|84.0633333333333|            17.2|           41.56|            18.2|48.8633333333333|17.0666666666667|           45.56|6.48333333333333|           733.6|            92.0|6.66666666666667|59.1666666666667|             5.2|18.606194981839508|18.606194981839508|     11.0|17.0|[30.0,19.89,46.69...|[3.30118020315902...|\n",
            "|      50.0|  30.0|           19.89|            46.3|            19.2|44.6266666666667|           19.79|44.9333333333333|18.9266666666667|           45.89|17.1666666666667|           55.09|            6.56|83.1566666666667|            17.2|41.4333333333333|            18.2|           48.73|            17.0|            45.5|6.36666666666667|           733.7|            92.0|6.33333333333333|55.3333333333333|             5.1| 28.64266816759482| 28.64266816759482|     11.0|17.0|[30.0,19.89,46.3,...|[3.30118020315902...|\n",
            "|      50.0|  40.0|           19.89|46.0666666666667|            19.2|           44.59|           19.79|            45.0|           18.89|45.7233333333333|17.1666666666667|           55.09|6.43333333333333|83.4233333333333|17.1333333333333|           41.29|            18.1|           48.59|            17.0|            45.4|            6.25|           733.8|            92.0|             6.0|            51.5|             5.0| 45.41038949973881| 45.41038949973881|     11.0|17.0|[40.0,19.89,46.06...|[4.56126281716511...|\n",
            "|      60.0|  40.0|           19.89|46.3333333333333|            19.2|           44.53|           19.79|            45.0|           18.89|           45.53|            17.2|           55.09|6.36666666666667|84.8933333333333|            17.2|           41.23|            18.1|           48.59|            17.0|            45.4|6.13333333333333|           733.9|            92.0|5.66666666666667|47.6666666666667|             4.9| 10.08409655187279| 10.08409655187279|     11.0|17.0|[40.0,19.89,46.33...|[4.56126281716511...|\n",
            "|      50.0|  40.0|           19.89|46.0266666666667|            19.2|            44.5|           19.79|44.9333333333333|           18.89|           45.73|17.1333333333333|           55.03|             6.3|85.7666666666667|17.1333333333333|           41.26|            18.1|           48.59|            17.0|           45.29|6.01666666666667|           734.0|            92.0|5.33333333333333|43.8333333333333|             4.8| 44.91948424838483| 44.91948424838483|     11.0|17.0|[40.0,19.89,46.02...|[4.56126281716511...|\n",
            "|      60.0|  50.0|           19.89|45.7666666666667|            19.2|            44.5|           19.79|            44.9|           18.89|           45.79|            17.1|54.9666666666667|6.26333333333333|           86.09|17.1333333333333|            41.2|            18.1|           48.59|            17.0|           45.29|             5.9|           734.1|            92.0|             5.0|            40.0|             4.7| 47.23376343026757| 47.23376343026757|     11.0|18.0|[50.0,19.89,45.76...|[5.82134543117121...|\n",
            "|      60.0|  50.0|19.8566666666667|           45.56|            19.2|            44.5|           19.73|            44.9|           18.89|45.8633333333333|            17.1|            54.9|            6.19|86.4233333333333|            17.1|            41.2|            18.1|           48.59|            17.0|           45.29|5.91666666666667|734.166666666667|91.8333333333333|5.16666666666667|            40.0|4.68333333333333| 33.03988962434232| 33.03988962434232|     11.0|18.0|[50.0,19.85666666...|[5.82134543117121...|\n",
            "|      60.0|  40.0|           19.79|         45.5975|            19.2|44.4333333333333|           19.73|           44.79|           18.89|           45.79|17.1666666666667|            55.0|6.12333333333333|87.2266666666667|17.1666666666667|            41.4|            18.1|           48.59|            17.0|           45.29|5.93333333333333|734.233333333333|91.6666666666667|5.33333333333333|            40.0|4.66666666666667|31.455702194944024|31.455702194944024|     11.0|18.0|[40.0,19.79,45.59...|[4.56126281716511...|\n",
            "|      70.0|  40.0|19.8566666666667|           46.09|           19.23|            44.4|           19.79|44.8633333333333|           18.89|46.0966666666667|            17.1|            55.0|            6.19|87.6266666666667|            17.2|            41.5|            18.1|           48.59|            17.0|           45.29|            5.95|           734.3|            91.5|             5.5|            40.0|            4.65| 3.089313523378223| 3.089313523378223|     11.0|18.0|[40.0,19.85666666...|[4.56126281716511...|\n",
            "|     230.0|  70.0|19.9266666666667|45.8633333333333|19.3566666666667|            44.4|           19.79|            44.9|           18.89|           46.43|            17.1|            55.0|            6.19|87.8666666666667|         17.2475|         42.7175|            18.1|           48.59|            17.0|           45.29|5.96666666666667|734.366666666667|91.3333333333333|5.66666666666667|            40.0|4.63333333333333|10.298728744965047|10.298728744965047|     11.0|18.0|[70.0,19.92666666...|[8.34151065918341...|\n",
            "|     580.0|  60.0|20.0666666666667|46.3966666666667|19.4266666666667|            44.4|           19.79|44.8266666666667|            19.0|           46.43|            17.1|            55.0|6.12333333333333|87.9933333333333|           17.53|44.2633333333333|18.0666666666667|48.6333333333333|           16.89|           45.29|5.98333333333333|734.433333333333|91.1666666666667|5.83333333333333|            40.0|4.61666666666667| 8.827837626449764| 8.827837626449764|     11.0|18.0|[60.0,20.06666666...|[7.08142804517731...|\n",
            "|     430.0|  50.0|20.1333333333333|            48.0|19.5666666666667|            44.4|           19.89|            44.9|            19.0|46.3633333333333|            17.1|           55.09|6.12333333333333|           88.59|17.8233333333333|45.4933333333333|18.0666666666667|           48.56|16.9633333333333|           45.29|             6.0|           734.5|            91.0|             6.0|            40.0|             4.6| 34.35114233288914| 34.35114233288914|     11.0|19.0|[50.0,20.13333333...|[5.82134543117121...|\n",
            "|     250.0|  40.0|           20.26|52.7266666666667|           19.73|            45.1|           19.89|45.4933333333333|            19.0|47.2233333333333|            17.1|55.1633333333333|          6.0675|          88.215|17.9633333333333|           46.16|18.0333333333333|48.6666666666667|           16.89|45.3266666666667|             6.0|734.616666666667|            90.5|             6.0|            40.0|4.51666666666667| 19.20518591068685| 19.20518591068685|     11.0|19.0|[40.0,20.26,52.72...|[4.56126281716511...|\n",
            "|     100.0|  10.0|20.4266666666667|55.8933333333333|19.8566666666667|45.8333333333333|20.0333333333333|47.5266666666667|            19.0|48.6966666666667|            17.1|            55.5|             5.9|88.1566666666667|17.9633333333333|45.5333333333333|            18.1|49.1933333333333|           16.89|          45.345|             6.0|734.733333333333|            90.0|             6.0|            40.0|4.43333333333333| 38.49207099992782| 38.49207099992782|     11.0|19.0|[10.0,20.42666666...|[0.78101497514682...|\n",
            "|     100.0|  10.0|20.5666666666667|53.8933333333333|20.0333333333333|46.7566666666667|            20.1|48.4666666666667|            19.0|           48.49|           17.15|         56.0425|             5.8|88.3666666666667|           17.89|44.9266666666667|           18.15|            49.2|           16.89|45.3266666666667|             6.0|          734.85|            89.5|             6.0|            40.0|            4.35| 24.88496210426092| 24.88496210426092|     11.0|19.0|[10.0,20.56666666...|[0.78101497514682...|\n",
            "|      90.0|  10.0|           20.73|           52.66|20.1666666666667|47.2233333333333|            20.2|           48.53|18.9266666666667|48.1566666666667|17.1666666666667|           56.49|5.72666666666667|           88.16|           17.76|44.2666666666667|           18.23|49.6333333333333|           16.89|           45.29|             6.0|734.966666666667|            89.0|             6.0|            40.0|4.26666666666667| 35.88092541322112| 35.88092541322112|     11.0|19.0|[10.0,20.73,52.66...|[0.78101497514682...|\n",
            "|      70.0|  30.0|20.8566666666667|           53.66|            20.2|47.0566666666667|            20.2|         48.4475|           18.89|47.9633333333333|            17.2|56.9333333333333|5.52666666666667|            87.3|            17.7|43.7266666666667|18.3566666666667|50.0266666666667|           16.89|           45.29|             6.0|735.083333333333|            88.5|             6.0|            40.0|4.18333333333333| 49.59530474152416| 49.59530474152416|     11.0|19.0|[30.0,20.85666666...|[3.30118020315902...|\n",
            "|      80.0|  30.0|           20.89|51.1933333333333|            20.2|           46.33|            20.2|48.1933333333333|18.9633333333333|           48.63|            17.2|           57.06|5.33333333333333|           86.76|17.6666666666667|           43.16|18.5333333333333|            50.2|           16.89|            45.2|             6.0|           735.2|            88.0|             6.0|            40.0|             4.1| 19.00175897171721| 19.00175897171721|     11.0|20.0|[30.0,20.89,51.19...|[3.30118020315902...|\n",
            "|     140.0|  40.0|           20.89|            49.8|            20.2|46.0266666666667|20.1666666666667|47.6333333333333|19.0333333333333|            49.5|17.5933333333333|70.7266666666667|5.33333333333333|87.4633333333333|            17.6|42.6933333333333|18.6666666666667|           50.26|           16.89|            45.2|             6.0|735.233333333333|87.8333333333333|             6.0|            40.0|4.06666666666667| 38.87226106598973| 38.87226106598973|     11.0|20.0|[40.0,20.89,49.8,...|[4.56126281716511...|\n",
            "+----------+------+----------------+----------------+----------------+----------------+----------------+----------------+----------------+----------------+----------------+----------------+----------------+----------------+----------------+----------------+----------------+----------------+----------------+----------------+----------------+----------------+----------------+----------------+----------------+----------------+------------------+------------------+---------+----+--------------------+--------------------+\n",
            "only showing top 20 rows\n",
            "\n",
            "+----------+------------------+-------------------+------------------+--------------------+------------------+-------------------+------------------+-------------------+------------------+-------------------+-------------------+--------------------+------------------+-------------------+------------------+-------------------+------------------+-------------------+------------------+--------------------+-------------------+------------------+-------------------+-------------------+-------------------+--------------------+--------------------+-------------------+------------------+\n",
            "|Appliances|            lights|                 T1|              RH_1|                  T2|              RH_2|                 T3|              RH_3|                 T4|              RH_4|                 T5|               RH_5|                  T6|              RH_6|                 T7|              RH_7|                 T8|              RH_8|                 T9|              RH_9|               T_out|        Press_mm_hg|            RH_out|          Windspeed|         Visibility|          Tdewpoint|                 rv1|                 rv2|          dayofyear|              hour|\n",
            "+----------+------------------+-------------------+------------------+--------------------+------------------+-------------------+------------------+-------------------+------------------+-------------------+-------------------+--------------------+------------------+-------------------+------------------+-------------------+------------------+-------------------+------------------+--------------------+-------------------+------------------+-------------------+-------------------+-------------------+--------------------+--------------------+-------------------+------------------+\n",
            "|      60.0| 3.301180203159021|-1.1186164105736247|1.8437739158385933| -0.5203981928660566|1.0736562293387921| -1.235032138180121| 1.686087248290887|-0.9081936562302948|1.5063994118458464|-1.3148699228692404|0.47114843791998284| -0.1451925025583319|0.9517742549526363| -1.453609561306886|1.2198304048474935|-1.9574591815688442|1.1415434334200976|-1.2172927730163279|0.9581119621042747|-0.15264287268932747|-2.9762522585891915|0.8220595922070991|  1.207662942664271|  2.091543424053685| 0.3669659991882361|  -0.807953104197972|  -0.807953104197972|-1.7372085142085405| 0.794290786404984|\n",
            "|      60.0| 3.301180203159021|-1.1186164105736247|1.6167657488659908| -0.5203981928660566|1.0570706988434382| -1.235032138180121|1.7045228266636956|-0.9081936562302948|1.6044878433063052|-1.3148699228692404|0.47114843791998284|-0.17693672759464954|0.9455676887189319| -1.453609561306886|1.2067948250906713|-1.9574591815688442| 1.134525030802933| -1.200747814260033|0.9653382705081487|-0.17458338374099328|-2.9627377235591883|0.8220595922070991| 1.0716762703290512| 1.7665392071503672|0.34312609559375457|   -0.44022899140993|   -0.44022899140993|-1.7372085142085405| 0.794290786404984|\n",
            "|      50.0| 3.301180203159021|-1.1186164105736247|1.5179208643539501| -0.5203981928660566|1.0335233407327604| -1.235032138180121|1.7485633749987268|-0.9440906118141523|1.5808775163598525|-1.3148699228692404| 0.4589560657494999|-0.22181649402530362|0.9164610332781227| -1.453609561306886|1.1820272235527143|-1.9574591815688442|1.1090035667405442|-1.2338377317725733|0.9508856537004007|-0.19652389479265725| -2.949223188529185|0.8220595922070991| 0.9356895979938279| 1.4415349902470405|0.31928619199927283| 0.25210229614232393| 0.25210229614232393|-1.7372085142085405| 0.794290786404984|\n",
            "|      50.0| 4.561262817165119|-1.1186164105736247| 1.459284068456981| -0.5203981928660566|1.0245139167599682| -1.235032138180121|1.7690473509685227|-0.9620390896061063|1.5424867408371576|-1.3148699228692404| 0.4589560657494999|-0.24261443456633913|0.9250218142901241|-1.4852052378935203|1.1540007270755661|-2.0085796993079224|1.0822060294750315|-1.2338377317725733|0.9267979590208212|-0.21846440584432306| -2.935708653499197|0.8220595922070991| 0.7997029256586081| 1.1165307733437222| 0.2954462884047913|  1.4087653872844343|  1.4087653872844343|-1.7372085142085405| 0.794290786404984|\n",
            "|      60.0| 4.561262817165119|-1.1186164105736247|1.5262975494820823| -0.5203981928660566|1.0097712229863203| -1.235032138180121|1.7690473509685227|-0.9620390896061063| 1.497953441230848|-1.2967993857508173| 0.4589560657494999|-0.25356071906161964| 0.972213119618792| -1.453609561306886|1.1422687052944314|-2.0085796993079224|1.0822060294750315|-1.2338377317725733|0.9267979590208212|-0.24040491689598886|-2.9221941184691937|0.8220595922070991| 0.6637162533233882| 0.7915265564404038|0.27160638481030974| -1.0280963895951698| -1.0280963895951698|-1.7372085142085405| 0.794290786404984|\n",
            "|      50.0| 4.561262817165119|-1.1186164105736247|1.4492320463032136| -0.5203981928660566| 1.002399876099496| -1.235032138180121|1.7485633749987268|-0.9620390896061063| 1.544022371858072|-1.3329404599877173| 0.4523056809292362|-0.26450700355690177|1.0002496774331044|-1.4852052378935203|1.1481347161849986|-2.0085796993079224|1.0822060294750315|-1.2338377317725733|0.9003014948732841| -0.2623454279476528|-2.9086795834391905|0.8220595922070991| 0.5277295809881648| 0.4665223395370771|0.24776648121582803|  1.3749019914036547|  1.3749019914036547|-1.7372085142085405| 0.794290786404984|\n",
            "|      60.0| 5.821345431171217|-1.1186164105736247|1.3838939023037244| -0.5203981928660566| 1.002399876099496| -1.235032138180121|1.7383213870138428|-0.9620390896061063|1.5578430510462398|-1.3510109971061401|0.44528583028562796|-0.27052746002930717|1.0106296244101578|-1.4852052378935203|1.1364026944038652|-2.0085796993079224|1.0822060294750315|-1.2338377317725733|0.9003014948732841|-0.28428593899931864| -2.895165048409187|0.8220595922070991|0.39174290865294503|0.14151812263375885| 0.2239265776213465|  1.5345445128445838|  1.5345445128445838|-1.7372085142085405|0.9387678564594769|\n",
            "|      60.0| 5.821345431171217|-1.1393710624403985|1.3319584545092502| -0.5203981928660566| 1.002399876099496|-1.2649407593248674|1.7383213870138428|-0.9620390896061063| 1.574734992276215|-1.3510109971061401|  0.437896513818665| -0.2825683729741163|1.0213306006751608|-1.5010030761868138|1.1364026944038652|-2.0085796993079224|1.0822060294750315|-1.2338377317725733|0.9003014948732841| -0.2811515802776517| -2.886155358389149|0.8108747262687394|0.45973624482055675|0.14151812263375885|0.21995326035559873|   0.555429364969967|   0.555429364969967|-1.7372085142085405|0.9387678564594769|\n",
            "|      60.0| 4.561262817165119|-1.1808803661740104| 1.341382225278406| -0.5203981928660566|  0.98601910523988|-1.2649407593248674|1.7045228266636956|-0.9620390896061063|1.5578430510462398|-1.3148699228692404|0.44898048851910427| -0.2935146574693985|1.0471199534738227|-1.4694073996001797|1.1755094336743122|-2.0085796993079224|1.0822060294750315|-1.2338377317725733|0.9003014948732841| -0.2780172215559864| -2.877145668369234|0.7996898603303862| 0.5277295809881648|0.14151812263375885| 0.2159799430898533|  0.4461496904847032|  0.4461496904847032|-1.7372085142085405|0.9387678564594769|\n",
            "|      70.0| 4.561262817165119|-1.1393710624403985|1.4651477480466717| -0.5067181372058224|0.9778287198100833| -1.235032138180121| 1.727055200230451|-0.9620390896061063|1.6284820780079925|-1.3510109971061401|0.44898048851910427| -0.2825683729741163|1.0599611249918273| -1.453609561306886|1.1950628033095365|-2.0085796993079224|1.0822060294750315|-1.2338377317725733|0.9003014948732841| -0.2748828628343193|-2.8681359783491955|0.7885049943920265| 0.5957229171557765|0.14151812263375885|0.21200662582410573| -1.5106072328602635| -1.5106072328602635|-1.7372085142085405|0.9387678564594769|\n",
            "|     230.0| 8.341510659183413| -1.095786293520129|1.4081862891753127|-0.44895790219593135|0.9778287198100833| -1.235032138180121|1.7383213870138428|-0.9620390896061063|1.7052636290533596|-1.3510109971061401|0.44898048851910427| -0.2825683729741163|1.0676658279026305|  -1.43109764173892|1.4331250786183878|-2.0085796993079224|1.0822060294750315|-1.2338377317725733|0.9003014948732841|-0.27174850411265217| -2.859126288329142|0.7773201284536666| 0.6637162533233882|0.14151812263375885|0.20803330855835797| -1.0132907322847284| -1.0132907322847284|-1.7372085142085405|0.9387678564594769|\n",
            "|     580.0| 7.081428045177315|-1.0086167556795922|1.5422132512255635|-0.41703777232205264|0.9778287198100833| -1.235032138180121|1.7157890134470897|-0.9081936562302948|1.7052636290533596|-1.3510109971061401|0.44898048851910427| -0.2935146574693985|1.0717321988833297|  -1.29721096220312|1.7353875842295508|   -2.0256198718876| 1.090500505295302|-1.2884360956682381|0.9003014948732841|-0.26861414539098705| -2.850116598309227|0.7661352625153135| 0.7317095894909964|0.14151812263375885| 0.2040599912926125| -1.1147550537732955| -1.1147550537732955|-1.7372085142085405|0.9387678564594769|\n",
            "|     430.0| 5.821345431171217|-0.9671074519460422|1.9451318058890754| -0.3531975125742968|0.9778287198100833| -1.185184436272209|1.7383213870138428|-0.9081936562302948|1.6899073188442773|-1.3510109971061401| 0.4589560657494999| -0.2935146574693985|1.0908869463976882|-1.1581899852220123|1.9758940307428043|   -2.0256198718876|1.0764637000609925|-1.2520371864044786|0.9003014948732841|-0.26547978666931993| -2.841106908289189|0.7549503965769537| 0.7997029256586081|0.14151812263375885|0.20008667402686475|  0.6458815845108972|  0.6458815845108972|-1.7372085142085405|1.0832449265139699|\n",
            "|     250.0| 4.561262817165119|-0.8882397748522003| 3.132945757059293| -0.2787172095352611|1.1498268138359715| -1.185184436272209|1.9206287731449305|-0.9081936562302948| 1.888003720541344|-1.3510109971061401|0.46708431386315097|-0.30268217073419634|1.0788483480995588|-1.0918390643901117|  2.10624982831097| -2.042660044467327| 1.096880871310914|-1.2884360956682381| 0.909133649589139|-0.26547978666931993|-2.8253399507541417|0.7213957987618811| 0.7997029256586081|0.14151812263375885|  0.180220087698131|-0.39890968000185667|-0.39890968000185667|-1.7372085142085405|1.0832449265139699|\n",
            "|     100.0|0.7810149751468257|-0.7844665155182049|3.9287308442325477|-0.22095697452537005|1.3300152932916547|-1.1137360635375533|2.5453900402234355|-0.9081936562302948| 2.227378176161916|-1.3510109971061401| 0.5044003620212998| -0.3301847105285912|1.0769756772531838|-1.0918390643901117| 1.983715378596895|-2.0085796993079224|1.1976906543573589|-1.2884360956682381|0.9135497269470526|-0.26547978666931993|-2.8095729932192324|0.6878412009468083| 0.7997029256586081|0.14151812263375885| 0.1603535013693947|  0.9315291842854763|  0.9315291842854763|-1.7372085142085405|1.0832449265139699|\n",
            "|     100.0|0.7810149751468257|-0.6972969776776681|3.4261297365441656|-0.14039664674846952|1.5568889696972472|-1.0805042622655947|2.8342141013974227|-0.9081936562302948|2.1797736145137763|-1.3239051914284798| 0.5645309247711816| -0.3466041372715137|1.0837172923001366|-1.1265943086353765| 1.865091602809882|-1.9830194404383843|1.1989667275604856|-1.2884360956682381| 0.909133649589139|-0.26547978666931993| -2.793806035684185|0.6542866031317357| 0.7997029256586081|0.14151812263375885|0.14048691504066071|-0.00711002166302...|-0.00711002166302...|-1.7372085142085405|1.0832449265139699|\n",
            "|      90.0|0.7810149751468257|-0.5955991835303923| 3.116192386803004|-0.07959639936962262|1.6715543657144887|-1.0306565603576843| 2.853673878568711|-0.9440906118141523| 2.102992063468409|-1.3148699228692404| 0.6141317115556472|-0.35864505021632287|1.0770826870158328|-1.1882058779792835| 1.736039363217405|-1.9421230262471199|  1.28191148576326|-1.2884360956682381|0.9003014948732841|-0.26547978666931993|-2.7780390781491375| 0.620732005316663| 0.7997029256586081|0.14151812263375885|0.12062032871192695|  0.7514083636971446|  0.7514083636971446|-1.7372085142085405|1.0832449265139699|\n",
            "|      70.0| 3.301180203159021|-0.5167315064365504|3.3674929406471947|-0.06439633752493398| 1.630602438565484|-1.0306565603576843| 2.828324958306099|-0.9620390896061063|2.0584587638620766|-1.2967993857508173| 0.6632706660609236| -0.3914839037021676|1.0494741682521223|-1.2166419869072418| 1.630451167187196|-1.8773703704442688|1.3571998047473366|-1.2884360956682381|0.9003014948732841|-0.26547978666931993| -2.762272120614228|0.5871774075015903| 0.7997029256586081|0.14151812263375885|0.10075374238319065|   1.697447248334438|   1.697447248334438|-1.7372085142085405|1.0832449265139699|\n",
            "|      80.0| 3.301180203159021|-0.4959768545697765|2.7476182411648495|-0.06439633752493398|1.4520520361957445|-1.0306565603576843|2.7502297999212786|-0.9261421340222488| 2.212021865952834|-1.2967993857508173| 0.6773103673481502|-0.42322812873848525|1.0321385867028159|-1.2324398252005355|1.5196487392542528|-1.7870574557719303|1.3903777080284436|-1.2884360956682381|0.8786225696616639|-0.26547978666931993| -2.746505163079181|0.5536228096865176| 0.7997029256586081|0.14151812263375885|0.08088715605445668| -0.4129423817261593| -0.4129423817261593|-1.7372085142085405|1.2277219965684627|\n",
            "|     140.0| 4.561262817165119|-0.4959768545697765|2.3974728028086183|-0.06439633752493398| 1.377519528784535| -1.047272460993638| 2.578164401775073|-0.8918768582376412|2.4124217141812614|-1.0835670477532267|  2.192120243074832|-0.42322812873848525|1.0547176466219732|-1.2640355017871696|1.4283996809565354|-1.7188967654531238|1.4018623668565202|-1.2884360956682381|0.8786225696616639|-0.26547978666931993| -2.742000318069231|0.5424379437481578| 0.7997029256586081|0.14151812263375885|0.07294052152296368|  0.9577552771648757|  0.9577552771648757|-1.7372085142085405|1.2277219965684627|\n",
            "+----------+------------------+-------------------+------------------+--------------------+------------------+-------------------+------------------+-------------------+------------------+-------------------+-------------------+--------------------+------------------+-------------------+------------------+-------------------+------------------+-------------------+------------------+--------------------+-------------------+------------------+-------------------+-------------------+-------------------+--------------------+--------------------+-------------------+------------------+\n",
            "only showing top 20 rows\n",
            "\n"
          ]
        }
      ],
      "source": [
        "from pyspark.ml.feature import StandardScaler\n",
        "#Using standard scaler to normalize the features\n",
        "scaler = StandardScaler(inputCol=\"training\", outputCol=\"scaled_features\",\n",
        "                        withMean=True, withStd=True)\n",
        "\n",
        "scaler_model = scaler.fit(assembler.transform(df))\n",
        "# DataFrame with scaled feature column\n",
        "normalized_df = scaler_model.transform(assembler.transform(df))\n",
        "\n",
        "#Converting the scaled features to dataframe\n",
        "input_features = train_df.columns\n",
        "input_features.remove('Appliances')\n",
        "output_columns = ['Appliances']\n",
        "normalized_df.show()\n",
        "\n",
        "\n",
        "def extract(row):\n",
        "  return (row.Appliances,) + tuple(row.scaled_features.toArray().tolist())\n",
        "\n",
        "#Scaled Features\n",
        "df_scaled = normalized_df.select(*output_columns, \"scaled_features\").rdd \\\n",
        "        .map(extract).toDF(output_columns + input_features)\n",
        "\n",
        "\n",
        "df_scaled.show()\n"
      ]
    },
    {
      "cell_type": "code",
      "execution_count": 49,
      "metadata": {
        "colab": {
          "base_uri": "https://localhost:8080/"
        },
        "id": "u-0pzuCctwgI",
        "outputId": "83863253-a560-42cb-914e-8bbcfe2756c5"
      },
      "outputs": [
        {
          "name": "stdout",
          "output_type": "stream",
          "text": [
            "13987\n",
            "5748\n"
          ]
        }
      ],
      "source": [
        "# Splitting in training and testing dataframes\n",
        "train_scaled, test_scaled = df_scaled.randomSplit(weights=[0.7,0.3], seed=42)\n",
        "print(train_scaled.count())\n",
        "print(test_scaled.count())"
      ]
    },
    {
      "cell_type": "code",
      "execution_count": 50,
      "metadata": {
        "colab": {
          "base_uri": "https://localhost:8080/"
        },
        "id": "YCDm0tzt-Hh4",
        "outputId": "3709ac78-bc41-43cf-f591-c95c2b9003eb"
      },
      "outputs": [
        {
          "name": "stdout",
          "output_type": "stream",
          "text": [
            "+----------+-------------------+-------------------+--------------------+-------------------+-------------------+-------------------+--------------------+-------------------+-------------------+-------------------+--------------------+--------------------+------------------+-------------------+-------------------+-------------------+------------------+-------------------+-------------------+--------------------+--------------------+-------------------+--------------------+-------------------+--------------------+--------------------+--------------------+-------------------+--------------------+--------------------+\n",
            "|Appliances|             lights|                 T1|                RH_1|                 T2|               RH_2|                 T3|                RH_3|                 T4|               RH_4|                 T5|                RH_5|                  T6|              RH_6|                 T7|               RH_7|                 T8|              RH_8|                 T9|               RH_9|               T_out|         Press_mm_hg|             RH_out|           Windspeed|         Visibility|           Tdewpoint|                 rv1|                 rv2|          dayofyear|                hour|            training|\n",
            "+----------+-------------------+-------------------+--------------------+-------------------+-------------------+-------------------+--------------------+-------------------+-------------------+-------------------+--------------------+--------------------+------------------+-------------------+-------------------+-------------------+------------------+-------------------+-------------------+--------------------+--------------------+-------------------+--------------------+-------------------+--------------------+--------------------+--------------------+-------------------+--------------------+--------------------+\n",
            "|      10.0|-0.4790676388592721|-2.7374792561836307|  0.7388891474369599|-1.8473635919087235| 0.7050888849976046| -2.276849108055469|  0.6198962990635077|-2.7193582334166875|  0.800009142228391| -2.188279216927231|-0.22591041546318955|-0.24808757681397933|1.4539710710692766|-2.1692516359938114| 0.5282928987484016|-2.7526672352878774|0.5758176467036802| -2.132228992237611| 0.1953349639175925|-0.28428593899931864|  1.5150782163808536| 1.3477482913099024|-0.01621710835271...| -2.062858305058332|  0.5020587862236328|-0.26257325785720187|-0.26257325785720187| -1.433909709815217| -0.7949569841944382|[-0.4790676388592...|\n",
            "|      10.0|-0.4790676388592721| -2.295405171420898|  0.8645394243590554|-1.4476019653929904| 0.9508004478917297|-1.5789812813447084|  0.8472684323281369|-1.9410469691663186| 1.1662571407148294|-1.5738809549002442|-0.07418311734162145|-0.04120279985315733|0.9389330834346313|-1.5483965910667434| 0.7629333343710878| -2.505584732882293|0.5462552841647482|-1.5862453532809586|0.49081068532043903| -0.0398059587093348|   1.123156700510849|0.15096763590564524|  1.8875963043403774|0.14151812263375885| 0.13651359777491315| -1.5254392173853362| -1.5254392173853362|-1.2822603076185553|-0.07257163392197359|[-0.4790676388592...|\n",
            "|      10.0|-0.4790676388592721|-1.6727656154170498|-0.23448166445286417| -1.345761551033488|0.22267518318214838|-0.7814180508181274|-0.25886627004032664|-1.6098159699150982|0.08594071750640535|-1.4478174459549187| -0.5564943593064462|-0.06747388264183317| 1.222508954457238|-1.2166419869072418|-0.0954595926152423|-1.3661651930534764|0.8333717548666852|-0.9112110360254609|0.39024456003319496|0.002507884033162342|-0.18550077489413927| 1.1240509725427534|  1.0036829341614395|  1.921976006538909|  0.7603244084971829| -1.1299763042835191| -1.1299763042835191|-0.7262124995641287| -0.5060028440854524|[-0.4790676388592...|\n",
            "|      10.0|-0.4790676388592721|-1.6727656154170498|   1.725662655531824|-0.9353598812264782|  1.592107627045396|-1.2649407593248674|  1.8919512067872406| -1.397697596010401| 2.0876357532593266| -1.248008935531026| 0.30932240729357174|0.051840618356736715|1.4539710710692766|-1.3114290166670992| 1.8586824427627775| -2.309622748215841|1.5607334806449265|-1.2884360956682381| 1.7698672728060927| 0.16706171692065167|  0.4969832441208835|  0.620732005316663|-0.01621710835271...|-0.7911026736975103|   0.676884745916497|   1.664680847033695|   1.664680847033695|-1.3075352079846654|  -1.083911124303424|[-0.4790676388592...|\n",
            "|      10.0|-0.4790676388592721|-1.6105016598166642|  1.3989719355343764|-0.8897596956923652| 1.1891406638990307|-1.2798950698972413|  1.6338531095679336|-1.2997968080543802|  1.511774120419016|-1.2967993857508173| 0.15348172300539806|-0.24808757681397933| 1.374462817420295|-1.0947353347438797| 1.1874587151180587|-2.0878165018034958|0.9060015880109079|-1.2520371864044786| 1.2222736804236678|-0.02099980637933...|  1.3078553459208997|-0.3859059291355179|  -0.832137142364044|0.14151812263375885|-0.20519168707932264| 0.26881702102230554| 0.26881702102230554|-1.3075352079846654| 0.21638250618701224|[-0.4790676388592...|\n",
            "+----------+-------------------+-------------------+--------------------+-------------------+-------------------+-------------------+--------------------+-------------------+-------------------+-------------------+--------------------+--------------------+------------------+-------------------+-------------------+-------------------+------------------+-------------------+-------------------+--------------------+--------------------+-------------------+--------------------+-------------------+--------------------+--------------------+--------------------+-------------------+--------------------+--------------------+\n",
            "only showing top 5 rows\n",
            "\n"
          ]
        }
      ],
      "source": [
        "from pyspark.ml.feature import VectorAssembler\n",
        "from pyspark.ml.regression import RandomForestRegressor\n",
        "input_features = train_scaled.columns\n",
        "input_features.remove('Appliances')\n",
        "input_features\n",
        "\n",
        "# Creating a vector assembler and using GBT Regressor as the model\n",
        "assembler = VectorAssembler(inputCols=input_features, outputCol='training')\n",
        "assembler.transform(train_scaled).show(5)\n",
        "gbt = GBTRegressor(featuresCol='training', labelCol=\"Appliances\", predictionCol='prediction')"
      ]
    },
    {
      "cell_type": "code",
      "execution_count": 51,
      "metadata": {
        "id": "WAun-h8yoDam"
      },
      "outputs": [],
      "source": [
        "# <FILL-IN WITH YOUR CODE>\n",
        "# Applying Cross Validator\n",
        "\n",
        "paramGrid = ParamGridBuilder() \\\n",
        "    .addGrid(gbt.maxDepth, [5, 8]) \\\n",
        "    .addGrid(gbt.maxBins, [32, 64]) \\\n",
        "    .addGrid(gbt.maxIter, [10, 20]) \\\n",
        "    .build()\n",
        "\n",
        "cv2 = CrossValidator(estimator=gbt,\n",
        "                           estimatorParamMaps=paramGrid,\n",
        "                           evaluator=evaluator,\n",
        "                           numFolds=5)\n",
        "\n",
        "cv_model = cv2.fit(assembler.transform(train_scaled))\n",
        "\n",
        "best_model = cv_model.bestModel"
      ]
    },
    {
      "cell_type": "code",
      "execution_count": 52,
      "metadata": {
        "colab": {
          "base_uri": "https://localhost:8080/"
        },
        "id": "jiXTQJU4xbsg",
        "outputId": "221b8b4a-13da-4d9c-ec19-ee9b35652ddd"
      },
      "outputs": [
        {
          "name": "stdout",
          "output_type": "stream",
          "text": [
            "+----------+------+----------------+----------------+----------------+----------------+----------------+----------------+----------------+----------------+----------------+----------------+----------------+----------------+----------------+----------------+----------------+----------------+----------------+----------------+----------------+----------------+----------------+----------------+----------------+----------------+------------------+------------------+---------+----+--------------------+--------------------+\n",
            "|Appliances|lights|              T1|            RH_1|              T2|            RH_2|              T3|            RH_3|              T4|            RH_4|              T5|            RH_5|              T6|            RH_6|              T7|            RH_7|              T8|            RH_8|              T9|            RH_9|           T_out|     Press_mm_hg|          RH_out|       Windspeed|      Visibility|       Tdewpoint|               rv1|               rv2|dayofyear|hour|            training|     scaled_features|\n",
            "+----------+------+----------------+----------------+----------------+----------------+----------------+----------------+----------------+----------------+----------------+----------------+----------------+----------------+----------------+----------------+----------------+----------------+----------------+----------------+----------------+----------------+----------------+----------------+----------------+----------------+------------------+------------------+---------+----+--------------------+--------------------+\n",
            "|      60.0|  30.0|           19.89|47.5966666666667|            19.2|           44.79|           19.79|           44.73|            19.0|45.5666666666667|17.1666666666667|            55.2|7.02666666666667|84.2566666666667|            17.2|41.6266666666667|            18.2|            48.9|17.0333333333333|           45.53|             6.6|           733.5|            92.0|             7.0|            63.0|             5.3|13.275433157104999|13.275433157104999|     11.0|17.0|[30.0,19.89,47.59...|[3.30118020315902...|\n",
            "|      60.0|  30.0|           19.89|46.6933333333333|            19.2|         44.7225|           19.79|           44.79|            19.0|         45.9925|17.1666666666667|            55.2|6.83333333333333|84.0633333333333|            17.2|           41.56|            18.2|48.8633333333333|17.0666666666667|           45.56|6.48333333333333|           733.6|            92.0|6.66666666666667|59.1666666666667|             5.2|18.606194981839508|18.606194981839508|     11.0|17.0|[30.0,19.89,46.69...|[3.30118020315902...|\n",
            "|      50.0|  30.0|           19.89|            46.3|            19.2|44.6266666666667|           19.79|44.9333333333333|18.9266666666667|           45.89|17.1666666666667|           55.09|            6.56|83.1566666666667|            17.2|41.4333333333333|            18.2|           48.73|            17.0|            45.5|6.36666666666667|           733.7|            92.0|6.33333333333333|55.3333333333333|             5.1| 28.64266816759482| 28.64266816759482|     11.0|17.0|[30.0,19.89,46.3,...|[3.30118020315902...|\n",
            "|      50.0|  40.0|           19.89|46.0666666666667|            19.2|           44.59|           19.79|            45.0|           18.89|45.7233333333333|17.1666666666667|           55.09|6.43333333333333|83.4233333333333|17.1333333333333|           41.29|            18.1|           48.59|            17.0|            45.4|            6.25|           733.8|            92.0|             6.0|            51.5|             5.0| 45.41038949973881| 45.41038949973881|     11.0|17.0|[40.0,19.89,46.06...|[4.56126281716511...|\n",
            "|      60.0|  40.0|           19.89|46.3333333333333|            19.2|           44.53|           19.79|            45.0|           18.89|           45.53|            17.2|           55.09|6.36666666666667|84.8933333333333|            17.2|           41.23|            18.1|           48.59|            17.0|            45.4|6.13333333333333|           733.9|            92.0|5.66666666666667|47.6666666666667|             4.9| 10.08409655187279| 10.08409655187279|     11.0|17.0|[40.0,19.89,46.33...|[4.56126281716511...|\n",
            "|      50.0|  40.0|           19.89|46.0266666666667|            19.2|            44.5|           19.79|44.9333333333333|           18.89|           45.73|17.1333333333333|           55.03|             6.3|85.7666666666667|17.1333333333333|           41.26|            18.1|           48.59|            17.0|           45.29|6.01666666666667|           734.0|            92.0|5.33333333333333|43.8333333333333|             4.8| 44.91948424838483| 44.91948424838483|     11.0|17.0|[40.0,19.89,46.02...|[4.56126281716511...|\n",
            "|      60.0|  50.0|           19.89|45.7666666666667|            19.2|            44.5|           19.79|            44.9|           18.89|           45.79|            17.1|54.9666666666667|6.26333333333333|           86.09|17.1333333333333|            41.2|            18.1|           48.59|            17.0|           45.29|             5.9|           734.1|            92.0|             5.0|            40.0|             4.7| 47.23376343026757| 47.23376343026757|     11.0|18.0|[50.0,19.89,45.76...|[5.82134543117121...|\n",
            "|      60.0|  50.0|19.8566666666667|           45.56|            19.2|            44.5|           19.73|            44.9|           18.89|45.8633333333333|            17.1|            54.9|            6.19|86.4233333333333|            17.1|            41.2|            18.1|           48.59|            17.0|           45.29|5.91666666666667|734.166666666667|91.8333333333333|5.16666666666667|            40.0|4.68333333333333| 33.03988962434232| 33.03988962434232|     11.0|18.0|[50.0,19.85666666...|[5.82134543117121...|\n",
            "|      60.0|  40.0|           19.79|         45.5975|            19.2|44.4333333333333|           19.73|           44.79|           18.89|           45.79|17.1666666666667|            55.0|6.12333333333333|87.2266666666667|17.1666666666667|            41.4|            18.1|           48.59|            17.0|           45.29|5.93333333333333|734.233333333333|91.6666666666667|5.33333333333333|            40.0|4.66666666666667|31.455702194944024|31.455702194944024|     11.0|18.0|[40.0,19.79,45.59...|[4.56126281716511...|\n",
            "|      70.0|  40.0|19.8566666666667|           46.09|           19.23|            44.4|           19.79|44.8633333333333|           18.89|46.0966666666667|            17.1|            55.0|            6.19|87.6266666666667|            17.2|            41.5|            18.1|           48.59|            17.0|           45.29|            5.95|           734.3|            91.5|             5.5|            40.0|            4.65| 3.089313523378223| 3.089313523378223|     11.0|18.0|[40.0,19.85666666...|[4.56126281716511...|\n",
            "|     230.0|  70.0|19.9266666666667|45.8633333333333|19.3566666666667|            44.4|           19.79|            44.9|           18.89|           46.43|            17.1|            55.0|            6.19|87.8666666666667|         17.2475|         42.7175|            18.1|           48.59|            17.0|           45.29|5.96666666666667|734.366666666667|91.3333333333333|5.66666666666667|            40.0|4.63333333333333|10.298728744965047|10.298728744965047|     11.0|18.0|[70.0,19.92666666...|[8.34151065918341...|\n",
            "|     580.0|  60.0|20.0666666666667|46.3966666666667|19.4266666666667|            44.4|           19.79|44.8266666666667|            19.0|           46.43|            17.1|            55.0|6.12333333333333|87.9933333333333|           17.53|44.2633333333333|18.0666666666667|48.6333333333333|           16.89|           45.29|5.98333333333333|734.433333333333|91.1666666666667|5.83333333333333|            40.0|4.61666666666667| 8.827837626449764| 8.827837626449764|     11.0|18.0|[60.0,20.06666666...|[7.08142804517731...|\n",
            "|     430.0|  50.0|20.1333333333333|            48.0|19.5666666666667|            44.4|           19.89|            44.9|            19.0|46.3633333333333|            17.1|           55.09|6.12333333333333|           88.59|17.8233333333333|45.4933333333333|18.0666666666667|           48.56|16.9633333333333|           45.29|             6.0|           734.5|            91.0|             6.0|            40.0|             4.6| 34.35114233288914| 34.35114233288914|     11.0|19.0|[50.0,20.13333333...|[5.82134543117121...|\n",
            "|     250.0|  40.0|           20.26|52.7266666666667|           19.73|            45.1|           19.89|45.4933333333333|            19.0|47.2233333333333|            17.1|55.1633333333333|          6.0675|          88.215|17.9633333333333|           46.16|18.0333333333333|48.6666666666667|           16.89|45.3266666666667|             6.0|734.616666666667|            90.5|             6.0|            40.0|4.51666666666667| 19.20518591068685| 19.20518591068685|     11.0|19.0|[40.0,20.26,52.72...|[4.56126281716511...|\n",
            "|     100.0|  10.0|20.4266666666667|55.8933333333333|19.8566666666667|45.8333333333333|20.0333333333333|47.5266666666667|            19.0|48.6966666666667|            17.1|            55.5|             5.9|88.1566666666667|17.9633333333333|45.5333333333333|            18.1|49.1933333333333|           16.89|          45.345|             6.0|734.733333333333|            90.0|             6.0|            40.0|4.43333333333333| 38.49207099992782| 38.49207099992782|     11.0|19.0|[10.0,20.42666666...|[0.78101497514682...|\n",
            "|     100.0|  10.0|20.5666666666667|53.8933333333333|20.0333333333333|46.7566666666667|            20.1|48.4666666666667|            19.0|           48.49|           17.15|         56.0425|             5.8|88.3666666666667|           17.89|44.9266666666667|           18.15|            49.2|           16.89|45.3266666666667|             6.0|          734.85|            89.5|             6.0|            40.0|            4.35| 24.88496210426092| 24.88496210426092|     11.0|19.0|[10.0,20.56666666...|[0.78101497514682...|\n",
            "|      90.0|  10.0|           20.73|           52.66|20.1666666666667|47.2233333333333|            20.2|           48.53|18.9266666666667|48.1566666666667|17.1666666666667|           56.49|5.72666666666667|           88.16|           17.76|44.2666666666667|           18.23|49.6333333333333|           16.89|           45.29|             6.0|734.966666666667|            89.0|             6.0|            40.0|4.26666666666667| 35.88092541322112| 35.88092541322112|     11.0|19.0|[10.0,20.73,52.66...|[0.78101497514682...|\n",
            "|      70.0|  30.0|20.8566666666667|           53.66|            20.2|47.0566666666667|            20.2|         48.4475|           18.89|47.9633333333333|            17.2|56.9333333333333|5.52666666666667|            87.3|            17.7|43.7266666666667|18.3566666666667|50.0266666666667|           16.89|           45.29|             6.0|735.083333333333|            88.5|             6.0|            40.0|4.18333333333333| 49.59530474152416| 49.59530474152416|     11.0|19.0|[30.0,20.85666666...|[3.30118020315902...|\n",
            "|      80.0|  30.0|           20.89|51.1933333333333|            20.2|           46.33|            20.2|48.1933333333333|18.9633333333333|           48.63|            17.2|           57.06|5.33333333333333|           86.76|17.6666666666667|           43.16|18.5333333333333|            50.2|           16.89|            45.2|             6.0|           735.2|            88.0|             6.0|            40.0|             4.1| 19.00175897171721| 19.00175897171721|     11.0|20.0|[30.0,20.89,51.19...|[3.30118020315902...|\n",
            "|     140.0|  40.0|           20.89|            49.8|            20.2|46.0266666666667|20.1666666666667|47.6333333333333|19.0333333333333|            49.5|17.5933333333333|70.7266666666667|5.33333333333333|87.4633333333333|            17.6|42.6933333333333|18.6666666666667|           50.26|           16.89|            45.2|             6.0|735.233333333333|87.8333333333333|             6.0|            40.0|4.06666666666667| 38.87226106598973| 38.87226106598973|     11.0|20.0|[40.0,20.89,49.8,...|[4.56126281716511...|\n",
            "+----------+------+----------------+----------------+----------------+----------------+----------------+----------------+----------------+----------------+----------------+----------------+----------------+----------------+----------------+----------------+----------------+----------------+----------------+----------------+----------------+----------------+----------------+----------------+----------------+----------------+------------------+------------------+---------+----+--------------------+--------------------+\n",
            "only showing top 20 rows\n",
            "\n"
          ]
        }
      ],
      "source": [
        "normalized_df.show()"
      ]
    },
    {
      "cell_type": "code",
      "execution_count": 53,
      "metadata": {
        "colab": {
          "base_uri": "https://localhost:8080/"
        },
        "id": "pZacWy0Vmuks",
        "outputId": "fd1a945c-9c3c-444a-a34b-911e06e20e1e"
      },
      "outputs": [
        {
          "name": "stdout",
          "output_type": "stream",
          "text": [
            "+----------+------------------+\n",
            "|Appliances|        prediction|\n",
            "+----------+------------------+\n",
            "|      10.0| 34.20989612660012|\n",
            "|      10.0| 36.22556737933525|\n",
            "|      10.0|54.000238428100445|\n",
            "|      20.0| 45.39432542799423|\n",
            "|      20.0|  37.1301310292715|\n",
            "+----------+------------------+\n",
            "only showing top 5 rows\n",
            "\n",
            "81.44101823208669\n"
          ]
        },
        {
          "data": {
            "text/plain": [
              "SparseVector(29, {0: 0.0321, 1: 0.0447, 2: 0.0595, 3: 0.0322, 4: 0.0452, 5: 0.0379, 6: 0.0539, 7: 0.0372, 8: 0.0355, 9: 0.0282, 10: 0.0349, 11: 0.0372, 12: 0.0398, 13: 0.0253, 14: 0.0244, 15: 0.0354, 16: 0.0287, 17: 0.0138, 18: 0.0199, 19: 0.0274, 20: 0.0293, 21: 0.0398, 22: 0.0366, 23: 0.0267, 24: 0.0324, 25: 0.0393, 27: 0.0185, 28: 0.084})"
            ]
          },
          "execution_count": 53,
          "metadata": {},
          "output_type": "execute_result"
        }
      ],
      "source": [
        "# Pipeline creation and training\n",
        "pipeline3 = Pipeline(stages=[assembler, cv2])\n",
        "pipelineModel3 = pipeline3.fit(train_scaled)\n",
        "\n",
        "# Predictions Dataframe\n",
        "predictions = pipelineModel3.transform(test_scaled)\n",
        "\n",
        "# RMSE Error\n",
        "rmse_updated = evaluator.evaluate(predictions)\n",
        "predictions.select('Appliances','prediction').show(5)\n",
        "print(rmse_updated)\n",
        "\n",
        "# Cross Validator Best Model\n",
        "cvModel2 = pipelineModel3.stages[1]\n",
        "cvModel2.bestModel#\n",
        "cvModel2.bestModel.featureImportances"
      ]
    },
    {
      "cell_type": "code",
      "execution_count": 54,
      "metadata": {
        "colab": {
          "base_uri": "https://localhost:8080/"
        },
        "id": "aslIIlHiFXEc",
        "outputId": "e87fa53f-065b-4f21-b71e-88e21c208447"
      },
      "outputs": [
        {
          "name": "stdout",
          "output_type": "stream",
          "text": [
            "+----------+-------------------+-------------------+--------------------+-------------------+-------------------+-------------------+--------------------+-------------------+-------------------+-------------------+--------------------+--------------------+------------------+-------------------+-------------------+-------------------+------------------+-------------------+-------------------+--------------------+--------------------+-------------------+--------------------+-------------------+--------------------+--------------------+--------------------+-------------------+--------------------+--------------------+\n",
            "|Appliances|             lights|                 T1|                RH_1|                 T2|               RH_2|                 T3|                RH_3|                 T4|               RH_4|                 T5|                RH_5|                  T6|              RH_6|                 T7|               RH_7|                 T8|              RH_8|                 T9|               RH_9|               T_out|         Press_mm_hg|             RH_out|           Windspeed|         Visibility|           Tdewpoint|                 rv1|                 rv2|          dayofyear|                hour|            training|\n",
            "+----------+-------------------+-------------------+--------------------+-------------------+-------------------+-------------------+--------------------+-------------------+-------------------+-------------------+--------------------+--------------------+------------------+-------------------+-------------------+-------------------+------------------+-------------------+-------------------+--------------------+--------------------+-------------------+--------------------+-------------------+--------------------+--------------------+--------------------+-------------------+--------------------+--------------------+\n",
            "|      10.0|-0.4790676388592721|-2.7374792561836307|  0.7388891474369599|-1.8473635919087235| 0.7050888849976046| -2.276849108055469|  0.6198962990635077|-2.7193582334166875|  0.800009142228391| -2.188279216927231|-0.22591041546318955|-0.24808757681397933|1.4539710710692766|-2.1692516359938114| 0.5282928987484016|-2.7526672352878774|0.5758176467036802| -2.132228992237611| 0.1953349639175925|-0.28428593899931864|  1.5150782163808536| 1.3477482913099024|-0.01621710835271...| -2.062858305058332|  0.5020587862236328|-0.26257325785720187|-0.26257325785720187| -1.433909709815217| -0.7949569841944382|[10.0,-0.47906763...|\n",
            "|      10.0|-0.4790676388592721| -2.295405171420898|  0.8645394243590554|-1.4476019653929904| 0.9508004478917297|-1.5789812813447084|  0.8472684323281369|-1.9410469691663186| 1.1662571407148294|-1.5738809549002442|-0.07418311734162145|-0.04120279985315733|0.9389330834346313|-1.5483965910667434| 0.7629333343710878| -2.505584732882293|0.5462552841647482|-1.5862453532809586|0.49081068532043903| -0.0398059587093348|   1.123156700510849|0.15096763590564524|  1.8875963043403774|0.14151812263375885| 0.13651359777491315| -1.5254392173853362| -1.5254392173853362|-1.2822603076185553|-0.07257163392197359|[10.0,-0.47906763...|\n",
            "|      10.0|-0.4790676388592721|-1.6727656154170498|-0.23448166445286417| -1.345761551033488|0.22267518318214838|-0.7814180508181274|-0.25886627004032664|-1.6098159699150982|0.08594071750640535|-1.4478174459549187| -0.5564943593064462|-0.06747388264183317| 1.222508954457238|-1.2166419869072418|-0.0954595926152423|-1.3661651930534764|0.8333717548666852|-0.9112110360254609|0.39024456003319496|0.002507884033162342|-0.18550077489413927| 1.1240509725427534|  1.0036829341614395|  1.921976006538909|  0.7603244084971829| -1.1299763042835191| -1.1299763042835191|-0.7262124995641287| -0.5060028440854524|[10.0,-0.47906763...|\n",
            "|      10.0|-0.4790676388592721|-1.6727656154170498|   1.725662655531824|-0.9353598812264782|  1.592107627045396|-1.2649407593248674|  1.8919512067872406| -1.397697596010401| 2.0876357532593266| -1.248008935531026| 0.30932240729357174|0.051840618356736715|1.4539710710692766|-1.3114290166670992| 1.8586824427627775| -2.309622748215841|1.5607334806449265|-1.2884360956682381| 1.7698672728060927| 0.16706171692065167|  0.4969832441208835|  0.620732005316663|-0.01621710835271...|-0.7911026736975103|   0.676884745916497|   1.664680847033695|   1.664680847033695|-1.3075352079846654|  -1.083911124303424|[10.0,-0.47906763...|\n",
            "|      10.0|-0.4790676388592721|-1.6105016598166642|  1.3989719355343764|-0.8897596956923652| 1.1891406638990307|-1.2798950698972413|  1.6338531095679336|-1.2997968080543802|  1.511774120419016|-1.2967993857508173| 0.15348172300539806|-0.24808757681397933| 1.374462817420295|-1.0947353347438797| 1.1874587151180587|-2.0878165018034958|0.9060015880109079|-1.2520371864044786| 1.2222736804236678|-0.02099980637933...|  1.3078553459208997|-0.3859059291355179|  -0.832137142364044|0.14151812263375885|-0.20519168707932264| 0.26881702102230554| 0.26881702102230554|-1.3075352079846654| 0.21638250618701224|[10.0,-0.47906763...|\n",
            "+----------+-------------------+-------------------+--------------------+-------------------+-------------------+-------------------+--------------------+-------------------+-------------------+-------------------+--------------------+--------------------+------------------+-------------------+-------------------+-------------------+------------------+-------------------+-------------------+--------------------+--------------------+-------------------+--------------------+-------------------+--------------------+--------------------+--------------------+-------------------+--------------------+--------------------+\n",
            "only showing top 5 rows\n",
            "\n"
          ]
        }
      ],
      "source": [
        "# Removing the features with correlation less than 0.01\n",
        "pairs = cvModel.bestModel.featureImportances\n",
        "feature_importance = pairs.toArray()\n",
        "to_remove = [df.columns[i] for i, importance in enumerate(feature_importance) if importance < 0.01]\n",
        "\n",
        "input_features = train_df.columns\n",
        "for i in to_remove:\n",
        "  input_features.remove(i)\n",
        "\n",
        "# Creating a vector assembler from the remaining features\n",
        "vectorAssembler3 = VectorAssembler(inputCols=input_features, outputCol='training')\n",
        "vectorAssembler3.transform(train_scaled).show(5)\n",
        "\n",
        "# #Predicting the error for best model given by cv_model2\n",
        "# predictions2 = best_model.transform(assembler.transform(test_scaled))\n",
        "# rmse = evaluator.evaluate(predictions2)"
      ]
    },
    {
      "cell_type": "code",
      "execution_count": 55,
      "metadata": {
        "colab": {
          "base_uri": "https://localhost:8080/"
        },
        "id": "zwfujEzIonCd",
        "outputId": "b1ac222c-1649-46d7-f2d1-409c4464fd89"
      },
      "outputs": [
        {
          "data": {
            "text/plain": [
              "81.44101823208669"
            ]
          },
          "execution_count": 55,
          "metadata": {},
          "output_type": "execute_result"
        }
      ],
      "source": [
        "#error\n",
        "rmse_updated"
      ]
    },
    {
      "cell_type": "code",
      "execution_count": 56,
      "metadata": {
        "id": "cpQvFPeo7S2D"
      },
      "outputs": [],
      "source": [
        "# Pipeline with remaining features\n",
        "pipeline4 = Pipeline(stages=[vectorAssembler3, cv2])\n",
        "\n",
        "# Training Pipeline\n",
        "pipelineModel4 = pipeline4.fit(train_scaled)\n",
        "predictions = pipelineModel4.transform(test_scaled)\n",
        "\n",
        "# Error\n",
        "rmse = evaluator.evaluate(predictions)"
      ]
    },
    {
      "cell_type": "code",
      "execution_count": 57,
      "metadata": {
        "colab": {
          "base_uri": "https://localhost:8080/"
        },
        "id": "NOzc09ssKUgk",
        "outputId": "5890dba2-ded0-4309-a631-b3e36b080d90"
      },
      "outputs": [
        {
          "name": "stdout",
          "output_type": "stream",
          "text": [
            "Root Mean Squared Error: 7.382503787116114\n"
          ]
        }
      ],
      "source": [
        "# Error\n",
        "print(\"Root Mean Squared Error:\", rmse)"
      ]
    },
    {
      "cell_type": "code",
      "execution_count": null,
      "metadata": {
        "id": "_7nwjNK2LfzJ"
      },
      "outputs": [],
      "source": []
    },
    {
      "cell_type": "code",
      "execution_count": null,
      "metadata": {},
      "outputs": [],
      "source": []
    },
    {
      "cell_type": "code",
      "execution_count": null,
      "metadata": {},
      "outputs": [],
      "source": []
    }
  ],
  "metadata": {
    "anaconda-cloud": {},
    "colab": {
      "provenance": []
    },
    "kernelspec": {
      "display_name": "Python 3 (ipykernel)",
      "language": "python",
      "name": "python3"
    },
    "language_info": {
      "codemirror_mode": {
        "name": "ipython",
        "version": 3
      },
      "file_extension": ".py",
      "mimetype": "text/x-python",
      "name": "python",
      "nbconvert_exporter": "python",
      "pygments_lexer": "ipython3",
      "version": "3.12.2"
    },
    "name": "MLPipeline Bike Dataset",
    "notebookId": 3638908530782568
  },
  "nbformat": 4,
  "nbformat_minor": 0
}
