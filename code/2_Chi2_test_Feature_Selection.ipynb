{
 "cells": [
  {
   "cell_type": "markdown",
   "metadata": {
    "application/vnd.databricks.v1+cell": {
     "cellMetadata": {
      "byteLimit": 2048000,
      "rowLimit": 10000
     },
     "inputWidgets": {},
     "nuid": "a225a147-07d1-481d-868b-876daf49c97a",
     "showTitle": false,
     "title": ""
    }
   },
   "source": [
    "## Read one hot dataset"
   ]
  },
  {
   "cell_type": "code",
   "execution_count": null,
   "metadata": {
    "application/vnd.databricks.v1+cell": {
     "cellMetadata": {
      "byteLimit": 2048000,
      "rowLimit": 10000
     },
     "inputWidgets": {},
     "nuid": "e22a1f3d-be61-41b2-8951-6dcde915a70a",
     "showTitle": false,
     "title": ""
    }
   },
   "outputs": [],
   "source": [
    "import numpy as np\n",
    "import pandas as pd\n",
    "from scipy.stats import chi2_contingency"
   ]
  },
  {
   "cell_type": "code",
   "execution_count": null,
   "metadata": {
    "application/vnd.databricks.v1+cell": {
     "cellMetadata": {
      "byteLimit": 2048000,
      "rowLimit": 10000
     },
     "inputWidgets": {},
     "nuid": "f496d4ec-0a8a-4717-988c-b3fbb243a2e0",
     "showTitle": false,
     "title": ""
    }
   },
   "outputs": [],
   "source": [
    "import pyspark.sql.functions as F\n",
    "import os\n",
    "\n",
    "data_folder = '/mnt/2024-team1/'\n"
   ]
  },
  {
   "cell_type": "code",
   "execution_count": null,
   "metadata": {
    "application/vnd.databricks.v1+cell": {
     "cellMetadata": {
      "byteLimit": 2048000,
      "rowLimit": 10000
     },
     "inputWidgets": {},
     "nuid": "47db6a72-9383-49f7-9b03-05bd2c985179",
     "showTitle": false,
     "title": ""
    }
   },
   "outputs": [],
   "source": [
    "# read the one hot encoded file\n",
    "from pyspark.sql.types import *\n",
    "\n",
    "one_hot_path = data_folder + \"JanBDRcount_transpose_onehot.csv\"\n",
    "\n",
    "df = spark.read.csv(one_hot_path, header=True)"
   ]
  },
  {
   "cell_type": "code",
   "execution_count": null,
   "metadata": {
    "application/vnd.databricks.v1+cell": {
     "cellMetadata": {
      "byteLimit": 2048000,
      "rowLimit": 10000
     },
     "inputWidgets": {},
     "nuid": "5564e60e-f55c-40c5-b0a9-08415b46f51b",
     "showTitle": false,
     "title": ""
    }
   },
   "outputs": [],
   "source": [
    "display(df)\n"
   ]
  },
  {
   "cell_type": "code",
   "execution_count": null,
   "metadata": {
    "application/vnd.databricks.v1+cell": {
     "cellMetadata": {
      "byteLimit": 2048000,
      "rowLimit": 10000
     },
     "inputWidgets": {},
     "nuid": "0e686a88-092c-4938-82dd-9110d837fefb",
     "showTitle": false,
     "title": ""
    }
   },
   "outputs": [],
   "source": [
    "df.printSchema()"
   ]
  },
  {
   "cell_type": "code",
   "execution_count": null,
   "metadata": {
    "application/vnd.databricks.v1+cell": {
     "cellMetadata": {
      "byteLimit": 2048000,
      "rowLimit": 10000
     },
     "inputWidgets": {},
     "nuid": "d026f2aa-f792-4e42-a975-290e0710c074",
     "showTitle": false,
     "title": ""
    }
   },
   "outputs": [],
   "source": [
    "df.count()"
   ]
  },
  {
   "cell_type": "markdown",
   "metadata": {
    "application/vnd.databricks.v1+cell": {
     "cellMetadata": {
      "byteLimit": 2048000,
      "rowLimit": 10000
     },
     "inputWidgets": {},
     "nuid": "a26e6b73-067c-4436-be4e-b02001e9d0d9",
     "showTitle": false,
     "title": ""
    }
   },
   "source": [
    "## Cast String to int"
   ]
  },
  {
   "cell_type": "code",
   "execution_count": null,
   "metadata": {
    "application/vnd.databricks.v1+cell": {
     "cellMetadata": {
      "byteLimit": 2048000,
      "rowLimit": 10000
     },
     "inputWidgets": {},
     "nuid": "7066c523-d54b-4131-bd6a-2ba34a5b4d35",
     "showTitle": false,
     "title": ""
    }
   },
   "outputs": [],
   "source": [
    "df = df.select(F.col(\"column\"), F.col(\"index\"), *[F.col(c).cast(IntegerType()) for c in df.columns[2:]])"
   ]
  },
  {
   "cell_type": "code",
   "execution_count": null,
   "metadata": {
    "application/vnd.databricks.v1+cell": {
     "cellMetadata": {
      "byteLimit": 2048000,
      "rowLimit": 10000
     },
     "inputWidgets": {},
     "nuid": "e623c82a-766b-42bb-8bec-8b351c02385a",
     "showTitle": false,
     "title": ""
    }
   },
   "outputs": [],
   "source": [
    "df.printSchema()"
   ]
  },
  {
   "cell_type": "markdown",
   "metadata": {
    "application/vnd.databricks.v1+cell": {
     "cellMetadata": {
      "byteLimit": 2048000,
      "rowLimit": 10000
     },
     "inputWidgets": {},
     "nuid": "99b4b571-b8ba-4051-b90d-d314b39648e4",
     "showTitle": false,
     "title": ""
    }
   },
   "source": [
    "## Chi2 test"
   ]
  },
  {
   "cell_type": "markdown",
   "metadata": {
    "application/vnd.databricks.v1+cell": {
     "cellMetadata": {
      "byteLimit": 2048000,
      "rowLimit": 10000
     },
     "inputWidgets": {},
     "nuid": "c2c5a81c-0c58-4d58-a859-0d8a0436e421",
     "showTitle": false,
     "title": ""
    }
   },
   "source": [
    "### take out target and broadcast to all partitions\n",
    "- target is \"PHENOTYPE\" column"
   ]
  },
  {
   "cell_type": "code",
   "execution_count": null,
   "metadata": {
    "application/vnd.databricks.v1+cell": {
     "cellMetadata": {
      "byteLimit": 2048000,
      "rowLimit": 10000
     },
     "inputWidgets": {},
     "nuid": "c001ac6e-6c47-4719-8623-415109a0b0e1",
     "showTitle": false,
     "title": ""
    }
   },
   "outputs": [],
   "source": [
    "df_no_target = df.filter(\"column != 'PHENOTYPE'\")\n",
    "\n",
    "# check no target exist\n",
    "# df_no_target.filter('column = \"PHENOTYPE\"').count()"
   ]
  },
  {
   "cell_type": "code",
   "execution_count": null,
   "metadata": {
    "application/vnd.databricks.v1+cell": {
     "cellMetadata": {
      "byteLimit": 2048000,
      "rowLimit": 10000
     },
     "inputWidgets": {},
     "nuid": "38cbff15-2d8a-491c-aeb0-bfe2c73990b7",
     "showTitle": false,
     "title": ""
    }
   },
   "outputs": [],
   "source": [
    "df_target = df.filter('column = \"PHENOTYPE\"')\n",
    "\n",
    "display(df_target)"
   ]
  },
  {
   "cell_type": "code",
   "execution_count": null,
   "metadata": {
    "application/vnd.databricks.v1+cell": {
     "cellMetadata": {
      "byteLimit": 2048000,
      "rowLimit": 10000
     },
     "inputWidgets": {},
     "nuid": "331f92de-a178-46fd-ac69-e510b915af16",
     "showTitle": false,
     "title": ""
    }
   },
   "outputs": [],
   "source": [
    "target_np = np.array(df_target.collect())[0,2:].astype(int)"
   ]
  },
  {
   "cell_type": "code",
   "execution_count": null,
   "metadata": {
    "application/vnd.databricks.v1+cell": {
     "cellMetadata": {
      "byteLimit": 2048000,
      "rowLimit": 10000
     },
     "inputWidgets": {},
     "nuid": "e9f9fb88-cf78-42be-b1b4-ff5f7c4a94d8",
     "showTitle": false,
     "title": ""
    }
   },
   "outputs": [],
   "source": [
    "target_bc = sc.broadcast(target_np)\n",
    "print(target_bc.value)"
   ]
  },
  {
   "cell_type": "markdown",
   "metadata": {
    "application/vnd.databricks.v1+cell": {
     "cellMetadata": {
      "byteLimit": 2048000,
      "rowLimit": 10000
     },
     "inputWidgets": {},
     "nuid": "f67d7e56-1e58-43a7-be8c-ff82fe1602af",
     "showTitle": false,
     "title": ""
    }
   },
   "source": [
    "### Perform Chi2 test"
   ]
  },
  {
   "cell_type": "code",
   "execution_count": null,
   "metadata": {
    "application/vnd.databricks.v1+cell": {
     "cellMetadata": {
      "byteLimit": 2048000,
      "rowLimit": 10000
     },
     "inputWidgets": {},
     "nuid": "05db4469-d378-4d32-a063-2d60e5b8da6f",
     "showTitle": false,
     "title": ""
    }
   },
   "outputs": [],
   "source": [
    "df_cols = df_no_target.columns\n",
    "from sklearn.feature_selection import chi2\n",
    "\n",
    "def do_chi2_test(partition_iter):\n",
    "\n",
    "  # 1. change the partition_iter into a pandas dataframe\n",
    "  partition_df = pd.DataFrame(partition_iter, columns=df_cols)\n",
    "\n",
    "  # 2. perform chi2 test\n",
    "  p_values = partition_df.apply(lambda x: (f\"{x[0]}_{x[1]}\", float(chi2_contingency(pd.crosstab(x[2:], target_bc.value))[1])), axis=1).tolist()\n",
    "  return p_values"
   ]
  },
  {
   "cell_type": "code",
   "execution_count": null,
   "metadata": {
    "application/vnd.databricks.v1+cell": {
     "cellMetadata": {
      "byteLimit": 2048000,
      "rowLimit": 10000
     },
     "inputWidgets": {},
     "nuid": "9e4aea3e-7fc2-4ddb-a270-cc2cec84a8bf",
     "showTitle": false,
     "title": ""
    }
   },
   "outputs": [],
   "source": [
    "df_no_target_rdd = df_no_target.rdd.cache()"
   ]
  },
  {
   "cell_type": "code",
   "execution_count": null,
   "metadata": {
    "application/vnd.databricks.v1+cell": {
     "cellMetadata": {
      "byteLimit": 2048000,
      "rowLimit": 10000
     },
     "inputWidgets": {},
     "nuid": "2698defd-771f-4885-984c-199bccf3b8fa",
     "showTitle": false,
     "title": ""
    }
   },
   "outputs": [],
   "source": [
    "pvalues_rdd = df_no_target_rdd.mapPartitions(do_chi2_test)"
   ]
  },
  {
   "cell_type": "code",
   "execution_count": null,
   "metadata": {
    "application/vnd.databricks.v1+cell": {
     "cellMetadata": {
      "byteLimit": 2048000,
      "rowLimit": 10000
     },
     "inputWidgets": {},
     "nuid": "4b8591ac-31d3-4641-be05-113989c30870",
     "showTitle": false,
     "title": ""
    }
   },
   "outputs": [],
   "source": [
    "# 8 min\n",
    "\n",
    "# take() to make sure the function works well\n",
    "\n",
    "pvalues_rdd.take(1)"
   ]
  },
  {
   "cell_type": "code",
   "execution_count": null,
   "metadata": {
    "application/vnd.databricks.v1+cell": {
     "cellMetadata": {
      "byteLimit": 2048000,
      "rowLimit": 10000
     },
     "inputWidgets": {},
     "nuid": "36feac0c-d69c-451e-ad1c-bcef5d372c4c",
     "showTitle": false,
     "title": ""
    }
   },
   "outputs": [],
   "source": [
    "from pyspark.sql.types import *\n",
    "\n",
    "schema = StructType([\n",
    "  StructField(\"feature\", StringType(), True),\n",
    "  StructField(\"pvalue\", FloatType(), True)\n",
    "])\n",
    "\n",
    "pvalues_df = spark.createDataFrame(pvalues_rdd, schema)\n"
   ]
  },
  {
   "cell_type": "code",
   "execution_count": null,
   "metadata": {
    "application/vnd.databricks.v1+cell": {
     "cellMetadata": {
      "byteLimit": 2048000,
      "rowLimit": 10000
     },
     "inputWidgets": {},
     "nuid": "77822a4e-97e0-44f7-96eb-2a38fff24511",
     "showTitle": false,
     "title": ""
    }
   },
   "outputs": [],
   "source": [
    "display(pvalues_df)"
   ]
  },
  {
   "cell_type": "code",
   "execution_count": null,
   "metadata": {
    "application/vnd.databricks.v1+cell": {
     "cellMetadata": {
      "byteLimit": 2048000,
      "rowLimit": 10000
     },
     "inputWidgets": {},
     "nuid": "812647fb-10f4-431a-a1ca-d73abad87ce9",
     "showTitle": false,
     "title": ""
    }
   },
   "outputs": [],
   "source": [
    "# filter\n",
    "pvalues_df_filtered_001 = pvalues_df.filter(pvalues_df.pvalue < 0.01)\n",
    "\n",
    "pvalues_df_filtered_001.take(5)"
   ]
  },
  {
   "cell_type": "code",
   "execution_count": null,
   "metadata": {
    "application/vnd.databricks.v1+cell": {
     "cellMetadata": {
      "byteLimit": 2048000,
      "rowLimit": 10000
     },
     "inputWidgets": {},
     "nuid": "6a6b9f94-b682-4fa1-84cd-544cdc6627bc",
     "showTitle": false,
     "title": ""
    }
   },
   "outputs": [],
   "source": [
    "# 25 min\n",
    "p_values = pvalues_df_filtered_001.collect()"
   ]
  },
  {
   "cell_type": "code",
   "execution_count": null,
   "metadata": {
    "application/vnd.databricks.v1+cell": {
     "cellMetadata": {
      "byteLimit": 2048000,
      "rowLimit": 10000
     },
     "inputWidgets": {},
     "nuid": "a843f63d-35ae-4b01-878d-6bea0b1b457c",
     "showTitle": false,
     "title": ""
    }
   },
   "outputs": [],
   "source": [
    "p_values"
   ]
  },
  {
   "cell_type": "code",
   "execution_count": null,
   "metadata": {
    "application/vnd.databricks.v1+cell": {
     "cellMetadata": {
      "byteLimit": 2048000,
      "rowLimit": 10000
     },
     "inputWidgets": {},
     "nuid": "45cf52dd-8902-42cd-9046-13bb963bfc47",
     "showTitle": false,
     "title": ""
    }
   },
   "outputs": [],
   "source": [
    "p_values_dict = {k: v for d in p_values for k, v in d.items()}\n",
    "\n",
    "sorted_p_value = dict(sorted(p_values_dict.items(), key=lambda item: item[1]))\n",
    "sorted_p_value"
   ]
  },
  {
   "cell_type": "code",
   "execution_count": null,
   "metadata": {
    "application/vnd.databricks.v1+cell": {
     "cellMetadata": {
      "byteLimit": 2048000,
      "rowLimit": 10000
     },
     "inputWidgets": {},
     "nuid": "25d49474-01a0-4e17-97b9-ce0936f9439b",
     "showTitle": false,
     "title": ""
    }
   },
   "outputs": [],
   "source": [
    "# ensure the p-value is smaller than 0.01\n",
    "\n",
    "p_value_001 = {k: v for k, v in p_values_dict.items() if v < 0.01}\n",
    "p_value_001"
   ]
  },
  {
   "cell_type": "code",
   "execution_count": null,
   "metadata": {
    "application/vnd.databricks.v1+cell": {
     "cellMetadata": {
      "byteLimit": 2048000,
      "rowLimit": 10000
     },
     "inputWidgets": {},
     "nuid": "3b4ff71f-4bf0-44ce-aee5-226e54f20003",
     "showTitle": false,
     "title": ""
    }
   },
   "outputs": [],
   "source": [
    "len(p_value_001)"
   ]
  },
  {
   "cell_type": "markdown",
   "metadata": {
    "application/vnd.databricks.v1+cell": {
     "cellMetadata": {},
     "inputWidgets": {},
     "nuid": "340183c5-0200-4c8a-9ad3-5e8e424209f5",
     "showTitle": false,
     "title": ""
    }
   },
   "source": [
    "## Write p-values to file for future use"
   ]
  },
  {
   "cell_type": "code",
   "execution_count": null,
   "metadata": {
    "application/vnd.databricks.v1+cell": {
     "cellMetadata": {
      "byteLimit": 2048000,
      "rowLimit": 10000
     },
     "inputWidgets": {},
     "nuid": "e50af6aa-7811-484f-a48e-fb2534c429b0",
     "showTitle": false,
     "title": ""
    }
   },
   "outputs": [],
   "source": [
    "df_p_value_001 = spark.createDataFrame(pd.DataFrame(p_value_001.items()))\n",
    "df_p_value_001.write.json(data_folder + \"p_value_001.json\", mode=\"overwrite\")"
   ]
  },
  {
   "cell_type": "code",
   "execution_count": null,
   "metadata": {
    "application/vnd.databricks.v1+cell": {
     "cellMetadata": {
      "byteLimit": 2048000,
      "rowLimit": 10000
     },
     "inputWidgets": {},
     "nuid": "d54bc4e2-296e-4e9e-8bc2-b9f051cf1c24",
     "showTitle": false,
     "title": ""
    }
   },
   "outputs": [],
   "source": [
    "display(pd.DataFrame(p_value_001.items()))"
   ]
  },
  {
   "cell_type": "code",
   "execution_count": null,
   "metadata": {
    "application/vnd.databricks.v1+cell": {
     "cellMetadata": {
      "byteLimit": 2048000,
      "rowLimit": 10000
     },
     "inputWidgets": {},
     "nuid": "502b103c-2209-4910-80bd-1ef7c460afb2",
     "showTitle": false,
     "title": ""
    }
   },
   "outputs": [],
   "source": [
    "import seaborn as sns\n",
    "\n",
    "bar = sns.barplot(pd.DataFrame(p_value_001.items()), x=0, y=1)\n",
    "bar.set(xticklabels=[x for x in range(len(p_value_001))])"
   ]
  },
  {
   "cell_type": "markdown",
   "metadata": {
    "application/vnd.databricks.v1+cell": {
     "cellMetadata": {
      "byteLimit": 2048000,
      "rowLimit": 10000
     },
     "inputWidgets": {},
     "nuid": "5fb10449-96ed-4858-b80e-e9f8ed3ae60e",
     "showTitle": false,
     "title": ""
    }
   },
   "source": [
    "### (Additional) Part to investigate local approach for chi2 test\n",
    "- This part is to investigate how it works for performing chi2 test in transposed data"
   ]
  },
  {
   "cell_type": "code",
   "execution_count": null,
   "metadata": {
    "application/vnd.databricks.v1+cell": {
     "cellMetadata": {
      "byteLimit": 2048000,
      "rowLimit": 10000
     },
     "inputWidgets": {},
     "nuid": "6506ea53-03fd-40f6-9e1e-651049339556",
     "showTitle": false,
     "title": ""
    }
   },
   "outputs": [],
   "source": [
    "df_2_only = df_no_target_rdd.take(2)"
   ]
  },
  {
   "cell_type": "code",
   "execution_count": null,
   "metadata": {
    "application/vnd.databricks.v1+cell": {
     "cellMetadata": {
      "byteLimit": 2048000,
      "rowLimit": 10000
     },
     "inputWidgets": {},
     "nuid": "5b310c59-a360-4a58-87c0-8b4e8f43d0e4",
     "showTitle": false,
     "title": ""
    }
   },
   "outputs": [],
   "source": [
    "partition_df = pd.DataFrame(df_2_only, columns=df_cols)\n",
    "partition_df"
   ]
  },
  {
   "cell_type": "code",
   "execution_count": null,
   "metadata": {
    "application/vnd.databricks.v1+cell": {
     "cellMetadata": {
      "byteLimit": 2048000,
      "rowLimit": 10000
     },
     "inputWidgets": {},
     "nuid": "7760db41-6352-4caf-916e-9d2a151baeaf",
     "showTitle": false,
     "title": ""
    }
   },
   "outputs": [],
   "source": [
    "np.unique(target_bc.value)"
   ]
  },
  {
   "cell_type": "code",
   "execution_count": null,
   "metadata": {
    "application/vnd.databricks.v1+cell": {
     "cellMetadata": {
      "byteLimit": 2048000,
      "rowLimit": 10000
     },
     "inputWidgets": {},
     "nuid": "959c059b-e310-43bf-a9f0-d1ce4cde5606",
     "showTitle": false,
     "title": ""
    }
   },
   "outputs": [],
   "source": [
    "pd.crosstab(partition_df.iloc[0, 2:], target_bc.value)  # index, column"
   ]
  },
  {
   "cell_type": "code",
   "execution_count": null,
   "metadata": {
    "application/vnd.databricks.v1+cell": {
     "cellMetadata": {
      "byteLimit": 2048000,
      "rowLimit": 10000
     },
     "inputWidgets": {},
     "nuid": "09c2ad5a-0d92-4331-8e01-ef211adc136b",
     "showTitle": false,
     "title": ""
    }
   },
   "outputs": [],
   "source": [
    "from scipy.stats import chi2_contingency\n",
    "\n",
    "partition_df.apply(lambda x: {f\"{x[0]}_{x[1]}\": chi2_contingency(pd.crosstab(x[2:], target_bc.value))[1]}, axis=1).tolist()"
   ]
  }
 ],
 "metadata": {
  "application/vnd.databricks.v1+notebook": {
   "dashboards": [],
   "language": "python",
   "notebookMetadata": {
    "pythonIndentUnit": 2
   },
   "notebookName": "2 Chi2 test Feature Selection",
   "widgets": {}
  },
  "language_info": {
   "name": "python"
  }
 },
 "nbformat": 4,
 "nbformat_minor": 0
}
