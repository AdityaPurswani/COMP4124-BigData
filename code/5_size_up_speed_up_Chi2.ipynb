{
 "cells": [
  {
   "cell_type": "markdown",
   "metadata": {
    "application/vnd.databricks.v1+cell": {
     "cellMetadata": {
      "byteLimit": 2048000,
      "rowLimit": 10000
     },
     "inputWidgets": {},
     "nuid": "ad604226-fe8f-4b69-afbe-cf5754815a15",
     "showTitle": false,
     "title": ""
    }
   },
   "source": [
    "## Read one-hot csv"
   ]
  },
  {
   "cell_type": "code",
   "execution_count": 0,
   "metadata": {
    "application/vnd.databricks.v1+cell": {
     "cellMetadata": {
      "byteLimit": 2048000,
      "rowLimit": 10000
     },
     "inputWidgets": {},
     "nuid": "c0d9309e-a329-4a16-8ecc-24dac4591f53",
     "showTitle": false,
     "title": ""
    }
   },
   "outputs": [],
   "source": [
    "import numpy as np\n",
    "import pandas as pd\n",
    "from scipy.stats import chi2_contingency"
   ]
  },
  {
   "cell_type": "code",
   "execution_count": 0,
   "metadata": {
    "application/vnd.databricks.v1+cell": {
     "cellMetadata": {
      "byteLimit": 2048000,
      "rowLimit": 10000
     },
     "inputWidgets": {},
     "nuid": "29cba84f-18d7-42cb-8ad1-d8e937b76f44",
     "showTitle": false,
     "title": ""
    }
   },
   "outputs": [],
   "source": [
    "import pyspark.sql.functions as F\n",
    "import os\n",
    "\n",
    "data_folder = '/mnt/2024-team1/'\n",
    "\n",
    "csv_data = 'JanBDRcount_transpose.csv'\n",
    "raw_path = os.path.join(data_folder, csv_data)\n",
    "raw_path"
   ]
  },
  {
   "cell_type": "code",
   "execution_count": 0,
   "metadata": {
    "application/vnd.databricks.v1+cell": {
     "cellMetadata": {
      "byteLimit": 2048000,
      "rowLimit": 10000
     },
     "inputWidgets": {},
     "nuid": "9869183c-2bf5-4c0b-9601-b7f11e6745dc",
     "showTitle": false,
     "title": ""
    }
   },
   "outputs": [],
   "source": [
    "# read the one hot encoded file\n",
    "from pyspark.sql.types import *\n",
    "\n",
    "one_hot_path = data_folder + \"JanBDRcount_transpose_onehot.csv\"\n",
    "\n",
    "df = spark.read.csv(one_hot_path, header=True)"
   ]
  },
  {
   "cell_type": "code",
   "execution_count": 0,
   "metadata": {
    "application/vnd.databricks.v1+cell": {
     "cellMetadata": {
      "byteLimit": 2048000,
      "rowLimit": 10000
     },
     "inputWidgets": {},
     "nuid": "c70705ce-3ab7-4e5f-861a-e524469fb29c",
     "showTitle": false,
     "title": ""
    }
   },
   "outputs": [],
   "source": [
    "display(df)\n"
   ]
  },
  {
   "cell_type": "markdown",
   "metadata": {
    "application/vnd.databricks.v1+cell": {
     "cellMetadata": {
      "byteLimit": 2048000,
      "rowLimit": 10000
     },
     "inputWidgets": {},
     "nuid": "34e40d34-7895-4210-ac7d-8c296a3bb8b4",
     "showTitle": false,
     "title": ""
    }
   },
   "source": [
    "## String to int"
   ]
  },
  {
   "cell_type": "code",
   "execution_count": 0,
   "metadata": {
    "application/vnd.databricks.v1+cell": {
     "cellMetadata": {
      "byteLimit": 2048000,
      "rowLimit": 10000
     },
     "inputWidgets": {},
     "nuid": "afb45d9f-c8be-450b-8348-26231de7b9a6",
     "showTitle": false,
     "title": ""
    }
   },
   "outputs": [],
   "source": [
    "df = df.select(F.col(\"column\"), F.col(\"index\"), *[F.col(c).cast(IntegerType()) for c in df.columns[2:]]).cache()"
   ]
  },
  {
   "cell_type": "code",
   "execution_count": 0,
   "metadata": {
    "application/vnd.databricks.v1+cell": {
     "cellMetadata": {
      "byteLimit": 2048000,
      "rowLimit": 10000
     },
     "inputWidgets": {},
     "nuid": "8bd0443e-d0ea-4a82-8deb-665138b5bb03",
     "showTitle": false,
     "title": ""
    }
   },
   "outputs": [],
   "source": [
    "df.count()"
   ]
  },
  {
   "cell_type": "code",
   "execution_count": 0,
   "metadata": {
    "application/vnd.databricks.v1+cell": {
     "cellMetadata": {
      "byteLimit": 2048000,
      "rowLimit": 10000
     },
     "inputWidgets": {},
     "nuid": "0b1f709e-9616-47c3-8320-126aa682359c",
     "showTitle": false,
     "title": ""
    }
   },
   "outputs": [],
   "source": [
    "df.rdd.getNumPartitions()"
   ]
  },
  {
   "cell_type": "markdown",
   "metadata": {
    "application/vnd.databricks.v1+cell": {
     "cellMetadata": {
      "byteLimit": 2048000,
      "rowLimit": 10000
     },
     "inputWidgets": {},
     "nuid": "19b5f37c-801c-49b6-80d8-09468e68b3eb",
     "showTitle": false,
     "title": ""
    }
   },
   "source": [
    "## Size-up measure decorator"
   ]
  },
  {
   "cell_type": "code",
   "execution_count": 0,
   "metadata": {
    "application/vnd.databricks.v1+cell": {
     "cellMetadata": {
      "byteLimit": 2048000,
      "rowLimit": 10000
     },
     "inputWidgets": {},
     "nuid": "fe0f7e2d-c373-425f-8eb3-ab644842b69a",
     "showTitle": false,
     "title": ""
    }
   },
   "outputs": [],
   "source": [
    "def measure_size_up(func):\n",
    "  import time\n",
    "\n",
    "  def inner(df, split_count=10, num_of_partition = None):\n",
    "    if num_of_partition == None:\n",
    "      num_of_partition = df.rdd.getNumPartitions()\n",
    "    \n",
    "    # list for record all size-up value\n",
    "    size_up_li = []\n",
    "\n",
    "    for i in range(1, split_count+1):\n",
    "      df_small = df.sample((i/split_count))\n",
    "\n",
    "      print(df_small.count())\n",
    "      print(df_small.rdd.getNumPartitions())\n",
    "      \n",
    "      # perform operations and count the run time\n",
    "      start_time = time.time()\n",
    "      func(df_small)\n",
    "\n",
    "      size_up_li.append(time.time() - start_time)\n",
    "  \n",
    "    return size_up_li\n",
    "  \n",
    "  return inner\n"
   ]
  },
  {
   "cell_type": "markdown",
   "metadata": {
    "application/vnd.databricks.v1+cell": {
     "cellMetadata": {
      "byteLimit": 2048000,
      "rowLimit": 10000
     },
     "inputWidgets": {},
     "nuid": "167ffcd8-db61-445e-b391-c0a5a50560c2",
     "showTitle": false,
     "title": ""
    }
   },
   "source": [
    "## Speed up measure decorator"
   ]
  },
  {
   "cell_type": "code",
   "execution_count": 0,
   "metadata": {
    "application/vnd.databricks.v1+cell": {
     "cellMetadata": {
      "byteLimit": 2048000,
      "rowLimit": 10000
     },
     "inputWidgets": {},
     "nuid": "d5e026cd-1985-415d-9eea-1e55304abdeb",
     "showTitle": false,
     "title": ""
    }
   },
   "outputs": [],
   "source": [
    "def measure_speed_up(func):\n",
    "    import time\n",
    "\n",
    "    def inner(df):\n",
    "        num_of_partition = df.rdd.getNumPartitions()\n",
    "        print(\"total number of partition: \", num_of_partition)\n",
    "\n",
    "        target_num_of_partition = 16\n",
    "        # list for record all scale-up value\n",
    "        speed_up_li = []\n",
    "\n",
    "        for i in range(5, target_num_of_partition + 1):\n",
    "            if i <= num_of_partition:\n",
    "                df_small_partition = df.coalesce(i)\n",
    "            else:\n",
    "                df_small_partition = df.repartition(i)\n",
    "            # check we changed the number of partition\n",
    "            print(df_small_partition.count())\n",
    "            print(df_small_partition.rdd.getNumPartitions())\n",
    "\n",
    "            # perform operations and count the run time\n",
    "            start_time = time.time()\n",
    "            func(df_small_partition)\n",
    "            speed_up_li.append(time.time() - start_time)\n",
    "            print(time.time() - start_time)\n",
    "\n",
    "        return speed_up_li\n",
    "\n",
    "    return inner"
   ]
  },
  {
   "cell_type": "markdown",
   "metadata": {
    "application/vnd.databricks.v1+cell": {
     "cellMetadata": {
      "byteLimit": 2048000,
      "rowLimit": 10000
     },
     "inputWidgets": {},
     "nuid": "02f08165-d521-474b-aa60-a30c3e6514bd",
     "showTitle": false,
     "title": ""
    }
   },
   "source": [
    "## Measure Chi2 Test"
   ]
  },
  {
   "cell_type": "markdown",
   "metadata": {
    "application/vnd.databricks.v1+cell": {
     "cellMetadata": {
      "byteLimit": 2048000,
      "rowLimit": 10000
     },
     "inputWidgets": {},
     "nuid": "f6b39c51-1a97-4339-a648-9ef7c6a9cd2f",
     "showTitle": false,
     "title": ""
    }
   },
   "source": [
    "### Broadcast target"
   ]
  },
  {
   "cell_type": "code",
   "execution_count": 0,
   "metadata": {
    "application/vnd.databricks.v1+cell": {
     "cellMetadata": {
      "byteLimit": 2048000,
      "rowLimit": 10000
     },
     "inputWidgets": {},
     "nuid": "3db9554c-89a4-453e-87b3-5f1908379579",
     "showTitle": false,
     "title": ""
    }
   },
   "outputs": [],
   "source": [
    "# feature to be broadcasted\n",
    "df_no_target = df.filter(\"column != 'PHENOTYPE'\")\n",
    "\n",
    "df_target = df.filter('column = \"PHENOTYPE\"')\n",
    "\n",
    "target_np = np.array(df_target.collect())[0,2:].astype(int)\n",
    "\n",
    "target_bc = sc.broadcast(target_np)\n",
    "print(target_bc.value)"
   ]
  },
  {
   "cell_type": "markdown",
   "metadata": {
    "application/vnd.databricks.v1+cell": {
     "cellMetadata": {
      "byteLimit": 2048000,
      "rowLimit": 10000
     },
     "inputWidgets": {},
     "nuid": "039b1fbb-7a8a-4941-be69-c56c311c3134",
     "showTitle": false,
     "title": ""
    }
   },
   "source": [
    "### Size-up"
   ]
  },
  {
   "cell_type": "code",
   "execution_count": 0,
   "metadata": {
    "application/vnd.databricks.v1+cell": {
     "cellMetadata": {
      "byteLimit": 2048000,
      "rowLimit": 10000
     },
     "inputWidgets": {},
     "nuid": "2b562a31-ad1e-4631-9d46-824747412437",
     "showTitle": false,
     "title": ""
    }
   },
   "outputs": [],
   "source": [
    "@measure_size_up\n",
    "def chi2_feature_selection(df_no_target):\n",
    "\n",
    "  df_cols = df_no_target.columns\n",
    "  from sklearn.feature_selection import chi2\n",
    "\n",
    "  def do_chi2_test(partition_iter):\n",
    "\n",
    "    # change the partition_iter into a pandas dataframe\n",
    "    partition_df = pd.DataFrame(partition_iter, columns=df_cols)\n",
    "\n",
    "    # perform chi2 test\n",
    "    p_values = partition_df.apply(lambda x: {f\"{x[0]}_{x[1]}\": chi2_contingency(pd.crosstab(x[2:], target_bc.value))[1]}, axis=1).tolist()\n",
    "    return p_values\n",
    "  \n",
    "  df_no_target_rdd = df_no_target.rdd.cache()\n",
    "  models = df_no_target_rdd.mapPartitions(do_chi2_test)\n",
    "\n",
    "  p_values = models.collect()\n"
   ]
  },
  {
   "cell_type": "code",
   "execution_count": 0,
   "metadata": {
    "application/vnd.databricks.v1+cell": {
     "cellMetadata": {
      "byteLimit": 2048000,
      "rowLimit": 10000
     },
     "inputWidgets": {},
     "nuid": "d1241596-bc3c-47ac-8b66-c99ba155c130",
     "showTitle": false,
     "title": ""
    }
   },
   "outputs": [],
   "source": [
    "size_up_li = chi2_feature_selection(df_no_target)\n",
    "size_up_li"
   ]
  },
  {
   "cell_type": "code",
   "execution_count": 0,
   "metadata": {
    "application/vnd.databricks.v1+cell": {
     "cellMetadata": {
      "byteLimit": 2048000,
      "rowLimit": 10000
     },
     "inputWidgets": {},
     "nuid": "e9effd56-3486-4ef9-94ae-74fa1286a2bd",
     "showTitle": false,
     "title": ""
    }
   },
   "outputs": [],
   "source": [
    "size_up_li = [96.6624825000763,\n",
    " 153.14934420585632,\n",
    " 165.44122505187988,\n",
    " 226.1877691745758,\n",
    " 284.008672952652,\n",
    " 290.5138041973114,\n",
    " 404.09003734588623,\n",
    " 572.6911044120789,\n",
    " 395.5881383419037,\n",
    " 637.9775326251984]\n",
    "\n",
    "import matplotlib.pyplot as plt\n",
    "\n",
    "# plt.plot(range(len(size_up_li)), size_up_li)\n",
    "plt.plot([x * 0.1 for x in range(1, len(size_up_li)+1)], size_up_li)\n",
    "plt.xlabel(\"percent of data\")\n",
    "plt.ylabel(\"Run Time (sec)\")\n",
    "plt.show()"
   ]
  },
  {
   "cell_type": "markdown",
   "metadata": {
    "application/vnd.databricks.v1+cell": {
     "cellMetadata": {
      "byteLimit": 2048000,
      "rowLimit": 10000
     },
     "inputWidgets": {},
     "nuid": "76b9bb0f-15eb-43b1-8008-3c04d42ecb4d",
     "showTitle": false,
     "title": ""
    }
   },
   "source": [
    "### Speed-up"
   ]
  },
  {
   "cell_type": "code",
   "execution_count": 0,
   "metadata": {
    "application/vnd.databricks.v1+cell": {
     "cellMetadata": {
      "byteLimit": 2048000,
      "rowLimit": 10000
     },
     "inputWidgets": {},
     "nuid": "5a87db8c-5fda-4054-a674-67f9a5cc2f23",
     "showTitle": false,
     "title": ""
    }
   },
   "outputs": [],
   "source": [
    "@measure_speed_up\n",
    "def chi2_feature_selection(df_no_target):\n",
    "\n",
    "  df_cols = df_no_target.columns\n",
    "  from sklearn.feature_selection import chi2\n",
    "\n",
    "  def do_chi2_test(partition_iter):\n",
    "\n",
    "    # 1. change the provided iterator `partition_iter` into a pandas dataframe\n",
    "    partition_df = pd.DataFrame(partition_iter, columns=df_cols)\n",
    "\n",
    "    # perform chi2 test\n",
    "    p_values = partition_df.apply(lambda x: {f\"{x[0]}_{x[1]}\": chi2_contingency(pd.crosstab(x[2:], target_bc.value))[1]}, axis=1).tolist()\n",
    "    return p_values\n",
    "  \n",
    "  df_no_target_rdd = df_no_target.rdd.cache()\n",
    "  models = df_no_target_rdd.mapPartitions(do_chi2_test)\n",
    "    # 25 min for full dataset\n",
    "  p_values = models.collect()\n"
   ]
  },
  {
   "cell_type": "code",
   "execution_count": 0,
   "metadata": {
    "application/vnd.databricks.v1+cell": {
     "cellMetadata": {
      "byteLimit": 2048000,
      "rowLimit": 10000
     },
     "inputWidgets": {},
     "nuid": "5c093f6a-ab78-4ec4-818c-d91cbd1eb727",
     "showTitle": false,
     "title": ""
    }
   },
   "outputs": [],
   "source": [
    "speed_up_li = chi2_feature_selection(df_no_target)"
   ]
  },
  {
   "cell_type": "code",
   "execution_count": 0,
   "metadata": {
    "application/vnd.databricks.v1+cell": {
     "cellMetadata": {
      "byteLimit": 2048000,
      "rowLimit": 10000
     },
     "inputWidgets": {},
     "nuid": "010033c4-2ded-4dfd-b838-de8050416547",
     "showTitle": false,
     "title": ""
    }
   },
   "outputs": [],
   "source": [
    "speed_up_li"
   ]
  },
  {
   "cell_type": "code",
   "execution_count": 0,
   "metadata": {
    "application/vnd.databricks.v1+cell": {
     "cellMetadata": {
      "byteLimit": 2048000,
      "rowLimit": 10000
     },
     "inputWidgets": {},
     "nuid": "647e1042-4e9f-414c-8229-ef9b55b0ed3d",
     "showTitle": false,
     "title": ""
    }
   },
   "outputs": [],
   "source": [
    "import matplotlib.pyplot as plt\n",
    "\n",
    "speed_up_li = [1509.6186542510986,\n",
    " 1596.1182825565338,\n",
    " 1595.4099326133728,\n",
    " 1959.622414112091,\n",
    " 1091.4868171215057,\n",
    " 1521.2955095767975,\n",
    " 1244.9953787326813,\n",
    " 1147.015658378601,\n",
    " 1411.430251121521,\n",
    " 1183.6906626224518,\n",
    " 1299.2799725532532,\n",
    " 1130.5113909244537]\n",
    "\n",
    "plt.plot(range(3, 3 + len(speed_up_li)), speed_up_li)\n",
    "plt.xlabel(\"Number of Clusters\")\n",
    "plt.ylabel(\"Run Time (sec)\")\n",
    "plt.show()"
   ]
  }
 ],
 "metadata": {
  "application/vnd.databricks.v1+notebook": {
   "dashboards": [],
   "language": "python",
   "notebookMetadata": {
    "pythonIndentUnit": 2
   },
   "notebookName": "5 size up - speed up - Chi2",
   "widgets": {}
  }
 },
 "nbformat": 4,
 "nbformat_minor": 0
}
