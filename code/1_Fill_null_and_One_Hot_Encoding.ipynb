{
 "cells": [
  {
   "cell_type": "markdown",
   "metadata": {
    "application/vnd.databricks.v1+cell": {
     "cellMetadata": {
      "byteLimit": 2048000,
      "rowLimit": 10000
     },
     "inputWidgets": {},
     "nuid": "68013540-5650-47c7-b777-c22899255f69",
     "showTitle": false,
     "title": ""
    }
   },
   "source": [
    "### Read data"
   ]
  },
  {
   "cell_type": "code",
   "execution_count": 0,
   "metadata": {
    "application/vnd.databricks.v1+cell": {
     "cellMetadata": {
      "byteLimit": 2048000,
      "rowLimit": 10000
     },
     "inputWidgets": {},
     "nuid": "aecc4824-567e-46fa-9a5a-3a5751518aaf",
     "showTitle": false,
     "title": ""
    }
   },
   "outputs": [],
   "source": [
    "import pyspark.sql.functions as F"
   ]
  },
  {
   "cell_type": "code",
   "execution_count": 0,
   "metadata": {
    "application/vnd.databricks.v1+cell": {
     "cellMetadata": {
      "byteLimit": 2048000,
      "rowLimit": 10000
     },
     "inputWidgets": {},
     "nuid": "ae521dcf-699e-4c4c-9801-8e0ec66d7be1",
     "showTitle": false,
     "title": ""
    }
   },
   "outputs": [],
   "source": [
    "import os\n",
    "\n",
    "data_folder = '/mnt/2024-team1/'\n",
    "\n",
    "csv_data = 'JanBDRcount_transpose.csv'\n",
    "raw_path = os.path.join(data_folder, csv_data)\n",
    "\n",
    "raw_path\n"
   ]
  },
  {
   "cell_type": "code",
   "execution_count": 0,
   "metadata": {
    "application/vnd.databricks.v1+cell": {
     "cellMetadata": {
      "byteLimit": 2048000,
      "rowLimit": 10000
     },
     "inputWidgets": {},
     "nuid": "2c58d0dc-d1d6-4eab-bb44-639ef2fe1e00",
     "showTitle": false,
     "title": ""
    }
   },
   "outputs": [],
   "source": [
    "df = spark.read.csv(raw_path, header=True)\n"
   ]
  },
  {
   "cell_type": "code",
   "execution_count": 0,
   "metadata": {
    "application/vnd.databricks.v1+cell": {
     "cellMetadata": {
      "byteLimit": 2048000,
      "rowLimit": 10000
     },
     "inputWidgets": {},
     "nuid": "6c860776-197a-456d-a6fb-382acb247c4f",
     "showTitle": false,
     "title": ""
    }
   },
   "outputs": [],
   "source": [
    "display(df)"
   ]
  },
  {
   "cell_type": "code",
   "execution_count": 0,
   "metadata": {
    "application/vnd.databricks.v1+cell": {
     "cellMetadata": {
      "byteLimit": 2048000,
      "rowLimit": 10000
     },
     "inputWidgets": {},
     "nuid": "2a6aff0a-b84a-4663-8c8c-43fa1a8027d6",
     "showTitle": false,
     "title": ""
    }
   },
   "outputs": [],
   "source": [
    "df.printSchema()"
   ]
  },
  {
   "cell_type": "markdown",
   "metadata": {
    "application/vnd.databricks.v1+cell": {
     "cellMetadata": {
      "byteLimit": 2048000,
      "rowLimit": 10000
     },
     "inputWidgets": {},
     "nuid": "a55e227d-de02-4f9b-af7b-43cdbae38417",
     "showTitle": false,
     "title": ""
    }
   },
   "source": [
    "### Convert datatype to int"
   ]
  },
  {
   "cell_type": "code",
   "execution_count": 0,
   "metadata": {
    "application/vnd.databricks.v1+cell": {
     "cellMetadata": {
      "byteLimit": 2048000,
      "rowLimit": 10000
     },
     "inputWidgets": {},
     "nuid": "5e7f8337-60e0-4926-abe6-a2382904ea3f",
     "showTitle": false,
     "title": ""
    }
   },
   "outputs": [],
   "source": [
    "from pyspark.sql.types import IntegerType\n",
    "\n",
    "df = df.select(F.col(\"column\"), *[F.col(c).cast(IntegerType()) for c in df.columns[1:]])"
   ]
  },
  {
   "cell_type": "code",
   "execution_count": 0,
   "metadata": {
    "application/vnd.databricks.v1+cell": {
     "cellMetadata": {
      "byteLimit": 2048000,
      "rowLimit": 10000
     },
     "inputWidgets": {},
     "nuid": "89b94746-f296-48c4-9dd6-25264af8e9d3",
     "showTitle": false,
     "title": ""
    }
   },
   "outputs": [],
   "source": [
    "df.count()"
   ]
  },
  {
   "cell_type": "code",
   "execution_count": 0,
   "metadata": {
    "application/vnd.databricks.v1+cell": {
     "cellMetadata": {
      "byteLimit": 2048000,
      "rowLimit": 10000
     },
     "inputWidgets": {},
     "nuid": "117622fb-1540-4d3f-aaad-b8d69ed6ad7a",
     "showTitle": false,
     "title": ""
    }
   },
   "outputs": [],
   "source": [
    "df.printSchema()"
   ]
  },
  {
   "cell_type": "markdown",
   "metadata": {
    "application/vnd.databricks.v1+cell": {
     "cellMetadata": {
      "byteLimit": 2048000,
      "rowLimit": 10000
     },
     "inputWidgets": {},
     "nuid": "eab6ce79-83c8-44a6-bc81-33af8ed4751b",
     "showTitle": false,
     "title": ""
    }
   },
   "source": [
    "### Remove unwanted features"
   ]
  },
  {
   "cell_type": "code",
   "execution_count": 0,
   "metadata": {
    "application/vnd.databricks.v1+cell": {
     "cellMetadata": {
      "byteLimit": 2048000,
      "rowLimit": 10000
     },
     "inputWidgets": {},
     "nuid": "e9ef2f99-f8dd-4291-be20-9dffec96bbcf",
     "showTitle": false,
     "title": ""
    }
   },
   "outputs": [],
   "source": [
    "to_remove = ['FID', 'IID', 'PAT', 'MAT']\n",
    "df_dropped = df.filter(~F.col('column').isin(to_remove))"
   ]
  },
  {
   "cell_type": "code",
   "execution_count": 0,
   "metadata": {
    "application/vnd.databricks.v1+cell": {
     "cellMetadata": {
      "byteLimit": 2048000,
      "rowLimit": 10000
     },
     "inputWidgets": {},
     "nuid": "84c72599-2082-4f47-9809-7699862cc73d",
     "showTitle": false,
     "title": ""
    }
   },
   "outputs": [],
   "source": [
    "display(df_dropped)"
   ]
  },
  {
   "cell_type": "code",
   "execution_count": 0,
   "metadata": {
    "application/vnd.databricks.v1+cell": {
     "cellMetadata": {
      "byteLimit": 2048000,
      "rowLimit": 10000
     },
     "inputWidgets": {},
     "nuid": "71de59ae-dbe8-43d9-bf97-bfe2cc8e8ff5",
     "showTitle": false,
     "title": ""
    }
   },
   "outputs": [],
   "source": [
    "# # Check whether null value exist in the dataframe\n",
    "# # remove the following comment to run the code\n",
    "\n",
    "# contains_nulls = False\n",
    "# for c in df.columns:\n",
    "#   if not df.where(F.col(c).isNull()).limit(1).isEmpty():\n",
    "#     contains_nulls = True\n",
    "#     break\n",
    "\n",
    "# print(\"if contain null: \", contains_nulls)\n"
   ]
  },
  {
   "cell_type": "code",
   "execution_count": 0,
   "metadata": {
    "application/vnd.databricks.v1+cell": {
     "cellMetadata": {
      "byteLimit": 2048000,
      "rowLimit": 10000
     },
     "inputWidgets": {},
     "nuid": "d95ebaff-9161-479b-b7da-3a5e915be0a5",
     "showTitle": false,
     "title": ""
    }
   },
   "outputs": [],
   "source": [
    "df_fillna = df_dropped.na.fill(3)"
   ]
  },
  {
   "cell_type": "code",
   "execution_count": 0,
   "metadata": {
    "application/vnd.databricks.v1+cell": {
     "cellMetadata": {
      "byteLimit": 2048000,
      "rowLimit": 10000
     },
     "inputWidgets": {},
     "nuid": "bf2f9d1d-dca3-4c36-a147-d638326babe7",
     "showTitle": false,
     "title": ""
    }
   },
   "outputs": [],
   "source": [
    "display(df_fillna)"
   ]
  },
  {
   "cell_type": "markdown",
   "metadata": {
    "application/vnd.databricks.v1+cell": {
     "cellMetadata": {
      "byteLimit": 2048000,
      "rowLimit": 10000
     },
     "inputWidgets": {},
     "nuid": "a2a52522-3d13-41ba-9be4-ca990b4b5784",
     "showTitle": false,
     "title": ""
    }
   },
   "source": [
    "### One hot encoding"
   ]
  },
  {
   "cell_type": "code",
   "execution_count": 0,
   "metadata": {
    "application/vnd.databricks.v1+cell": {
     "cellMetadata": {
      "byteLimit": 2048000,
      "rowLimit": 10000
     },
     "inputWidgets": {},
     "nuid": "5b00cfde-108e-4798-9ba2-26aba317ecbe",
     "showTitle": false,
     "title": ""
    }
   },
   "outputs": [],
   "source": [
    "# 19 min\n",
    "from pyspark.ml.feature import VectorAssembler\n",
    "\n",
    "df_gene = df_fillna.filter(~F.col('column').isin(['SEX', 'PHENOTYPE']))\n",
    "df_sex = df_fillna.filter('column = \"SEX\"')\n",
    "df_target = df_fillna.filter('column = \"PHENOTYPE\"')\n",
    "               "
   ]
  },
  {
   "cell_type": "code",
   "execution_count": 0,
   "metadata": {
    "application/vnd.databricks.v1+cell": {
     "cellMetadata": {
      "byteLimit": 2048000,
      "rowLimit": 10000
     },
     "inputWidgets": {},
     "nuid": "51f7e332-459d-4973-ba77-a89d9f277cf1",
     "showTitle": false,
     "title": ""
    }
   },
   "outputs": [],
   "source": [
    "# 10 min\n",
    "\n",
    "def one_hot_encode_sex(c):\n",
    "    return F.when(df_sex[c] == 1, F.lit([1, 0])).otherwise(\n",
    "        F.when(df_sex[c] == 2, F.lit([0, 1]))\n",
    "      ).alias(c)\n",
    "\n",
    "df_sex_onehot = df_sex.select(\n",
    "  F.col(\"column\"), *list(map(one_hot_encode_sex, df.columns[1:]))\n",
    "  )\n",
    "\n",
    "def one_hot_encode_gene(c):\n",
    "    return F.when(df_gene[c] == 0, F.lit([1, 0, 0])).otherwise(\n",
    "            F.when(df_gene[c] == 1, F.lit([0, 1, 0])).otherwise(\n",
    "                    F.when(df_gene[c] == 2, F.lit([0, 0, 1])).otherwise(F.lit([0, 0, 0]))\n",
    "                )\n",
    "          ).alias(c)\n",
    "\n",
    "df_gene_onehot = df_gene.select(\n",
    "  F.col(\"column\"), *list(map(one_hot_encode_gene, df.columns[1:]))\n",
    "  )\n"
   ]
  },
  {
   "cell_type": "code",
   "execution_count": 0,
   "metadata": {
    "application/vnd.databricks.v1+cell": {
     "cellMetadata": {
      "byteLimit": 2048000,
      "rowLimit": 10000
     },
     "inputWidgets": {},
     "nuid": "dff05315-16cd-48a2-a33c-5d6863417762",
     "showTitle": false,
     "title": ""
    }
   },
   "outputs": [],
   "source": [
    "display(df_gene_onehot)"
   ]
  },
  {
   "cell_type": "code",
   "execution_count": 0,
   "metadata": {
    "application/vnd.databricks.v1+cell": {
     "cellMetadata": {
      "byteLimit": 2048000,
      "rowLimit": 10000
     },
     "inputWidgets": {},
     "nuid": "9bf921be-4ac4-4e55-b46d-0d318b57c8af",
     "showTitle": false,
     "title": ""
    }
   },
   "outputs": [],
   "source": [
    "from pyspark.sql.functions import arrays_zip, col, explode\n",
    "\n",
    "cols = df.columns[1:]\n",
    "\n",
    "# ref: https://stackoverflow.com/questions/41027315/pyspark-split-multiple-array-columns-into-rows\n",
    "# ref: https://stackoverflow.com/questions/69162207/pyspark-explode-list-creating-column-with-index-in-list\n",
    "\n",
    "df_sex_exp = (df_sex_onehot\n",
    "    .withColumn(\"tmp\", arrays_zip(*cols))\n",
    "    .select(col(\"column\"), F.posexplode_outer(\"tmp\").alias(\"index\", \"tmp\"))\n",
    "    .select(col(\"column\"), col(\"index\"), *[col(f\"tmp.{c}\") for c in cols]))\n",
    "\n",
    "df_gene_exp = (df_gene_onehot\n",
    "    .withColumn(\"tmp\", arrays_zip(*cols))\n",
    "    .select(col(\"column\"), F.posexplode_outer(\"tmp\").alias(\"index\", \"tmp\"))\n",
    "    .select(col(\"column\"), col(\"index\"), *[col(f\"tmp.{c}\") for c in cols]))\n"
   ]
  },
  {
   "cell_type": "code",
   "execution_count": 0,
   "metadata": {
    "application/vnd.databricks.v1+cell": {
     "cellMetadata": {
      "byteLimit": 2048000,
      "rowLimit": 10000
     },
     "inputWidgets": {},
     "nuid": "0d118588-2324-46ac-9117-7ca07c4158a0",
     "showTitle": false,
     "title": ""
    }
   },
   "outputs": [],
   "source": [
    "display(df_sex_exp)"
   ]
  },
  {
   "cell_type": "code",
   "execution_count": 0,
   "metadata": {
    "application/vnd.databricks.v1+cell": {
     "cellMetadata": {
      "byteLimit": 2048000,
      "rowLimit": 10000
     },
     "inputWidgets": {},
     "nuid": "d5cbb574-6cb1-418b-84bc-0c220b001b05",
     "showTitle": false,
     "title": ""
    }
   },
   "outputs": [],
   "source": [
    "df_feat = df_sex_exp.union(df_gene_exp)"
   ]
  },
  {
   "cell_type": "code",
   "execution_count": 0,
   "metadata": {
    "application/vnd.databricks.v1+cell": {
     "cellMetadata": {
      "byteLimit": 2048000,
      "rowLimit": 10000
     },
     "inputWidgets": {},
     "nuid": "884c33b6-7730-4ce6-bc74-7729b957e806",
     "showTitle": false,
     "title": ""
    }
   },
   "outputs": [],
   "source": [
    "display(df_feat)"
   ]
  },
  {
   "cell_type": "code",
   "execution_count": 0,
   "metadata": {
    "application/vnd.databricks.v1+cell": {
     "cellMetadata": {
      "byteLimit": 2048000,
      "rowLimit": 10000
     },
     "inputWidgets": {},
     "nuid": "5b060c66-708b-4592-b8ac-e6a6e7a21971",
     "showTitle": false,
     "title": ""
    }
   },
   "outputs": [],
   "source": [
    "df_target_with_index = df_target.withColumn(\"index\", F.lit(0))\n",
    "\n",
    "# re-order columns\n",
    "df_target_with_index = df_target_with_index.select(F.col(\"column\"), F.col(\"index\"), *[F.col(c) for c in df.columns if c not in [\"column\", \"index\"]])"
   ]
  },
  {
   "cell_type": "code",
   "execution_count": 0,
   "metadata": {
    "application/vnd.databricks.v1+cell": {
     "cellMetadata": {
      "byteLimit": 2048000,
      "rowLimit": 10000
     },
     "inputWidgets": {},
     "nuid": "d721f54f-9110-47b8-9eb6-30719096c557",
     "showTitle": false,
     "title": ""
    }
   },
   "outputs": [],
   "source": [
    "df_target_with_index.printSchema()"
   ]
  },
  {
   "cell_type": "code",
   "execution_count": 0,
   "metadata": {
    "application/vnd.databricks.v1+cell": {
     "cellMetadata": {
      "byteLimit": 2048000,
      "rowLimit": 10000
     },
     "inputWidgets": {},
     "nuid": "102a8430-b275-4939-ab60-347ed92d35e9",
     "showTitle": false,
     "title": ""
    }
   },
   "outputs": [],
   "source": [
    "df_all = df_feat.union(df_target_with_index)"
   ]
  },
  {
   "cell_type": "code",
   "execution_count": 0,
   "metadata": {
    "application/vnd.databricks.v1+cell": {
     "cellMetadata": {
      "byteLimit": 2048000,
      "rowLimit": 10000
     },
     "inputWidgets": {},
     "nuid": "748c93e2-abfa-4368-abd1-b3e2aafaa086",
     "showTitle": false,
     "title": ""
    }
   },
   "outputs": [],
   "source": [
    "display(df_all)"
   ]
  },
  {
   "cell_type": "markdown",
   "metadata": {
    "application/vnd.databricks.v1+cell": {
     "cellMetadata": {
      "byteLimit": 2048000,
      "rowLimit": 10000
     },
     "inputWidgets": {},
     "nuid": "d2ae8d95-f7a1-4854-aa0e-4ead4e6092be",
     "showTitle": false,
     "title": ""
    }
   },
   "source": [
    "### Save one-hot encoded data for subsequent process"
   ]
  },
  {
   "cell_type": "code",
   "execution_count": 0,
   "metadata": {
    "application/vnd.databricks.v1+cell": {
     "cellMetadata": {
      "byteLimit": 2048000,
      "rowLimit": 10000
     },
     "inputWidgets": {},
     "nuid": "c180861b-fe61-4039-a2cd-490902e2899a",
     "showTitle": false,
     "title": ""
    }
   },
   "outputs": [],
   "source": [
    "write_path = data_folder + \"JanBDRcount_transpose_onehot.csv\"\n",
    "write_path"
   ]
  },
  {
   "cell_type": "code",
   "execution_count": 0,
   "metadata": {
    "application/vnd.databricks.v1+cell": {
     "cellMetadata": {
      "byteLimit": 2048000,
      "rowLimit": 10000
     },
     "inputWidgets": {},
     "nuid": "99f7c09f-7398-41ba-ad9b-b580ddf9214f",
     "showTitle": false,
     "title": ""
    }
   },
   "outputs": [],
   "source": [
    "df_all.write.csv(write_path, header=True, sep=',', mode=\"overwrite\")"
   ]
  },
  {
   "cell_type": "code",
   "execution_count": 0,
   "metadata": {
    "application/vnd.databricks.v1+cell": {
     "cellMetadata": {
      "byteLimit": 2048000,
      "rowLimit": 10000
     },
     "inputWidgets": {},
     "nuid": "028c9041-784c-4502-b879-62d42a011c5e",
     "showTitle": false,
     "title": ""
    }
   },
   "outputs": [],
   "source": [
    "# write schema\n",
    "import json\n",
    "\n",
    "df_all.schema.json()\n",
    "\n",
    "dbutils.fs.put(data_folder + \"one_hot_schema.json\", df_all.schema.json(), overwrite=True)\n"
   ]
  },
  {
   "cell_type": "code",
   "execution_count": 0,
   "metadata": {
    "application/vnd.databricks.v1+cell": {
     "cellMetadata": {
      "byteLimit": 2048000,
      "rowLimit": 10000
     },
     "inputWidgets": {},
     "nuid": "e24a7f24-0187-4c5f-bb4d-d767e232e400",
     "showTitle": false,
     "title": ""
    }
   },
   "outputs": [],
   "source": [
    "df_test = spark.read.csv(write_path, header=True)"
   ]
  },
  {
   "cell_type": "code",
   "execution_count": 0,
   "metadata": {
    "application/vnd.databricks.v1+cell": {
     "cellMetadata": {
      "byteLimit": 2048000,
      "rowLimit": 10000
     },
     "inputWidgets": {},
     "nuid": "2384f52f-5f2c-4c8b-819b-0c84443ee432",
     "showTitle": false,
     "title": ""
    }
   },
   "outputs": [],
   "source": [
    "display(df_test)"
   ]
  },
  {
   "cell_type": "code",
   "execution_count": 0,
   "metadata": {
    "application/vnd.databricks.v1+cell": {
     "cellMetadata": {
      "byteLimit": 2048000,
      "rowLimit": 10000
     },
     "inputWidgets": {},
     "nuid": "92e6e7b7-16cd-45ff-8dde-d4a9d64345f0",
     "showTitle": false,
     "title": ""
    }
   },
   "outputs": [],
   "source": [
    "# check target exist in the saved file\n",
    "\n",
    "df_test.filter(F.col(\"column\") == \"PHENOTYPE\").show()"
   ]
  }
 ],
 "metadata": {
  "application/vnd.databricks.v1+notebook": {
   "dashboards": [],
   "language": "python",
   "notebookMetadata": {
    "pythonIndentUnit": 2
   },
   "notebookName": "1 Fill null and One Hot Encoding",
   "widgets": {}
  }
 },
 "nbformat": 4,
 "nbformat_minor": 0
}
